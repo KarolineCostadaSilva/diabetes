{
 "cells": [
  {
   "cell_type": "code",
   "execution_count": null,
   "metadata": {},
   "outputs": [
    {
     "name": "stderr",
     "output_type": "stream",
     "text": [
      "c:\\Users\\PC\\.conda\\envs\\venvmodel\\lib\\site-packages\\tqdm\\auto.py:21: TqdmWarning: IProgress not found. Please update jupyter and ipywidgets. See https://ipywidgets.readthedocs.io/en/stable/user_install.html\n",
      "  from .autonotebook import tqdm as notebook_tqdm\n"
     ]
    }
   ],
   "source": [
    "# Importando as Bibliotecas Necessárias\n",
    "import pandas as pd\n",
    "import numpy as np\n",
    "\n",
    "# Modelos\n",
    "from sklearn.neighbors import KNeighborsClassifier\n",
    "from sklearn.tree import DecisionTreeClassifier\n",
    "from sklearn.svm import SVC\n",
    "from sklearn.ensemble import RandomForestClassifier, StackingClassifier, VotingClassifier\n",
    "from sklearn.neural_network import MLPClassifier\n",
    "from xgboost import XGBClassifier\n",
    "from lightgbm import LGBMClassifier\n",
    "from sklearn_lvq import GlvqModel\n",
    "\n",
    "# Validação e métricas\n",
    "from sklearn.model_selection import train_test_split, cross_val_score, KFold\n",
    "from sklearn.metrics import accuracy_score, f1_score, recall_score, roc_auc_score, roc_curve\n",
    "from sklearn.preprocessing import LabelEncoder\n",
    "from sklearn.pipeline import Pipeline\n",
    "\n",
    "# Bibliotecas adicionais\n",
    "import optuna\n",
    "from optuna.integration.mlflow import MLflowCallback\n",
    "import mlflow\n",
    "import mlflow.sklearn\n",
    "import matplotlib.pyplot as plt\n",
    "import seaborn as sns"
   ]
  },
  {
   "cell_type": "code",
   "execution_count": null,
   "metadata": {},
   "outputs": [
    {
     "data": {
      "text/plain": [
       "<Experiment: artifact_location='file:///c:/Users/PC/Documents/GitHub/diabetes/mlruns/529707021101234128', creation_time=1732319685838, experiment_id='529707021101234128', last_update_time=1732319685838, lifecycle_stage='active', name='Modelagem de Classificação com Optuna', tags={}>"
      ]
     },
     "execution_count": 3,
     "metadata": {},
     "output_type": "execute_result"
    }
   ],
   "source": [
    "# Configurando o MLflow\n",
    "mlflow.set_experiment(\"Modelagem de Classificação\")\n"
   ]
  },
  {
   "cell_type": "code",
   "execution_count": 4,
   "metadata": {},
   "outputs": [],
   "source": [
    "# Carregando os conjuntos de dados\n",
    "train_data = pd.read_csv('train_data.csv')\n",
    "validation_data = pd.read_csv('validation_data.csv')\n",
    "test_data = pd.read_csv('test_data.csv')\n"
   ]
  },
  {
   "cell_type": "code",
   "execution_count": 4,
   "metadata": {},
   "outputs": [],
   "source": [
    "# Separando features e target no conjunto de treinamento\n",
    "X_train = train_data.drop('class', axis=1)\n",
    "y_train = train_data['class']\n",
    "\n",
    "# Separando features e target no conjunto de validação\n",
    "X_val = validation_data.drop('class', axis=1)\n",
    "y_val = validation_data['class']\n",
    "\n",
    "# Conjunto de teste\n",
    "X_test = test_data.drop('class', axis=1)\n",
    "y_test = test_data['class']\n"
   ]
  },
  {
   "cell_type": "code",
   "execution_count": null,
   "metadata": {},
   "outputs": [],
   "source": [
    "# Definindo uma Função de Avaliação\n",
    "def evaluate_model(model, X_train, y_train, X_val, y_val):\n",
    "    model.fit(X_train, y_train)\n",
    "    y_pred = model.predict(X_val)\n",
    "    acc = accuracy_score(y_val, y_pred)\n",
    "    f1 = f1_score(y_val, y_pred, average='weighted')\n",
    "    recall = recall_score(y_val, y_pred, average='weighted')\n",
    "    if hasattr(model, \"predict_proba\"):\n",
    "        y_prob = model.predict_proba(X_val)\n",
    "        if y_prob.ndim == 1 or y_prob.shape[1] == 2:\n",
    "            y_prob = y_prob[:, -1]  # Para classes binárias\n",
    "            roc_auc = roc_auc_score(y_val, y_prob)\n",
    "        else:\n",
    "            roc_auc = roc_auc_score(y_val, y_prob, multi_class='ovo', average='weighted')\n",
    "    else:\n",
    "        roc_auc = None\n",
    "    return acc, f1, recall, roc_auc\n"
   ]
  },
  {
   "cell_type": "code",
   "execution_count": null,
   "metadata": {},
   "outputs": [],
   "source": [
    "# Definindo os Modelos\n",
    "models = {\n",
    "    'K-NN': KNeighborsClassifier(),\n",
    "    'LVQ': GlvqModel(),\n",
    "    'Árvore de Decisão': DecisionTreeClassifier(),\n",
    "    'SVM': SVC(probability=True),\n",
    "    'Random Forest': RandomForestClassifier(),\n",
    "    'Rede Neural MLP': MLPClassifier(max_iter=500),\n",
    "    'Comitê de Redes Neurais Artificiais': None,  # Será definido posteriormente\n",
    "    'Comitê Heterogêneo (Stacking)': None,       # Será definido posteriormente\n",
    "    'XGBoost': XGBClassifier(use_label_encoder=False, eval_metric='logloss'),\n",
    "    'LightGBM': LGBMClassifier()\n",
    "}\n"
   ]
  },
  {
   "cell_type": "code",
   "execution_count": 7,
   "metadata": {},
   "outputs": [],
   "source": [
    "# Comitê de Redes Neurais Artificiais\n",
    "# Definindo múltiplas redes neurais\n",
    "nn1 = MLPClassifier(hidden_layer_sizes=(50,), activation='relu', solver='adam', max_iter=500, random_state=1)\n",
    "nn2 = MLPClassifier(hidden_layer_sizes=(100,), activation='tanh', solver='sgd', max_iter=500, random_state=2)\n",
    "nn3 = MLPClassifier(hidden_layer_sizes=(50, 50), activation='relu', solver='adam', max_iter=500, random_state=3)\n",
    "\n",
    "# Criando o Comitê\n",
    "committee_nn = VotingClassifier(estimators=[\n",
    "    ('nn1', nn1),\n",
    "    ('nn2', nn2),\n",
    "    ('nn3', nn3)\n",
    "], voting='soft')\n",
    "\n",
    "models['Comitê de Redes Neurais Artificiais'] = committee_nn\n"
   ]
  },
  {
   "cell_type": "code",
   "execution_count": 8,
   "metadata": {},
   "outputs": [],
   "source": [
    "# Comitê Heterogêneo (Stacking)\n",
    "# Modelos base\n",
    "estimators = [\n",
    "    ('rf', RandomForestClassifier(n_estimators=100, random_state=42)),\n",
    "    ('svm', SVC(probability=True, random_state=42)),\n",
    "    ('knn', KNeighborsClassifier())\n",
    "]\n",
    "\n",
    "# Modelo meta\n",
    "from sklearn.linear_model import LogisticRegression\n",
    "final_estimator = LogisticRegression()\n",
    "\n",
    "# Criando o StackingClassifier\n",
    "stacking_model = StackingClassifier(estimators=estimators, final_estimator=final_estimator, cv=5)\n",
    "\n",
    "models['Comitê Heterogêneo (Stacking)'] = stacking_model\n"
   ]
  },
  {
   "cell_type": "code",
   "execution_count": 9,
   "metadata": {},
   "outputs": [
    {
     "name": "stderr",
     "output_type": "stream",
     "text": [
      "2024/11/22 20:54:53 WARNING mlflow.models.model: Model logged without a signature and input example. Please set `input_example` parameter when logging the model to auto infer the model signature.\n"
     ]
    },
    {
     "name": "stdout",
     "output_type": "stream",
     "text": [
      "K-NN - Acurácia: 0.8749487014129097, F1-Score: 0.8305980818922424, Recall: 0.8749487014129097, ROC AUC: 0.5054859295809839\n"
     ]
    },
    {
     "name": "stderr",
     "output_type": "stream",
     "text": [
      "2024/11/22 20:54:55 WARNING mlflow.models.model: Model logged without a signature and input example. Please set `input_example` parameter when logging the model to auto infer the model signature.\n"
     ]
    },
    {
     "name": "stdout",
     "output_type": "stream",
     "text": [
      "LVQ - Acurácia: 0.5108166735064783, F1-Score: 0.5965374024166652, Recall: 0.5108166735064783, ROC AUC: None\n"
     ]
    },
    {
     "name": "stderr",
     "output_type": "stream",
     "text": [
      "2024/11/22 20:54:58 WARNING mlflow.models.model: Model logged without a signature and input example. Please set `input_example` parameter when logging the model to auto infer the model signature.\n"
     ]
    },
    {
     "name": "stdout",
     "output_type": "stream",
     "text": [
      "Árvore de Decisão - Acurácia: 0.797443864688984, F1-Score: 0.8035671899673817, Recall: 0.797443864688984, ROC AUC: 0.5278021874946004\n"
     ]
    },
    {
     "name": "stderr",
     "output_type": "stream",
     "text": [
      "2024/11/22 21:09:25 WARNING mlflow.models.model: Model logged without a signature and input example. Please set `input_example` parameter when logging the model to auto infer the model signature.\n"
     ]
    },
    {
     "name": "stdout",
     "output_type": "stream",
     "text": [
      "SVM - Acurácia: 0.8869672275312188, F1-Score: 0.8338362757298086, Recall: 0.8869672275312188, ROC AUC: 0.5397813588752223\n"
     ]
    },
    {
     "name": "stderr",
     "output_type": "stream",
     "text": [
      "2024/11/22 21:09:36 WARNING mlflow.models.model: Model logged without a signature and input example. Please set `input_example` parameter when logging the model to auto infer the model signature.\n"
     ]
    },
    {
     "name": "stdout",
     "output_type": "stream",
     "text": [
      "Random Forest - Acurácia: 0.8869672275312188, F1-Score: 0.8349637410004834, Recall: 0.8869672275312188, ROC AUC: 0.6420513699747867\n"
     ]
    },
    {
     "name": "stderr",
     "output_type": "stream",
     "text": [
      "2024/11/22 21:09:52 WARNING mlflow.models.model: Model logged without a signature and input example. Please set `input_example` parameter when logging the model to auto infer the model signature.\n"
     ]
    },
    {
     "name": "stdout",
     "output_type": "stream",
     "text": [
      "Rede Neural MLP - Acurácia: 0.8859705692677493, F1-Score: 0.8350063672423627, Recall: 0.8859705692677493, ROC AUC: 0.6406096025083315\n"
     ]
    },
    {
     "name": "stderr",
     "output_type": "stream",
     "text": [
      "2024/11/22 21:11:04 WARNING mlflow.models.model: Model logged without a signature and input example. Please set `input_example` parameter when logging the model to auto infer the model signature.\n"
     ]
    },
    {
     "name": "stdout",
     "output_type": "stream",
     "text": [
      "Comitê de Redes Neurais Artificiais - Acurácia: 0.8867327197045202, F1-Score: 0.8345094391946535, Recall: 0.8867327197045202, ROC AUC: 0.6561677114848266\n"
     ]
    },
    {
     "name": "stderr",
     "output_type": "stream",
     "text": [
      "2024/11/22 22:08:21 WARNING mlflow.models.model: Model logged without a signature and input example. Please set `input_example` parameter when logging the model to auto infer the model signature.\n"
     ]
    },
    {
     "name": "stdout",
     "output_type": "stream",
     "text": [
      "Comitê Heterogêneo (Stacking) - Acurácia: 0.8864982118778214, F1-Score: 0.8347251165452486, Recall: 0.8864982118778214, ROC AUC: 0.6438651799229256\n"
     ]
    },
    {
     "name": "stderr",
     "output_type": "stream",
     "text": [
      "c:\\Users\\PC\\.conda\\envs\\venvmodel\\lib\\site-packages\\xgboost\\core.py:158: UserWarning: [22:08:21] WARNING: C:\\buildkite-agent\\builds\\buildkite-windows-cpu-autoscaling-group-i-0ed59c031377d09b8-1\\xgboost\\xgboost-ci-windows\\src\\learner.cc:740: \n",
      "Parameters: { \"use_label_encoder\" } are not used.\n",
      "\n",
      "  warnings.warn(smsg, UserWarning)\n",
      "2024/11/22 22:08:24 WARNING mlflow.models.model: Model logged without a signature and input example. Please set `input_example` parameter when logging the model to auto infer the model signature.\n"
     ]
    },
    {
     "name": "stdout",
     "output_type": "stream",
     "text": [
      "XGBoost - Acurácia: 0.8854429266576772, F1-Score: 0.8368679264132897, Recall: 0.8854429266576772, ROC AUC: 0.6455116187509411\n",
      "[LightGBM] [Info] Number of positive: 7714, number of negative: 60513\n",
      "[LightGBM] [Info] Auto-choosing row-wise multi-threading, the overhead of testing was 0.003814 seconds.\n",
      "You can set `force_row_wise=true` to remove the overhead.\n",
      "And if memory is not enough, you can set `force_col_wise=true`.\n",
      "[LightGBM] [Info] Total Bins 1852\n",
      "[LightGBM] [Info] Number of data points in the train set: 68227, number of used features: 83\n",
      "[LightGBM] [Info] [binary:BoostFromScore]: pavg=0.113064 -> initscore=-2.059821\n",
      "[LightGBM] [Info] Start training from score -2.059821\n"
     ]
    },
    {
     "name": "stderr",
     "output_type": "stream",
     "text": [
      "2024/11/22 22:08:26 WARNING mlflow.models.model: Model logged without a signature and input example. Please set `input_example` parameter when logging the model to auto infer the model signature.\n"
     ]
    },
    {
     "name": "stdout",
     "output_type": "stream",
     "text": [
      "LightGBM - Acurácia: 0.8870258544878935, F1-Score: 0.835878963507557, Recall: 0.8870258544878935, ROC AUC: 0.6652721930265553\n"
     ]
    }
   ],
   "source": [
    "# Executando os Modelos Básicos e Registrando no MLflow\n",
    "for model_name, model in models.items():\n",
    "    with mlflow.start_run(run_name=model_name):\n",
    "        acc, f1, recall, roc_auc = evaluate_model(model, X_train, y_train, X_val, y_val)\n",
    "        mlflow.log_param(\"model_type\", model_name)\n",
    "        mlflow.log_metric(\"accuracy\", acc)\n",
    "        mlflow.log_metric(\"f1_score\", f1)\n",
    "        mlflow.log_metric(\"recall\", recall)\n",
    "        if roc_auc is not None:\n",
    "            mlflow.log_metric(\"roc_auc\", roc_auc)\n",
    "        # Salvar o modelo\n",
    "        mlflow.sklearn.log_model(model, model_name)\n",
    "        print(f\"{model_name} - Acurácia: {acc}, F1-Score: {f1}, Recall: {recall}, ROC AUC: {roc_auc}\")\n"
   ]
  },
  {
   "cell_type": "code",
   "execution_count": 10,
   "metadata": {},
   "outputs": [
    {
     "name": "stderr",
     "output_type": "stream",
     "text": [
      "C:\\Users\\PC\\AppData\\Local\\Temp\\ipykernel_5812\\2387988113.py:3: ExperimentalWarning: MLflowCallback is experimental (supported from v1.4.0). The interface can change in the future.\n",
      "  mlflc = MLflowCallback(tracking_uri=mlflow.get_tracking_uri(), metric_name='accuracy')\n"
     ]
    }
   ],
   "source": [
    "# Busca de Hiperparâmetros com Optuna\n",
    "# Configurando o Callback do MLflow para o Optuna\n",
    "mlflc = MLflowCallback(tracking_uri=mlflow.get_tracking_uri(), metric_name='accuracy')\n"
   ]
  },
  {
   "cell_type": "code",
   "execution_count": 11,
   "metadata": {},
   "outputs": [],
   "source": [
    "# K-NN\n",
    "def objective_knn(trial):\n",
    "    n_neighbors = trial.suggest_int('n_neighbors', 1, 30)\n",
    "    weights = trial.suggest_categorical('weights', ['uniform', 'distance'])\n",
    "    algorithm = trial.suggest_categorical('algorithm', ['auto', 'ball_tree', 'kd_tree', 'brute'])\n",
    "    \n",
    "    model = KNeighborsClassifier(n_neighbors=n_neighbors, weights=weights, algorithm=algorithm)\n",
    "    acc = cross_val_score(model, X_train, y_train, cv=5, scoring='accuracy').mean()\n",
    "    return acc\n"
   ]
  },
  {
   "cell_type": "code",
   "execution_count": 12,
   "metadata": {},
   "outputs": [],
   "source": [
    "# Árvore de Decisão\n",
    "def objective_decision_tree(trial):\n",
    "    max_depth = trial.suggest_int('max_depth', 1, 20)\n",
    "    min_samples_split = trial.suggest_int('min_samples_split', 2, 10)\n",
    "    criterion = trial.suggest_categorical('criterion', ['gini', 'entropy'])\n",
    "    \n",
    "    model = DecisionTreeClassifier(max_depth=max_depth, min_samples_split=min_samples_split, criterion=criterion)\n",
    "    acc = cross_val_score(model, X_train, y_train, cv=5, scoring='accuracy').mean()\n",
    "    return acc\n"
   ]
  },
  {
   "cell_type": "code",
   "execution_count": 13,
   "metadata": {},
   "outputs": [],
   "source": [
    "# SVM\n",
    "def objective_svm(trial):\n",
    "    C = trial.suggest_float('C', 0.1, 10.0, log=True)\n",
    "    kernel = trial.suggest_categorical('kernel', ['linear', 'rbf'])\n",
    "    gamma = trial.suggest_categorical('gamma', ['scale', 'auto'])\n",
    "    \n",
    "    model = SVC(C=C, kernel=kernel, gamma=gamma)\n",
    "    acc = cross_val_score(model, X_train, y_train, cv=5, scoring='accuracy', n_jobs=-1).mean()\n",
    "    return acc\n"
   ]
  },
  {
   "cell_type": "code",
   "execution_count": 14,
   "metadata": {},
   "outputs": [],
   "source": [
    "# Random Forest\n",
    "def objective_random_forest(trial):\n",
    "    n_estimators = trial.suggest_int('n_estimators', 50, 300)\n",
    "    max_depth = trial.suggest_int('max_depth', 2, 20)\n",
    "    min_samples_split = trial.suggest_int('min_samples_split', 2, 10)\n",
    "    \n",
    "    model = RandomForestClassifier(n_estimators=n_estimators, max_depth=max_depth, min_samples_split=min_samples_split)\n",
    "    acc = cross_val_score(model, X_train, y_train, cv=5, scoring='accuracy', n_jobs=-1).mean()\n",
    "    return acc\n"
   ]
  },
  {
   "cell_type": "code",
   "execution_count": 15,
   "metadata": {},
   "outputs": [],
   "source": [
    "# Rede Neural MLP\n",
    "def objective_mlp(trial):\n",
    "    hidden_layer_sizes = trial.suggest_categorical('hidden_layer_sizes', [(50,), (100,), (50,50)])\n",
    "    activation = trial.suggest_categorical('activation', ['tanh', 'relu'])\n",
    "    solver = trial.suggest_categorical('solver', ['sgd', 'adam'])\n",
    "    alpha = trial.suggest_loguniform('alpha', 1e-5, 1e-1)\n",
    "    \n",
    "    model = MLPClassifier(hidden_layer_sizes=hidden_layer_sizes, activation=activation, solver=solver, alpha=alpha, max_iter=500)\n",
    "    acc = cross_val_score(model, X_train, y_train, cv=5, scoring='accuracy', n_jobs=-1).mean()\n",
    "    return acc\n"
   ]
  },
  {
   "cell_type": "code",
   "execution_count": 16,
   "metadata": {},
   "outputs": [],
   "source": [
    "# Comitê de Redes Neurais Artificiais\n",
    "def objective_committee_nn(trial):\n",
    "    # Hiperparâmetros para as redes individuais\n",
    "    hidden_layer_sizes = trial.suggest_categorical('hidden_layer_sizes', [(50,), (100,), (50,50)])\n",
    "    activation = trial.suggest_categorical('activation', ['tanh', 'relu'])\n",
    "    solver = trial.suggest_categorical('solver', ['sgd', 'adam'])\n",
    "    \n",
    "    # Definindo as redes neurais\n",
    "    nn1 = MLPClassifier(hidden_layer_sizes=hidden_layer_sizes, activation=activation, solver=solver, max_iter=500, random_state=1)\n",
    "    nn2 = MLPClassifier(hidden_layer_sizes=hidden_layer_sizes, activation=activation, solver=solver, max_iter=500, random_state=2)\n",
    "    nn3 = MLPClassifier(hidden_layer_sizes=hidden_layer_sizes, activation=activation, solver=solver, max_iter=500, random_state=3)\n",
    "    \n",
    "    # Comitê\n",
    "    committee_nn = VotingClassifier(estimators=[\n",
    "        ('nn1', nn1),\n",
    "        ('nn2', nn2),\n",
    "        ('nn3', nn3)\n",
    "    ], voting='soft')\n",
    "    \n",
    "    acc = cross_val_score(committee_nn, X_train, y_train, cv=5, scoring='accuracy', n_jobs=-1).mean()\n",
    "    return acc\n"
   ]
  },
  {
   "cell_type": "code",
   "execution_count": 28,
   "metadata": {},
   "outputs": [],
   "source": [
    "# Comitê Heterogêneo (Stacking)\n",
    "def objective_stacking(trial):\n",
    "    # Hiperparâmetros do estimador final\n",
    "    C = trial.suggest_loguniform('C', 1e-3, 1e3)\n",
    "    penalty = trial.suggest_categorical('penalty', ['l2'])\n",
    "    solver = trial.suggest_categorical('solver', ['lbfgs'])\n",
    "    \n",
    "    final_estimator = LogisticRegression(C=C, penalty=penalty, solver=solver)\n",
    "    \n",
    "    # Modelos base (podemos também ajustar seus hiperparâmetros se desejado)\n",
    "    estimators = [\n",
    "        ('rf', RandomForestClassifier(n_estimators=100, random_state=42)),\n",
    "        ('svm', SVC(random_state=42)),\n",
    "        ('knn', KNeighborsClassifier())\n",
    "    ]\n",
    "    \n",
    "    stacking_model = StackingClassifier(estimators=estimators, final_estimator=final_estimator, cv=5)\n",
    "    \n",
    "    acc = cross_val_score(stacking_model, X_train, y_train, cv=5, scoring='accuracy', n_jobs=-1).mean()\n",
    "    return acc\n"
   ]
  },
  {
   "cell_type": "code",
   "execution_count": 18,
   "metadata": {},
   "outputs": [],
   "source": [
    "# XGBoost\n",
    "def objective_xgboost(trial):\n",
    "    n_estimators = trial.suggest_int('n_estimators', 50, 300)\n",
    "    max_depth = trial.suggest_int('max_depth', 3, 15)\n",
    "    learning_rate = trial.suggest_loguniform('learning_rate', 0.01, 0.3)\n",
    "    subsample = trial.suggest_float('subsample', 0.5, 1.0)\n",
    "    \n",
    "    model = XGBClassifier(\n",
    "        n_estimators=n_estimators,\n",
    "        max_depth=max_depth,\n",
    "        learning_rate=learning_rate,\n",
    "        subsample=subsample,\n",
    "        use_label_encoder=False,\n",
    "        eval_metric='logloss'\n",
    "    )\n",
    "    acc = cross_val_score(model, X_train, y_train, cv=5, scoring='accuracy', n_jobs=-1).mean()\n",
    "    return acc"
   ]
  },
  {
   "cell_type": "code",
   "execution_count": 19,
   "metadata": {},
   "outputs": [],
   "source": [
    "# LightGBM\n",
    "def objective_lightgbm(trial):\n",
    "    n_estimators = trial.suggest_int('n_estimators', 50, 300)\n",
    "    num_leaves = trial.suggest_int('num_leaves', 31, 150)\n",
    "    learning_rate = trial.suggest_loguniform('learning_rate', 0.01, 0.3)\n",
    "    subsample = trial.suggest_float('subsample', 0.5, 1.0)\n",
    "    \n",
    "    model = LGBMClassifier(\n",
    "        n_estimators=n_estimators,\n",
    "        num_leaves=num_leaves,\n",
    "        learning_rate=learning_rate,\n",
    "        subsample=subsample\n",
    "    )\n",
    "    acc = cross_val_score(model, X_train, y_train, cv=5, scoring='accuracy', n_jobs=-1).mean()\n",
    "    return acc\n"
   ]
  },
  {
   "cell_type": "code",
   "execution_count": 20,
   "metadata": {},
   "outputs": [],
   "source": [
    "# Executando as Otimizações com Optuna\n",
    "n_trials = 5  # Número de iterações\n",
    "\n",
    "# Dicionário para armazenar os melhores modelos\n",
    "best_models = {}\n"
   ]
  },
  {
   "cell_type": "code",
   "execution_count": 21,
   "metadata": {},
   "outputs": [
    {
     "name": "stderr",
     "output_type": "stream",
     "text": [
      "[I 2024-11-22 22:08:27,072] A new study created in memory with name: no-name-dd69eb3b-7ee3-4f61-9bcb-c7420ae17b74\n",
      "[I 2024-11-22 22:08:59,685] Trial 0 finished with value: 0.8869069434978053 and parameters: {'n_neighbors': 14, 'weights': 'uniform', 'algorithm': 'kd_tree'}. Best is trial 0 with value: 0.8869069434978053.\n",
      "2024/11/22 22:08:59 INFO mlflow.tracking.fluent: Experiment with name 'no-name-dd69eb3b-7ee3-4f61-9bcb-c7420ae17b74' does not exist. Creating a new experiment.\n",
      "[I 2024-11-22 22:09:04,387] Trial 1 finished with value: 0.8866577711979835 and parameters: {'n_neighbors': 29, 'weights': 'distance', 'algorithm': 'auto'}. Best is trial 0 with value: 0.8869069434978053.\n",
      "[I 2024-11-22 22:09:09,046] Trial 2 finished with value: 0.8840341725632488 and parameters: {'n_neighbors': 11, 'weights': 'distance', 'algorithm': 'brute'}. Best is trial 0 with value: 0.8869069434978053.\n",
      "[I 2024-11-22 22:09:34,516] Trial 3 finished with value: 0.8733785564711258 and parameters: {'n_neighbors': 6, 'weights': 'distance', 'algorithm': 'kd_tree'}. Best is trial 0 with value: 0.8869069434978053.\n",
      "[I 2024-11-22 22:11:16,561] Trial 4 finished with value: 0.8733638990874688 and parameters: {'n_neighbors': 6, 'weights': 'distance', 'algorithm': 'ball_tree'}. Best is trial 0 with value: 0.8869069434978053.\n"
     ]
    }
   ],
   "source": [
    "# K-NN\n",
    "study_knn = optuna.create_study(direction='maximize') # , study_name='Modelagem', sampler=optuna.samplers.TPESampler(seed=123)\n",
    "study_knn.optimize(objective_knn, n_trials=n_trials, callbacks=[mlflc])\n",
    "best_knn = KNeighborsClassifier(**study_knn.best_params)\n",
    "best_models['K-NN'] = best_knn\n"
   ]
  },
  {
   "cell_type": "code",
   "execution_count": 22,
   "metadata": {},
   "outputs": [
    {
     "name": "stderr",
     "output_type": "stream",
     "text": [
      "[I 2024-11-22 22:11:16,617] A new study created in memory with name: no-name-e92d4281-bd5f-4f00-bc2a-054ed1bba9b7\n",
      "[I 2024-11-22 22:11:19,815] Trial 0 finished with value: 0.8558927757498174 and parameters: {'max_depth': 18, 'min_samples_split': 2, 'criterion': 'gini'}. Best is trial 0 with value: 0.8558927757498174.\n",
      "2024/11/22 22:11:19 INFO mlflow.tracking.fluent: Experiment with name 'no-name-e92d4281-bd5f-4f00-bc2a-054ed1bba9b7' does not exist. Creating a new experiment.\n",
      "[I 2024-11-22 22:11:22,599] Trial 1 finished with value: 0.86819000269979 and parameters: {'max_depth': 15, 'min_samples_split': 6, 'criterion': 'entropy'}. Best is trial 1 with value: 0.86819000269979.\n",
      "[I 2024-11-22 22:11:25,350] Trial 2 finished with value: 0.8684977884225036 and parameters: {'max_depth': 15, 'min_samples_split': 6, 'criterion': 'gini'}. Best is trial 2 with value: 0.8684977884225036.\n",
      "[I 2024-11-22 22:11:27,336] Trial 3 finished with value: 0.8816304454245273 and parameters: {'max_depth': 10, 'min_samples_split': 8, 'criterion': 'entropy'}. Best is trial 3 with value: 0.8816304454245273.\n",
      "[I 2024-11-22 22:11:29,973] Trial 4 finished with value: 0.8718249006563761 and parameters: {'max_depth': 14, 'min_samples_split': 4, 'criterion': 'entropy'}. Best is trial 3 with value: 0.8816304454245273.\n"
     ]
    }
   ],
   "source": [
    "# Árvore de Decisão\n",
    "study_dt = optuna.create_study(direction='maximize')\n",
    "study_dt.optimize(objective_decision_tree, n_trials=n_trials, callbacks=[mlflc])\n",
    "best_dt = DecisionTreeClassifier(**study_dt.best_params)\n",
    "best_models['Árvore de Decisão'] = best_dt\n"
   ]
  },
  {
   "cell_type": "code",
   "execution_count": 23,
   "metadata": {},
   "outputs": [
    {
     "name": "stderr",
     "output_type": "stream",
     "text": [
      "[I 2024-11-22 22:11:30,035] A new study created in memory with name: no-name-e1cff4a1-f303-423a-bce7-a096b5fa74dd\n",
      "[I 2024-11-22 22:36:54,288] Trial 0 finished with value: 0.8822899976138519 and parameters: {'C': 2.0972890313319916, 'kernel': 'rbf', 'gamma': 'auto'}. Best is trial 0 with value: 0.8822899976138519.\n",
      "2024/11/22 22:36:54 INFO mlflow.tracking.fluent: Experiment with name 'no-name-e1cff4a1-f303-423a-bce7-a096b5fa74dd' does not exist. Creating a new experiment.\n",
      "[I 2024-11-22 23:59:15,159] Trial 1 finished with value: 0.883814350476561 and parameters: {'C': 0.2133654984424116, 'kernel': 'linear', 'gamma': 'scale'}. Best is trial 1 with value: 0.883814350476561.\n",
      "[I 2024-11-23 00:19:16,308] Trial 2 finished with value: 0.8869362571910037 and parameters: {'C': 0.12453052603146088, 'kernel': 'rbf', 'gamma': 'auto'}. Best is trial 2 with value: 0.8869362571910037.\n",
      "[I 2024-11-23 00:39:17,990] Trial 3 finished with value: 0.8869362571910037 and parameters: {'C': 0.36787350005040176, 'kernel': 'rbf', 'gamma': 'auto'}. Best is trial 2 with value: 0.8869362571910037.\n",
      "[I 2024-11-23 00:45:11,187] Trial 4 finished with value: 0.8869362571910037 and parameters: {'C': 3.357648848330171, 'kernel': 'rbf', 'gamma': 'scale'}. Best is trial 2 with value: 0.8869362571910037.\n"
     ]
    }
   ],
   "source": [
    "# SVM\n",
    "study_svm = optuna.create_study(direction='maximize')\n",
    "study_svm.optimize(objective_svm, n_trials=n_trials, callbacks=[mlflc])\n",
    "best_svm = SVC(probability=True, **study_svm.best_params)\n",
    "best_models['SVM'] = best_svm\n"
   ]
  },
  {
   "cell_type": "code",
   "execution_count": 24,
   "metadata": {},
   "outputs": [
    {
     "name": "stderr",
     "output_type": "stream",
     "text": [
      "[I 2024-11-23 00:45:11,246] A new study created in memory with name: no-name-aa1d3845-dad8-4525-aa4e-e57a1dfa9c17\n",
      "[I 2024-11-23 00:45:22,302] Trial 0 finished with value: 0.8871707667365898 and parameters: {'n_estimators': 204, 'max_depth': 15, 'min_samples_split': 3}. Best is trial 0 with value: 0.8871707667365898.\n",
      "2024/11/23 00:45:22 INFO mlflow.tracking.fluent: Experiment with name 'no-name-aa1d3845-dad8-4525-aa4e-e57a1dfa9c17' does not exist. Creating a new experiment.\n",
      "[I 2024-11-23 00:45:27,701] Trial 1 finished with value: 0.8869362571910037 and parameters: {'n_estimators': 136, 'max_depth': 8, 'min_samples_split': 7}. Best is trial 0 with value: 0.8871707667365898.\n",
      "[I 2024-11-23 00:45:30,398] Trial 2 finished with value: 0.8869362571910037 and parameters: {'n_estimators': 60, 'max_depth': 6, 'min_samples_split': 4}. Best is trial 0 with value: 0.8871707667365898.\n",
      "[I 2024-11-23 00:45:36,271] Trial 3 finished with value: 0.8871267988820819 and parameters: {'n_estimators': 93, 'max_depth': 15, 'min_samples_split': 3}. Best is trial 0 with value: 0.8871707667365898.\n",
      "[I 2024-11-23 00:45:53,064] Trial 4 finished with value: 0.8871707678107056 and parameters: {'n_estimators': 264, 'max_depth': 19, 'min_samples_split': 10}. Best is trial 4 with value: 0.8871707678107056.\n"
     ]
    }
   ],
   "source": [
    "# Random Forest\n",
    "study_rf = optuna.create_study(direction='maximize')\n",
    "study_rf.optimize(objective_random_forest, n_trials=n_trials, callbacks=[mlflc])\n",
    "best_rf = RandomForestClassifier(**study_rf.best_params)\n",
    "best_models['Random Forest'] = best_rf\n"
   ]
  },
  {
   "cell_type": "code",
   "execution_count": 25,
   "metadata": {},
   "outputs": [
    {
     "name": "stderr",
     "output_type": "stream",
     "text": [
      "[I 2024-11-23 00:45:53,126] A new study created in memory with name: no-name-ed2e9296-3a78-4e47-9675-eee1ebef3640\n",
      "c:\\Users\\PC\\.conda\\envs\\venvmodel\\lib\\site-packages\\optuna\\distributions.py:524: UserWarning: Choices for a categorical distribution should be a tuple of None, bool, int, float and str for persistent storage but contains (50,) which is of type tuple.\n",
      "  warnings.warn(message)\n",
      "c:\\Users\\PC\\.conda\\envs\\venvmodel\\lib\\site-packages\\optuna\\distributions.py:524: UserWarning: Choices for a categorical distribution should be a tuple of None, bool, int, float and str for persistent storage but contains (100,) which is of type tuple.\n",
      "  warnings.warn(message)\n",
      "c:\\Users\\PC\\.conda\\envs\\venvmodel\\lib\\site-packages\\optuna\\distributions.py:524: UserWarning: Choices for a categorical distribution should be a tuple of None, bool, int, float and str for persistent storage but contains (50, 50) which is of type tuple.\n",
      "  warnings.warn(message)\n",
      "C:\\Users\\PC\\AppData\\Local\\Temp\\ipykernel_5812\\2749089950.py:6: FutureWarning: suggest_loguniform has been deprecated in v3.0.0. This feature will be removed in v6.0.0. See https://github.com/optuna/optuna/releases/tag/v3.0.0. Use suggest_float(..., log=True) instead.\n",
      "  alpha = trial.suggest_loguniform('alpha', 1e-5, 1e-1)\n",
      "[I 2024-11-23 00:46:03,519] Trial 0 finished with value: 0.8869362571910037 and parameters: {'hidden_layer_sizes': (50, 50), 'activation': 'tanh', 'solver': 'sgd', 'alpha': 1.5445127581631266e-05}. Best is trial 0 with value: 0.8869362571910037.\n",
      "2024/11/23 00:46:03 INFO mlflow.tracking.fluent: Experiment with name 'no-name-ed2e9296-3a78-4e47-9675-eee1ebef3640' does not exist. Creating a new experiment.\n",
      "c:\\Users\\PC\\.conda\\envs\\venvmodel\\lib\\site-packages\\optuna\\distributions.py:524: UserWarning: Choices for a categorical distribution should be a tuple of None, bool, int, float and str for persistent storage but contains (50,) which is of type tuple.\n",
      "  warnings.warn(message)\n",
      "c:\\Users\\PC\\.conda\\envs\\venvmodel\\lib\\site-packages\\optuna\\distributions.py:524: UserWarning: Choices for a categorical distribution should be a tuple of None, bool, int, float and str for persistent storage but contains (100,) which is of type tuple.\n",
      "  warnings.warn(message)\n",
      "c:\\Users\\PC\\.conda\\envs\\venvmodel\\lib\\site-packages\\optuna\\distributions.py:524: UserWarning: Choices for a categorical distribution should be a tuple of None, bool, int, float and str for persistent storage but contains (50, 50) which is of type tuple.\n",
      "  warnings.warn(message)\n",
      "C:\\Users\\PC\\AppData\\Local\\Temp\\ipykernel_5812\\2749089950.py:6: FutureWarning: suggest_loguniform has been deprecated in v3.0.0. This feature will be removed in v6.0.0. See https://github.com/optuna/optuna/releases/tag/v3.0.0. Use suggest_float(..., log=True) instead.\n",
      "  alpha = trial.suggest_loguniform('alpha', 1e-5, 1e-1)\n",
      "[I 2024-11-23 00:46:11,489] Trial 1 finished with value: 0.8853093209026632 and parameters: {'hidden_layer_sizes': (50,), 'activation': 'relu', 'solver': 'adam', 'alpha': 1.3326492563789275e-05}. Best is trial 0 with value: 0.8869362571910037.\n",
      "c:\\Users\\PC\\.conda\\envs\\venvmodel\\lib\\site-packages\\optuna\\distributions.py:524: UserWarning: Choices for a categorical distribution should be a tuple of None, bool, int, float and str for persistent storage but contains (50,) which is of type tuple.\n",
      "  warnings.warn(message)\n",
      "c:\\Users\\PC\\.conda\\envs\\venvmodel\\lib\\site-packages\\optuna\\distributions.py:524: UserWarning: Choices for a categorical distribution should be a tuple of None, bool, int, float and str for persistent storage but contains (100,) which is of type tuple.\n",
      "  warnings.warn(message)\n",
      "c:\\Users\\PC\\.conda\\envs\\venvmodel\\lib\\site-packages\\optuna\\distributions.py:524: UserWarning: Choices for a categorical distribution should be a tuple of None, bool, int, float and str for persistent storage but contains (50, 50) which is of type tuple.\n",
      "  warnings.warn(message)\n",
      "C:\\Users\\PC\\AppData\\Local\\Temp\\ipykernel_5812\\2749089950.py:6: FutureWarning: suggest_loguniform has been deprecated in v3.0.0. This feature will be removed in v6.0.0. See https://github.com/optuna/optuna/releases/tag/v3.0.0. Use suggest_float(..., log=True) instead.\n",
      "  alpha = trial.suggest_loguniform('alpha', 1e-5, 1e-1)\n",
      "[I 2024-11-23 00:46:28,367] Trial 2 finished with value: 0.8869362571910037 and parameters: {'hidden_layer_sizes': (100,), 'activation': 'tanh', 'solver': 'adam', 'alpha': 0.02616506014518476}. Best is trial 0 with value: 0.8869362571910037.\n",
      "c:\\Users\\PC\\.conda\\envs\\venvmodel\\lib\\site-packages\\optuna\\distributions.py:524: UserWarning: Choices for a categorical distribution should be a tuple of None, bool, int, float and str for persistent storage but contains (50,) which is of type tuple.\n",
      "  warnings.warn(message)\n",
      "c:\\Users\\PC\\.conda\\envs\\venvmodel\\lib\\site-packages\\optuna\\distributions.py:524: UserWarning: Choices for a categorical distribution should be a tuple of None, bool, int, float and str for persistent storage but contains (100,) which is of type tuple.\n",
      "  warnings.warn(message)\n",
      "c:\\Users\\PC\\.conda\\envs\\venvmodel\\lib\\site-packages\\optuna\\distributions.py:524: UserWarning: Choices for a categorical distribution should be a tuple of None, bool, int, float and str for persistent storage but contains (50, 50) which is of type tuple.\n",
      "  warnings.warn(message)\n",
      "C:\\Users\\PC\\AppData\\Local\\Temp\\ipykernel_5812\\2749089950.py:6: FutureWarning: suggest_loguniform has been deprecated in v3.0.0. This feature will be removed in v6.0.0. See https://github.com/optuna/optuna/releases/tag/v3.0.0. Use suggest_float(..., log=True) instead.\n",
      "  alpha = trial.suggest_loguniform('alpha', 1e-5, 1e-1)\n",
      "[I 2024-11-23 00:46:50,663] Trial 3 finished with value: 0.8867750270448921 and parameters: {'hidden_layer_sizes': (50, 50), 'activation': 'tanh', 'solver': 'adam', 'alpha': 0.00019328483306574654}. Best is trial 0 with value: 0.8869362571910037.\n",
      "c:\\Users\\PC\\.conda\\envs\\venvmodel\\lib\\site-packages\\optuna\\distributions.py:524: UserWarning: Choices for a categorical distribution should be a tuple of None, bool, int, float and str for persistent storage but contains (50,) which is of type tuple.\n",
      "  warnings.warn(message)\n",
      "c:\\Users\\PC\\.conda\\envs\\venvmodel\\lib\\site-packages\\optuna\\distributions.py:524: UserWarning: Choices for a categorical distribution should be a tuple of None, bool, int, float and str for persistent storage but contains (100,) which is of type tuple.\n",
      "  warnings.warn(message)\n",
      "c:\\Users\\PC\\.conda\\envs\\venvmodel\\lib\\site-packages\\optuna\\distributions.py:524: UserWarning: Choices for a categorical distribution should be a tuple of None, bool, int, float and str for persistent storage but contains (50, 50) which is of type tuple.\n",
      "  warnings.warn(message)\n",
      "C:\\Users\\PC\\AppData\\Local\\Temp\\ipykernel_5812\\2749089950.py:6: FutureWarning: suggest_loguniform has been deprecated in v3.0.0. This feature will be removed in v6.0.0. See https://github.com/optuna/optuna/releases/tag/v3.0.0. Use suggest_float(..., log=True) instead.\n",
      "  alpha = trial.suggest_loguniform('alpha', 1e-5, 1e-1)\n",
      "[I 2024-11-23 00:46:58,312] Trial 4 finished with value: 0.886731068857426 and parameters: {'hidden_layer_sizes': (50,), 'activation': 'relu', 'solver': 'adam', 'alpha': 0.06645530915088806}. Best is trial 0 with value: 0.8869362571910037.\n"
     ]
    }
   ],
   "source": [
    "# Rede Neural MLP\n",
    "study_mlp = optuna.create_study(direction='maximize')\n",
    "study_mlp.optimize(objective_mlp, n_trials=n_trials, callbacks=[mlflc])\n",
    "best_mlp = MLPClassifier(**study_mlp.best_params, max_iter=500)\n",
    "best_models['Rede Neural MLP'] = best_mlp\n"
   ]
  },
  {
   "cell_type": "code",
   "execution_count": 26,
   "metadata": {},
   "outputs": [
    {
     "name": "stderr",
     "output_type": "stream",
     "text": [
      "[I 2024-11-23 00:46:58,379] A new study created in memory with name: no-name-8be35d54-a96e-4810-836c-575da9691cfc\n",
      "c:\\Users\\PC\\.conda\\envs\\venvmodel\\lib\\site-packages\\optuna\\distributions.py:524: UserWarning: Choices for a categorical distribution should be a tuple of None, bool, int, float and str for persistent storage but contains (50,) which is of type tuple.\n",
      "  warnings.warn(message)\n",
      "c:\\Users\\PC\\.conda\\envs\\venvmodel\\lib\\site-packages\\optuna\\distributions.py:524: UserWarning: Choices for a categorical distribution should be a tuple of None, bool, int, float and str for persistent storage but contains (100,) which is of type tuple.\n",
      "  warnings.warn(message)\n",
      "c:\\Users\\PC\\.conda\\envs\\venvmodel\\lib\\site-packages\\optuna\\distributions.py:524: UserWarning: Choices for a categorical distribution should be a tuple of None, bool, int, float and str for persistent storage but contains (50, 50) which is of type tuple.\n",
      "  warnings.warn(message)\n",
      "[I 2024-11-23 00:47:36,948] Trial 0 finished with value: 0.8869509145746607 and parameters: {'hidden_layer_sizes': (50,), 'activation': 'tanh', 'solver': 'adam'}. Best is trial 0 with value: 0.8869509145746607.\n",
      "2024/11/23 00:47:36 INFO mlflow.tracking.fluent: Experiment with name 'no-name-8be35d54-a96e-4810-836c-575da9691cfc' does not exist. Creating a new experiment.\n",
      "c:\\Users\\PC\\.conda\\envs\\venvmodel\\lib\\site-packages\\optuna\\distributions.py:524: UserWarning: Choices for a categorical distribution should be a tuple of None, bool, int, float and str for persistent storage but contains (50,) which is of type tuple.\n",
      "  warnings.warn(message)\n",
      "c:\\Users\\PC\\.conda\\envs\\venvmodel\\lib\\site-packages\\optuna\\distributions.py:524: UserWarning: Choices for a categorical distribution should be a tuple of None, bool, int, float and str for persistent storage but contains (100,) which is of type tuple.\n",
      "  warnings.warn(message)\n",
      "c:\\Users\\PC\\.conda\\envs\\venvmodel\\lib\\site-packages\\optuna\\distributions.py:524: UserWarning: Choices for a categorical distribution should be a tuple of None, bool, int, float and str for persistent storage but contains (50, 50) which is of type tuple.\n",
      "  warnings.warn(message)\n",
      "[I 2024-11-23 00:47:54,805] Trial 1 finished with value: 0.8862767082240264 and parameters: {'hidden_layer_sizes': (50,), 'activation': 'relu', 'solver': 'adam'}. Best is trial 0 with value: 0.8869509145746607.\n",
      "c:\\Users\\PC\\.conda\\envs\\venvmodel\\lib\\site-packages\\optuna\\distributions.py:524: UserWarning: Choices for a categorical distribution should be a tuple of None, bool, int, float and str for persistent storage but contains (50,) which is of type tuple.\n",
      "  warnings.warn(message)\n",
      "c:\\Users\\PC\\.conda\\envs\\venvmodel\\lib\\site-packages\\optuna\\distributions.py:524: UserWarning: Choices for a categorical distribution should be a tuple of None, bool, int, float and str for persistent storage but contains (100,) which is of type tuple.\n",
      "  warnings.warn(message)\n",
      "c:\\Users\\PC\\.conda\\envs\\venvmodel\\lib\\site-packages\\optuna\\distributions.py:524: UserWarning: Choices for a categorical distribution should be a tuple of None, bool, int, float and str for persistent storage but contains (50, 50) which is of type tuple.\n",
      "  warnings.warn(message)\n",
      "[I 2024-11-23 00:48:50,708] Trial 2 finished with value: 0.8869216008814623 and parameters: {'hidden_layer_sizes': (50, 50), 'activation': 'tanh', 'solver': 'adam'}. Best is trial 0 with value: 0.8869509145746607.\n",
      "c:\\Users\\PC\\.conda\\envs\\venvmodel\\lib\\site-packages\\optuna\\distributions.py:524: UserWarning: Choices for a categorical distribution should be a tuple of None, bool, int, float and str for persistent storage but contains (50,) which is of type tuple.\n",
      "  warnings.warn(message)\n",
      "c:\\Users\\PC\\.conda\\envs\\venvmodel\\lib\\site-packages\\optuna\\distributions.py:524: UserWarning: Choices for a categorical distribution should be a tuple of None, bool, int, float and str for persistent storage but contains (100,) which is of type tuple.\n",
      "  warnings.warn(message)\n",
      "c:\\Users\\PC\\.conda\\envs\\venvmodel\\lib\\site-packages\\optuna\\distributions.py:524: UserWarning: Choices for a categorical distribution should be a tuple of None, bool, int, float and str for persistent storage but contains (50, 50) which is of type tuple.\n",
      "  warnings.warn(message)\n",
      "[I 2024-11-23 00:49:28,343] Trial 3 finished with value: 0.8869362571910037 and parameters: {'hidden_layer_sizes': (100,), 'activation': 'tanh', 'solver': 'sgd'}. Best is trial 0 with value: 0.8869509145746607.\n",
      "c:\\Users\\PC\\.conda\\envs\\venvmodel\\lib\\site-packages\\optuna\\distributions.py:524: UserWarning: Choices for a categorical distribution should be a tuple of None, bool, int, float and str for persistent storage but contains (50,) which is of type tuple.\n",
      "  warnings.warn(message)\n",
      "c:\\Users\\PC\\.conda\\envs\\venvmodel\\lib\\site-packages\\optuna\\distributions.py:524: UserWarning: Choices for a categorical distribution should be a tuple of None, bool, int, float and str for persistent storage but contains (100,) which is of type tuple.\n",
      "  warnings.warn(message)\n",
      "c:\\Users\\PC\\.conda\\envs\\venvmodel\\lib\\site-packages\\optuna\\distributions.py:524: UserWarning: Choices for a categorical distribution should be a tuple of None, bool, int, float and str for persistent storage but contains (50, 50) which is of type tuple.\n",
      "  warnings.warn(message)\n",
      "[I 2024-11-23 00:50:36,648] Trial 4 finished with value: 0.8869362571910037 and parameters: {'hidden_layer_sizes': (50, 50), 'activation': 'relu', 'solver': 'sgd'}. Best is trial 0 with value: 0.8869509145746607.\n"
     ]
    }
   ],
   "source": [
    "# Comitê de Redes Neurais Artificiais\n",
    "study_committee_nn = optuna.create_study(direction='maximize')\n",
    "study_committee_nn.optimize(objective_committee_nn, n_trials=n_trials, callbacks=[mlflc])\n",
    "\n",
    "# Usando os melhores hiperparâmetros\n",
    "hidden_layer_sizes = study_committee_nn.best_params['hidden_layer_sizes']\n",
    "activation = study_committee_nn.best_params['activation']\n",
    "solver = study_committee_nn.best_params['solver']\n",
    "\n",
    "# Definindo as redes neurais\n",
    "nn1 = MLPClassifier(hidden_layer_sizes=hidden_layer_sizes, activation=activation, solver=solver, max_iter=500, random_state=1)\n",
    "nn2 = MLPClassifier(hidden_layer_sizes=hidden_layer_sizes, activation=activation, solver=solver, max_iter=500, random_state=2)\n",
    "nn3 = MLPClassifier(hidden_layer_sizes=hidden_layer_sizes, activation=activation, solver=solver, max_iter=500, random_state=3)\n",
    "\n",
    "best_committee_nn = VotingClassifier(estimators=[\n",
    "    ('nn1', nn1),\n",
    "    ('nn2', nn2),\n",
    "    ('nn3', nn3)\n",
    "], voting='soft')\n",
    "\n",
    "best_models['Comitê de Redes Neurais Artificiais'] = best_committee_nn\n"
   ]
  },
  {
   "cell_type": "code",
   "execution_count": 29,
   "metadata": {},
   "outputs": [
    {
     "name": "stderr",
     "output_type": "stream",
     "text": [
      "[I 2024-11-23 01:21:54,562] A new study created in memory with name: no-name-6af6dc78-0797-4a3d-984a-987abad46745\n",
      "C:\\Users\\PC\\AppData\\Local\\Temp\\ipykernel_5812\\102533748.py:4: FutureWarning: suggest_loguniform has been deprecated in v3.0.0. This feature will be removed in v6.0.0. See https://github.com/optuna/optuna/releases/tag/v3.0.0. Use suggest_float(..., log=True) instead.\n",
      "  C = trial.suggest_loguniform('C', 1e-3, 1e3)\n",
      "[I 2024-11-23 01:32:22,119] Trial 0 finished with value: 0.8869362571910037 and parameters: {'C': 0.004278975664230019, 'penalty': 'l2', 'solver': 'lbfgs'}. Best is trial 0 with value: 0.8869362571910037.\n",
      "2024/11/23 01:32:22 INFO mlflow.tracking.fluent: Experiment with name 'no-name-6af6dc78-0797-4a3d-984a-987abad46745' does not exist. Creating a new experiment.\n",
      "C:\\Users\\PC\\AppData\\Local\\Temp\\ipykernel_5812\\102533748.py:4: FutureWarning: suggest_loguniform has been deprecated in v3.0.0. This feature will be removed in v6.0.0. See https://github.com/optuna/optuna/releases/tag/v3.0.0. Use suggest_float(..., log=True) instead.\n",
      "  C = trial.suggest_loguniform('C', 1e-3, 1e3)\n",
      "[I 2024-11-23 01:42:49,039] Trial 1 finished with value: 0.8870095419610571 and parameters: {'C': 0.37052388460658653, 'penalty': 'l2', 'solver': 'lbfgs'}. Best is trial 1 with value: 0.8870095419610571.\n",
      "C:\\Users\\PC\\AppData\\Local\\Temp\\ipykernel_5812\\102533748.py:4: FutureWarning: suggest_loguniform has been deprecated in v3.0.0. This feature will be removed in v6.0.0. See https://github.com/optuna/optuna/releases/tag/v3.0.0. Use suggest_float(..., log=True) instead.\n",
      "  C = trial.suggest_loguniform('C', 1e-3, 1e3)\n",
      "[I 2024-11-23 01:53:05,145] Trial 2 finished with value: 0.8871267999561976 and parameters: {'C': 2.9545486572561135, 'penalty': 'l2', 'solver': 'lbfgs'}. Best is trial 2 with value: 0.8871267999561976.\n",
      "C:\\Users\\PC\\AppData\\Local\\Temp\\ipykernel_5812\\102533748.py:4: FutureWarning: suggest_loguniform has been deprecated in v3.0.0. This feature will be removed in v6.0.0. See https://github.com/optuna/optuna/releases/tag/v3.0.0. Use suggest_float(..., log=True) instead.\n",
      "  C = trial.suggest_loguniform('C', 1e-3, 1e3)\n",
      "[I 2024-11-23 02:03:38,609] Trial 3 finished with value: 0.8869362571910037 and parameters: {'C': 0.002497320077385064, 'penalty': 'l2', 'solver': 'lbfgs'}. Best is trial 2 with value: 0.8871267999561976.\n",
      "C:\\Users\\PC\\AppData\\Local\\Temp\\ipykernel_5812\\102533748.py:4: FutureWarning: suggest_loguniform has been deprecated in v3.0.0. This feature will be removed in v6.0.0. See https://github.com/optuna/optuna/releases/tag/v3.0.0. Use suggest_float(..., log=True) instead.\n",
      "  C = trial.suggest_loguniform('C', 1e-3, 1e3)\n",
      "[I 2024-11-23 02:14:07,628] Trial 4 finished with value: 0.8869362571910037 and parameters: {'C': 0.009521347466292048, 'penalty': 'l2', 'solver': 'lbfgs'}. Best is trial 2 with value: 0.8871267999561976.\n"
     ]
    }
   ],
   "source": [
    "# Comitê Heterogêneo (Stacking)\n",
    "study_stacking = optuna.create_study(direction='maximize')\n",
    "study_stacking.optimize(objective_stacking, n_trials=n_trials, callbacks=[mlflc])\n",
    "\n",
    "# Modelo meta com os melhores hiperparâmetros\n",
    "final_estimator = LogisticRegression(\n",
    "    C=study_stacking.best_params['C'],\n",
    "    penalty=study_stacking.best_params['penalty'],\n",
    "    solver=study_stacking.best_params['solver']\n",
    ")\n",
    "\n",
    "# Modelos base (mantidos os mesmos)\n",
    "estimators = [\n",
    "    ('rf', RandomForestClassifier(n_estimators=100, random_state=42)),\n",
    "    ('svm', SVC(probability=True, random_state=42)),\n",
    "    ('knn', KNeighborsClassifier())\n",
    "]\n",
    "\n",
    "best_stacking = StackingClassifier(estimators=estimators, final_estimator=final_estimator, cv=5)\n",
    "\n",
    "best_models['Comitê Heterogêneo (Stacking)'] = best_stacking\n"
   ]
  },
  {
   "cell_type": "code",
   "execution_count": 30,
   "metadata": {},
   "outputs": [
    {
     "name": "stderr",
     "output_type": "stream",
     "text": [
      "[I 2024-11-23 02:14:07,720] A new study created in memory with name: no-name-539beff9-06d1-4fa9-86fe-7286d842a7f3\n",
      "C:\\Users\\PC\\AppData\\Local\\Temp\\ipykernel_5812\\3173173869.py:5: FutureWarning: suggest_loguniform has been deprecated in v3.0.0. This feature will be removed in v6.0.0. See https://github.com/optuna/optuna/releases/tag/v3.0.0. Use suggest_float(..., log=True) instead.\n",
      "  learning_rate = trial.suggest_loguniform('learning_rate', 0.01, 0.3)\n",
      "[I 2024-11-23 02:14:11,765] Trial 0 finished with value: 0.8833746021139565 and parameters: {'n_estimators': 221, 'max_depth': 7, 'learning_rate': 0.18607460441958731, 'subsample': 0.7424712152172469}. Best is trial 0 with value: 0.8833746021139565.\n",
      "2024/11/23 02:14:11 INFO mlflow.tracking.fluent: Experiment with name 'no-name-539beff9-06d1-4fa9-86fe-7286d842a7f3' does not exist. Creating a new experiment.\n",
      "C:\\Users\\PC\\AppData\\Local\\Temp\\ipykernel_5812\\3173173869.py:5: FutureWarning: suggest_loguniform has been deprecated in v3.0.0. This feature will be removed in v6.0.0. See https://github.com/optuna/optuna/releases/tag/v3.0.0. Use suggest_float(..., log=True) instead.\n",
      "  learning_rate = trial.suggest_loguniform('learning_rate', 0.01, 0.3)\n",
      "[I 2024-11-23 02:14:17,216] Trial 1 finished with value: 0.8850454998121103 and parameters: {'n_estimators': 138, 'max_depth': 12, 'learning_rate': 0.1368135740832945, 'subsample': 0.8357521356164341}. Best is trial 1 with value: 0.8850454998121103.\n",
      "C:\\Users\\PC\\AppData\\Local\\Temp\\ipykernel_5812\\3173173869.py:5: FutureWarning: suggest_loguniform has been deprecated in v3.0.0. This feature will be removed in v6.0.0. See https://github.com/optuna/optuna/releases/tag/v3.0.0. Use suggest_float(..., log=True) instead.\n",
      "  learning_rate = trial.suggest_loguniform('learning_rate', 0.01, 0.3)\n",
      "[I 2024-11-23 02:14:23,743] Trial 2 finished with value: 0.8848109741547876 and parameters: {'n_estimators': 212, 'max_depth': 11, 'learning_rate': 0.11641813048272157, 'subsample': 0.8327440523642351}. Best is trial 1 with value: 0.8850454998121103.\n",
      "C:\\Users\\PC\\AppData\\Local\\Temp\\ipykernel_5812\\3173173869.py:5: FutureWarning: suggest_loguniform has been deprecated in v3.0.0. This feature will be removed in v6.0.0. See https://github.com/optuna/optuna/releases/tag/v3.0.0. Use suggest_float(..., log=True) instead.\n",
      "  learning_rate = trial.suggest_loguniform('learning_rate', 0.01, 0.3)\n",
      "[I 2024-11-23 02:14:31,132] Trial 3 finished with value: 0.8797983036167573 and parameters: {'n_estimators': 240, 'max_depth': 12, 'learning_rate': 0.2808911724478956, 'subsample': 0.7849201902880594}. Best is trial 1 with value: 0.8850454998121103.\n",
      "C:\\Users\\PC\\AppData\\Local\\Temp\\ipykernel_5812\\3173173869.py:5: FutureWarning: suggest_loguniform has been deprecated in v3.0.0. This feature will be removed in v6.0.0. See https://github.com/optuna/optuna/releases/tag/v3.0.0. Use suggest_float(..., log=True) instead.\n",
      "  learning_rate = trial.suggest_loguniform('learning_rate', 0.01, 0.3)\n",
      "[I 2024-11-23 02:14:38,613] Trial 4 finished with value: 0.8868776158411021 and parameters: {'n_estimators': 204, 'max_depth': 13, 'learning_rate': 0.024736618097771005, 'subsample': 0.599086932684215}. Best is trial 4 with value: 0.8868776158411021.\n"
     ]
    }
   ],
   "source": [
    "# XGBoost\n",
    "study_xgb = optuna.create_study(direction='maximize')\n",
    "study_xgb.optimize(objective_xgboost, n_trials=n_trials, callbacks=[mlflc])\n",
    "best_xgb = XGBClassifier(**study_xgb.best_params, use_label_encoder=False, eval_metric='logloss')\n",
    "best_models['XGBoost'] = best_xgb\n"
   ]
  },
  {
   "cell_type": "code",
   "execution_count": 31,
   "metadata": {},
   "outputs": [
    {
     "name": "stderr",
     "output_type": "stream",
     "text": [
      "[I 2024-11-23 02:14:38,695] A new study created in memory with name: no-name-2a2c3ffa-ad17-4cb5-869b-0c2e95540871\n",
      "C:\\Users\\PC\\AppData\\Local\\Temp\\ipykernel_5812\\4164574924.py:5: FutureWarning: suggest_loguniform has been deprecated in v3.0.0. This feature will be removed in v6.0.0. See https://github.com/optuna/optuna/releases/tag/v3.0.0. Use suggest_float(..., log=True) instead.\n",
      "  learning_rate = trial.suggest_loguniform('learning_rate', 0.01, 0.3)\n",
      "[I 2024-11-23 02:14:40,367] Trial 0 finished with value: 0.8865405153510745 and parameters: {'n_estimators': 223, 'num_leaves': 45, 'learning_rate': 0.0925386820994413, 'subsample': 0.8236354621291435}. Best is trial 0 with value: 0.8865405153510745.\n",
      "2024/11/23 02:14:40 INFO mlflow.tracking.fluent: Experiment with name 'no-name-2a2c3ffa-ad17-4cb5-869b-0c2e95540871' does not exist. Creating a new experiment.\n",
      "C:\\Users\\PC\\AppData\\Local\\Temp\\ipykernel_5812\\4164574924.py:5: FutureWarning: suggest_loguniform has been deprecated in v3.0.0. This feature will be removed in v6.0.0. See https://github.com/optuna/optuna/releases/tag/v3.0.0. Use suggest_float(..., log=True) instead.\n",
      "  learning_rate = trial.suggest_loguniform('learning_rate', 0.01, 0.3)\n",
      "[I 2024-11-23 02:14:42,056] Trial 1 finished with value: 0.8862766899640585 and parameters: {'n_estimators': 99, 'num_leaves': 140, 'learning_rate': 0.10132320465083965, 'subsample': 0.7502716813083699}. Best is trial 0 with value: 0.8865405153510745.\n",
      "C:\\Users\\PC\\AppData\\Local\\Temp\\ipykernel_5812\\4164574924.py:5: FutureWarning: suggest_loguniform has been deprecated in v3.0.0. This feature will be removed in v6.0.0. See https://github.com/optuna/optuna/releases/tag/v3.0.0. Use suggest_float(..., log=True) instead.\n",
      "  learning_rate = trial.suggest_loguniform('learning_rate', 0.01, 0.3)\n",
      "[I 2024-11-23 02:14:43,708] Trial 2 finished with value: 0.8828616055012344 and parameters: {'n_estimators': 145, 'num_leaves': 91, 'learning_rate': 0.2357685292934141, 'subsample': 0.6796146063987172}. Best is trial 0 with value: 0.8865405153510745.\n",
      "C:\\Users\\PC\\AppData\\Local\\Temp\\ipykernel_5812\\4164574924.py:5: FutureWarning: suggest_loguniform has been deprecated in v3.0.0. This feature will be removed in v6.0.0. See https://github.com/optuna/optuna/releases/tag/v3.0.0. Use suggest_float(..., log=True) instead.\n",
      "  learning_rate = trial.suggest_loguniform('learning_rate', 0.01, 0.3)\n",
      "[I 2024-11-23 02:14:45,776] Trial 3 finished with value: 0.8869216008814623 and parameters: {'n_estimators': 210, 'num_leaves': 52, 'learning_rate': 0.010329871949158461, 'subsample': 0.6309191258510639}. Best is trial 3 with value: 0.8869216008814623.\n",
      "C:\\Users\\PC\\AppData\\Local\\Temp\\ipykernel_5812\\4164574924.py:5: FutureWarning: suggest_loguniform has been deprecated in v3.0.0. This feature will be removed in v6.0.0. See https://github.com/optuna/optuna/releases/tag/v3.0.0. Use suggest_float(..., log=True) instead.\n",
      "  learning_rate = trial.suggest_loguniform('learning_rate', 0.01, 0.3)\n",
      "[I 2024-11-23 02:14:46,993] Trial 4 finished with value: 0.8803112862659745 and parameters: {'n_estimators': 113, 'num_leaves': 93, 'learning_rate': 0.28499504062691927, 'subsample': 0.543326344454232}. Best is trial 3 with value: 0.8869216008814623.\n"
     ]
    }
   ],
   "source": [
    "# LightGBM\n",
    "study_lgbm = optuna.create_study(direction='maximize')\n",
    "study_lgbm.optimize(objective_lightgbm, n_trials=n_trials, callbacks=[mlflc])\n",
    "best_lgbm = LGBMClassifier(**study_lgbm.best_params)\n",
    "best_models['LightGBM'] = best_lgbm\n"
   ]
  },
  {
   "cell_type": "code",
   "execution_count": 32,
   "metadata": {},
   "outputs": [
    {
     "name": "stderr",
     "output_type": "stream",
     "text": [
      "2024/11/23 02:15:04 WARNING mlflow.models.model: Model logged without a signature and input example. Please set `input_example` parameter when logging the model to auto infer the model signature.\n"
     ]
    },
    {
     "name": "stdout",
     "output_type": "stream",
     "text": [
      "K-NN com Optuna HPO - Acurácia: 0.8869086005745441, F1-Score: 0.8338070665274058, Recall: 0.8869086005745441, ROC AUC: 0.5123098681902718\n"
     ]
    },
    {
     "name": "stderr",
     "output_type": "stream",
     "text": [
      "2024/11/23 02:15:07 WARNING mlflow.models.model: Model logged without a signature and input example. Please set `input_example` parameter when logging the model to auto infer the model signature.\n"
     ]
    },
    {
     "name": "stdout",
     "output_type": "stream",
     "text": [
      "Árvore de Decisão com Optuna HPO - Acurácia: 0.8820425631705459, F1-Score: 0.8397023897834482, Recall: 0.8820425631705459, ROC AUC: 0.624586508996352\n"
     ]
    },
    {
     "name": "stderr",
     "output_type": "stream",
     "text": [
      "2024/11/23 03:59:22 WARNING mlflow.models.model: Model logged without a signature and input example. Please set `input_example` parameter when logging the model to auto infer the model signature.\n"
     ]
    },
    {
     "name": "stdout",
     "output_type": "stream",
     "text": [
      "SVM com Optuna HPO - Acurácia: 0.8869672275312188, F1-Score: 0.8338362757298086, Recall: 0.8869672275312188, ROC AUC: 0.5193812294488698\n"
     ]
    },
    {
     "name": "stderr",
     "output_type": "stream",
     "text": [
      "2024/11/23 03:59:41 WARNING mlflow.models.model: Model logged without a signature and input example. Please set `input_example` parameter when logging the model to auto infer the model signature.\n"
     ]
    },
    {
     "name": "stdout",
     "output_type": "stream",
     "text": [
      "Random Forest com Optuna HPO - Acurácia: 0.8870844814445682, F1-Score: 0.8346872954458089, Recall: 0.8870844814445682, ROC AUC: 0.6617177337141249\n"
     ]
    },
    {
     "name": "stderr",
     "output_type": "stream",
     "text": [
      "2024/11/23 03:59:49 WARNING mlflow.models.model: Model logged without a signature and input example. Please set `input_example` parameter when logging the model to auto infer the model signature.\n"
     ]
    },
    {
     "name": "stdout",
     "output_type": "stream",
     "text": [
      "Rede Neural MLP com Optuna HPO - Acurácia: 0.8869672275312188, F1-Score: 0.8338362757298086, Recall: 0.8869672275312188, ROC AUC: 0.5449184043505246\n"
     ]
    },
    {
     "name": "stderr",
     "output_type": "stream",
     "text": [
      "2024/11/23 04:00:24 WARNING mlflow.models.model: Model logged without a signature and input example. Please set `input_example` parameter when logging the model to auto infer the model signature.\n"
     ]
    },
    {
     "name": "stdout",
     "output_type": "stream",
     "text": [
      "Comitê de Redes Neurais Artificiais com Optuna HPO - Acurácia: 0.8869672275312188, F1-Score: 0.8338362757298086, Recall: 0.8869672275312188, ROC AUC: 0.6512032481927896\n"
     ]
    },
    {
     "name": "stderr",
     "output_type": "stream",
     "text": [
      "2024/11/23 04:53:28 WARNING mlflow.models.model: Model logged without a signature and input example. Please set `input_example` parameter when logging the model to auto infer the model signature.\n"
     ]
    },
    {
     "name": "stdout",
     "output_type": "stream",
     "text": [
      "Comitê Heterogêneo (Stacking) com Optuna HPO - Acurácia: 0.8864982118778214, F1-Score: 0.8347251165452486, Recall: 0.8864982118778214, ROC AUC: 0.6442010192290972\n"
     ]
    },
    {
     "name": "stderr",
     "output_type": "stream",
     "text": [
      "c:\\Users\\PC\\.conda\\envs\\venvmodel\\lib\\site-packages\\xgboost\\core.py:158: UserWarning: [04:53:28] WARNING: C:\\buildkite-agent\\builds\\buildkite-windows-cpu-autoscaling-group-i-0ed59c031377d09b8-1\\xgboost\\xgboost-ci-windows\\src\\learner.cc:740: \n",
      "Parameters: { \"use_label_encoder\" } are not used.\n",
      "\n",
      "  warnings.warn(smsg, UserWarning)\n",
      "2024/11/23 04:53:32 WARNING mlflow.models.model: Model logged without a signature and input example. Please set `input_example` parameter when logging the model to auto infer the model signature.\n"
     ]
    },
    {
     "name": "stdout",
     "output_type": "stream",
     "text": [
      "XGBoost com Optuna HPO - Acurácia: 0.8870258544878935, F1-Score: 0.8371794797071358, Recall: 0.8870258544878935, ROC AUC: 0.6540133654170263\n",
      "[LightGBM] [Info] Number of positive: 7714, number of negative: 60513\n",
      "[LightGBM] [Info] Auto-choosing row-wise multi-threading, the overhead of testing was 0.003723 seconds.\n",
      "You can set `force_row_wise=true` to remove the overhead.\n",
      "And if memory is not enough, you can set `force_col_wise=true`.\n",
      "[LightGBM] [Info] Total Bins 1852\n",
      "[LightGBM] [Info] Number of data points in the train set: 68227, number of used features: 83\n",
      "[LightGBM] [Info] [binary:BoostFromScore]: pavg=0.113064 -> initscore=-2.059821\n",
      "[LightGBM] [Info] Start training from score -2.059821\n"
     ]
    },
    {
     "name": "stderr",
     "output_type": "stream",
     "text": [
      "2024/11/23 04:53:35 WARNING mlflow.models.model: Model logged without a signature and input example. Please set `input_example` parameter when logging the model to auto infer the model signature.\n"
     ]
    },
    {
     "name": "stdout",
     "output_type": "stream",
     "text": [
      "LightGBM com Optuna HPO - Acurácia: 0.8869086005745441, F1-Score: 0.8339208346576724, Recall: 0.8869086005745441, ROC AUC: 0.669157177732085\n"
     ]
    }
   ],
   "source": [
    "# Avaliação dos Melhores Modelos e Registro no MLflow\n",
    "for model_name, model in best_models.items():\n",
    "    with mlflow.start_run(run_name=f\"{model_name} - Optuna HPO\"):\n",
    "        acc, f1, recall, roc_auc = evaluate_model(model, X_train, y_train, X_val, y_val)\n",
    "        # Registrando os melhores hiperparâmetros\n",
    "        if model_name == 'K-NN':\n",
    "            mlflow.log_params(study_knn.best_params)\n",
    "        elif model_name == 'Árvore de Decisão':\n",
    "            mlflow.log_params(study_dt.best_params)\n",
    "        elif model_name == 'SVM':\n",
    "            mlflow.log_params(study_svm.best_params)\n",
    "        elif model_name == 'Random Forest':\n",
    "            mlflow.log_params(study_rf.best_params)\n",
    "        elif model_name == 'Rede Neural MLP':\n",
    "            mlflow.log_params(study_mlp.best_params)\n",
    "        elif model_name == 'Comitê de Redes Neurais Artificiais':\n",
    "            mlflow.log_params(study_committee_nn.best_params)\n",
    "        elif model_name == 'Comitê Heterogêneo (Stacking)':\n",
    "            mlflow.log_params(study_stacking.best_params)\n",
    "        elif model_name == 'XGBoost':\n",
    "            mlflow.log_params(study_xgb.best_params)\n",
    "        elif model_name == 'LightGBM':\n",
    "            mlflow.log_params(study_lgbm.best_params)\n",
    "        mlflow.log_metric(\"accuracy\", acc)\n",
    "        mlflow.log_metric(\"f1_score\", f1)\n",
    "        mlflow.log_metric(\"recall\", recall)\n",
    "        if roc_auc is not None:\n",
    "            mlflow.log_metric(\"roc_auc\", roc_auc)\n",
    "        # Salvar o modelo\n",
    "        mlflow.sklearn.log_model(model, model_name)\n",
    "        print(f\"{model_name} com Optuna HPO - Acurácia: {acc}, F1-Score: {f1}, Recall: {recall}, ROC AUC: {roc_auc}\")\n"
   ]
  },
  {
   "cell_type": "code",
   "execution_count": null,
   "metadata": {},
   "outputs": [],
   "source": [
    "# Selecionando o Melhor Modelo = Random Forest\n",
    "best_model_name = 'Random Forest'\n",
    "best_model = best_models[best_model_name]\n"
   ]
  },
  {
   "cell_type": "code",
   "execution_count": 34,
   "metadata": {},
   "outputs": [
    {
     "name": "stderr",
     "output_type": "stream",
     "text": [
      "c:\\Users\\PC\\.conda\\envs\\venvmodel\\lib\\site-packages\\xgboost\\core.py:158: UserWarning: [04:53:35] WARNING: C:\\buildkite-agent\\builds\\buildkite-windows-cpu-autoscaling-group-i-0ed59c031377d09b8-1\\xgboost\\xgboost-ci-windows\\src\\learner.cc:740: \n",
      "Parameters: { \"use_label_encoder\" } are not used.\n",
      "\n",
      "  warnings.warn(smsg, UserWarning)\n"
     ]
    },
    {
     "ename": "ValueError",
     "evalue": "DataFrame.dtypes for data must be int, float, bool or category. When categorical type is supplied, the experimental DMatrix parameter`enable_categorical` must be set to `True`.  Invalid columns:race: object, gender: object, age: object, weight: object, payer_code: object, medical_specialty: object, diag_1: object, diag_2: object, diag_3: object, max_glu_serum: object, A1Cresult: object, metformin: object, repaglinide: object, nateglinide: object, chlorpropamide: object, glimepiride: object, acetohexamide: object, glipizide: object, glyburide: object, tolbutamide: object, pioglitazone: object, rosiglitazone: object, acarbose: object, miglitol: object, troglitazone: object, tolazamide: object, examide: object, citoglipton: object, insulin: object, glyburide.metformin: object, glipizide.metformin: object, glimepiride.pioglitazone: object, metformin.rosiglitazone: object, metformin.pioglitazone: object, change: object, diabetesMed: object",
     "output_type": "error",
     "traceback": [
      "\u001b[1;31m---------------------------------------------------------------------------\u001b[0m",
      "\u001b[1;31mValueError\u001b[0m                                Traceback (most recent call last)",
      "Cell \u001b[1;32mIn[34], line 10\u001b[0m\n\u001b[0;32m      7\u001b[0m best_model\u001b[38;5;241m.\u001b[39mfit(X_combined, y_combined)\n\u001b[0;32m      9\u001b[0m \u001b[38;5;66;03m# Avaliando no conjunto de teste\u001b[39;00m\n\u001b[1;32m---> 10\u001b[0m y_pred_test \u001b[38;5;241m=\u001b[39m \u001b[43mbest_model\u001b[49m\u001b[38;5;241;43m.\u001b[39;49m\u001b[43mpredict\u001b[49m\u001b[43m(\u001b[49m\u001b[43mX_test\u001b[49m\u001b[43m)\u001b[49m\n\u001b[0;32m     11\u001b[0m acc_test \u001b[38;5;241m=\u001b[39m accuracy_score(y_test, y_pred_test)\n\u001b[0;32m     12\u001b[0m f1_test \u001b[38;5;241m=\u001b[39m f1_score(y_test, y_pred_test, average\u001b[38;5;241m=\u001b[39m\u001b[38;5;124m'\u001b[39m\u001b[38;5;124mweighted\u001b[39m\u001b[38;5;124m'\u001b[39m)\n",
      "File \u001b[1;32mc:\\Users\\PC\\.conda\\envs\\venvmodel\\lib\\site-packages\\xgboost\\sklearn.py:1565\u001b[0m, in \u001b[0;36mXGBClassifier.predict\u001b[1;34m(self, X, output_margin, validate_features, base_margin, iteration_range)\u001b[0m\n\u001b[0;32m   1556\u001b[0m \u001b[38;5;28;01mdef\u001b[39;00m \u001b[38;5;21mpredict\u001b[39m(\n\u001b[0;32m   1557\u001b[0m     \u001b[38;5;28mself\u001b[39m,\n\u001b[0;32m   1558\u001b[0m     X: ArrayLike,\n\u001b[1;32m   (...)\u001b[0m\n\u001b[0;32m   1562\u001b[0m     iteration_range: Optional[IterationRange] \u001b[38;5;241m=\u001b[39m \u001b[38;5;28;01mNone\u001b[39;00m,\n\u001b[0;32m   1563\u001b[0m ) \u001b[38;5;241m-\u001b[39m\u001b[38;5;241m>\u001b[39m ArrayLike:\n\u001b[0;32m   1564\u001b[0m     \u001b[38;5;28;01mwith\u001b[39;00m config_context(verbosity\u001b[38;5;241m=\u001b[39m\u001b[38;5;28mself\u001b[39m\u001b[38;5;241m.\u001b[39mverbosity):\n\u001b[1;32m-> 1565\u001b[0m         class_probs \u001b[38;5;241m=\u001b[39m \u001b[38;5;28;43msuper\u001b[39;49m\u001b[43m(\u001b[49m\u001b[43m)\u001b[49m\u001b[38;5;241;43m.\u001b[39;49m\u001b[43mpredict\u001b[49m\u001b[43m(\u001b[49m\n\u001b[0;32m   1566\u001b[0m \u001b[43m            \u001b[49m\u001b[43mX\u001b[49m\u001b[38;5;241;43m=\u001b[39;49m\u001b[43mX\u001b[49m\u001b[43m,\u001b[49m\n\u001b[0;32m   1567\u001b[0m \u001b[43m            \u001b[49m\u001b[43moutput_margin\u001b[49m\u001b[38;5;241;43m=\u001b[39;49m\u001b[43moutput_margin\u001b[49m\u001b[43m,\u001b[49m\n\u001b[0;32m   1568\u001b[0m \u001b[43m            \u001b[49m\u001b[43mvalidate_features\u001b[49m\u001b[38;5;241;43m=\u001b[39;49m\u001b[43mvalidate_features\u001b[49m\u001b[43m,\u001b[49m\n\u001b[0;32m   1569\u001b[0m \u001b[43m            \u001b[49m\u001b[43mbase_margin\u001b[49m\u001b[38;5;241;43m=\u001b[39;49m\u001b[43mbase_margin\u001b[49m\u001b[43m,\u001b[49m\n\u001b[0;32m   1570\u001b[0m \u001b[43m            \u001b[49m\u001b[43miteration_range\u001b[49m\u001b[38;5;241;43m=\u001b[39;49m\u001b[43miteration_range\u001b[49m\u001b[43m,\u001b[49m\n\u001b[0;32m   1571\u001b[0m \u001b[43m        \u001b[49m\u001b[43m)\u001b[49m\n\u001b[0;32m   1572\u001b[0m         \u001b[38;5;28;01mif\u001b[39;00m output_margin:\n\u001b[0;32m   1573\u001b[0m             \u001b[38;5;66;03m# If output_margin is active, simply return the scores\u001b[39;00m\n\u001b[0;32m   1574\u001b[0m             \u001b[38;5;28;01mreturn\u001b[39;00m class_probs\n",
      "File \u001b[1;32mc:\\Users\\PC\\.conda\\envs\\venvmodel\\lib\\site-packages\\xgboost\\sklearn.py:1186\u001b[0m, in \u001b[0;36mXGBModel.predict\u001b[1;34m(self, X, output_margin, validate_features, base_margin, iteration_range)\u001b[0m\n\u001b[0;32m   1184\u001b[0m \u001b[38;5;28;01mif\u001b[39;00m \u001b[38;5;28mself\u001b[39m\u001b[38;5;241m.\u001b[39m_can_use_inplace_predict():\n\u001b[0;32m   1185\u001b[0m     \u001b[38;5;28;01mtry\u001b[39;00m:\n\u001b[1;32m-> 1186\u001b[0m         predts \u001b[38;5;241m=\u001b[39m \u001b[38;5;28;43mself\u001b[39;49m\u001b[38;5;241;43m.\u001b[39;49m\u001b[43mget_booster\u001b[49m\u001b[43m(\u001b[49m\u001b[43m)\u001b[49m\u001b[38;5;241;43m.\u001b[39;49m\u001b[43minplace_predict\u001b[49m\u001b[43m(\u001b[49m\n\u001b[0;32m   1187\u001b[0m \u001b[43m            \u001b[49m\u001b[43mdata\u001b[49m\u001b[38;5;241;43m=\u001b[39;49m\u001b[43mX\u001b[49m\u001b[43m,\u001b[49m\n\u001b[0;32m   1188\u001b[0m \u001b[43m            \u001b[49m\u001b[43miteration_range\u001b[49m\u001b[38;5;241;43m=\u001b[39;49m\u001b[43miteration_range\u001b[49m\u001b[43m,\u001b[49m\n\u001b[0;32m   1189\u001b[0m \u001b[43m            \u001b[49m\u001b[43mpredict_type\u001b[49m\u001b[38;5;241;43m=\u001b[39;49m\u001b[38;5;124;43m\"\u001b[39;49m\u001b[38;5;124;43mmargin\u001b[39;49m\u001b[38;5;124;43m\"\u001b[39;49m\u001b[43m \u001b[49m\u001b[38;5;28;43;01mif\u001b[39;49;00m\u001b[43m \u001b[49m\u001b[43moutput_margin\u001b[49m\u001b[43m \u001b[49m\u001b[38;5;28;43;01melse\u001b[39;49;00m\u001b[43m \u001b[49m\u001b[38;5;124;43m\"\u001b[39;49m\u001b[38;5;124;43mvalue\u001b[39;49m\u001b[38;5;124;43m\"\u001b[39;49m\u001b[43m,\u001b[49m\n\u001b[0;32m   1190\u001b[0m \u001b[43m            \u001b[49m\u001b[43mmissing\u001b[49m\u001b[38;5;241;43m=\u001b[39;49m\u001b[38;5;28;43mself\u001b[39;49m\u001b[38;5;241;43m.\u001b[39;49m\u001b[43mmissing\u001b[49m\u001b[43m,\u001b[49m\n\u001b[0;32m   1191\u001b[0m \u001b[43m            \u001b[49m\u001b[43mbase_margin\u001b[49m\u001b[38;5;241;43m=\u001b[39;49m\u001b[43mbase_margin\u001b[49m\u001b[43m,\u001b[49m\n\u001b[0;32m   1192\u001b[0m \u001b[43m            \u001b[49m\u001b[43mvalidate_features\u001b[49m\u001b[38;5;241;43m=\u001b[39;49m\u001b[43mvalidate_features\u001b[49m\u001b[43m,\u001b[49m\n\u001b[0;32m   1193\u001b[0m \u001b[43m        \u001b[49m\u001b[43m)\u001b[49m\n\u001b[0;32m   1194\u001b[0m         \u001b[38;5;28;01mif\u001b[39;00m _is_cupy_alike(predts):\n\u001b[0;32m   1195\u001b[0m             \u001b[38;5;28;01mimport\u001b[39;00m \u001b[38;5;21;01mcupy\u001b[39;00m  \u001b[38;5;66;03m# pylint: disable=import-error\u001b[39;00m\n",
      "File \u001b[1;32mc:\\Users\\PC\\.conda\\envs\\venvmodel\\lib\\site-packages\\xgboost\\core.py:2508\u001b[0m, in \u001b[0;36mBooster.inplace_predict\u001b[1;34m(self, data, iteration_range, predict_type, missing, validate_features, base_margin, strict_shape)\u001b[0m\n\u001b[0;32m   2506\u001b[0m     data \u001b[38;5;241m=\u001b[39m pd\u001b[38;5;241m.\u001b[39mDataFrame(data)\n\u001b[0;32m   2507\u001b[0m \u001b[38;5;28;01mif\u001b[39;00m _is_pandas_df(data):\n\u001b[1;32m-> 2508\u001b[0m     data, fns, _ \u001b[38;5;241m=\u001b[39m \u001b[43m_transform_pandas_df\u001b[49m\u001b[43m(\u001b[49m\u001b[43mdata\u001b[49m\u001b[43m,\u001b[49m\u001b[43m \u001b[49m\u001b[43menable_categorical\u001b[49m\u001b[43m)\u001b[49m\n\u001b[0;32m   2509\u001b[0m     \u001b[38;5;28;01mif\u001b[39;00m validate_features:\n\u001b[0;32m   2510\u001b[0m         \u001b[38;5;28mself\u001b[39m\u001b[38;5;241m.\u001b[39m_validate_features(fns)\n",
      "File \u001b[1;32mc:\\Users\\PC\\.conda\\envs\\venvmodel\\lib\\site-packages\\xgboost\\data.py:603\u001b[0m, in \u001b[0;36m_transform_pandas_df\u001b[1;34m(data, enable_categorical, feature_names, feature_types, meta)\u001b[0m\n\u001b[0;32m    596\u001b[0m \u001b[38;5;28;01mdef\u001b[39;00m \u001b[38;5;21m_transform_pandas_df\u001b[39m(\n\u001b[0;32m    597\u001b[0m     data: DataFrame,\n\u001b[0;32m    598\u001b[0m     enable_categorical: \u001b[38;5;28mbool\u001b[39m,\n\u001b[1;32m   (...)\u001b[0m\n\u001b[0;32m    601\u001b[0m     meta: Optional[\u001b[38;5;28mstr\u001b[39m] \u001b[38;5;241m=\u001b[39m \u001b[38;5;28;01mNone\u001b[39;00m,\n\u001b[0;32m    602\u001b[0m ) \u001b[38;5;241m-\u001b[39m\u001b[38;5;241m>\u001b[39m Tuple[PandasTransformed, Optional[FeatureNames], Optional[FeatureTypes]]:\n\u001b[1;32m--> 603\u001b[0m     \u001b[43mpandas_check_dtypes\u001b[49m\u001b[43m(\u001b[49m\u001b[43mdata\u001b[49m\u001b[43m,\u001b[49m\u001b[43m \u001b[49m\u001b[43menable_categorical\u001b[49m\u001b[43m)\u001b[49m\n\u001b[0;32m    604\u001b[0m     \u001b[38;5;28;01mif\u001b[39;00m meta \u001b[38;5;129;01mand\u001b[39;00m \u001b[38;5;28mlen\u001b[39m(data\u001b[38;5;241m.\u001b[39mcolumns) \u001b[38;5;241m>\u001b[39m \u001b[38;5;241m1\u001b[39m \u001b[38;5;129;01mand\u001b[39;00m meta \u001b[38;5;129;01mnot\u001b[39;00m \u001b[38;5;129;01min\u001b[39;00m _matrix_meta:\n\u001b[0;32m    605\u001b[0m         \u001b[38;5;28;01mraise\u001b[39;00m \u001b[38;5;167;01mValueError\u001b[39;00m(\u001b[38;5;124mf\u001b[39m\u001b[38;5;124m\"\u001b[39m\u001b[38;5;124mDataFrame for \u001b[39m\u001b[38;5;132;01m{\u001b[39;00mmeta\u001b[38;5;132;01m}\u001b[39;00m\u001b[38;5;124m cannot have multiple columns\u001b[39m\u001b[38;5;124m\"\u001b[39m)\n",
      "File \u001b[1;32mc:\\Users\\PC\\.conda\\envs\\venvmodel\\lib\\site-packages\\xgboost\\data.py:569\u001b[0m, in \u001b[0;36mpandas_check_dtypes\u001b[1;34m(data, enable_categorical)\u001b[0m\n\u001b[0;32m    562\u001b[0m \u001b[38;5;28;01mfor\u001b[39;00m dtype \u001b[38;5;129;01min\u001b[39;00m data\u001b[38;5;241m.\u001b[39mdtypes:\n\u001b[0;32m    563\u001b[0m     \u001b[38;5;28;01mif\u001b[39;00m \u001b[38;5;129;01mnot\u001b[39;00m (\n\u001b[0;32m    564\u001b[0m         (dtype\u001b[38;5;241m.\u001b[39mname \u001b[38;5;129;01min\u001b[39;00m _pandas_dtype_mapper)\n\u001b[0;32m    565\u001b[0m         \u001b[38;5;129;01mor\u001b[39;00m is_pd_sparse_dtype(dtype)\n\u001b[0;32m    566\u001b[0m         \u001b[38;5;129;01mor\u001b[39;00m (is_pd_cat_dtype(dtype) \u001b[38;5;129;01mand\u001b[39;00m enable_categorical)\n\u001b[0;32m    567\u001b[0m         \u001b[38;5;129;01mor\u001b[39;00m is_pa_ext_dtype(dtype)\n\u001b[0;32m    568\u001b[0m     ):\n\u001b[1;32m--> 569\u001b[0m         \u001b[43m_invalid_dataframe_dtype\u001b[49m\u001b[43m(\u001b[49m\u001b[43mdata\u001b[49m\u001b[43m)\u001b[49m\n\u001b[0;32m    571\u001b[0m     \u001b[38;5;28;01mif\u001b[39;00m is_pd_sparse_dtype(dtype):\n\u001b[0;32m    572\u001b[0m         sparse_extension \u001b[38;5;241m=\u001b[39m \u001b[38;5;28;01mTrue\u001b[39;00m\n",
      "File \u001b[1;32mc:\\Users\\PC\\.conda\\envs\\venvmodel\\lib\\site-packages\\xgboost\\data.py:356\u001b[0m, in \u001b[0;36m_invalid_dataframe_dtype\u001b[1;34m(data)\u001b[0m\n\u001b[0;32m    354\u001b[0m type_err \u001b[38;5;241m=\u001b[39m \u001b[38;5;124m\"\u001b[39m\u001b[38;5;124mDataFrame.dtypes for data must be int, float, bool or category.\u001b[39m\u001b[38;5;124m\"\u001b[39m\n\u001b[0;32m    355\u001b[0m msg \u001b[38;5;241m=\u001b[39m \u001b[38;5;124mf\u001b[39m\u001b[38;5;124m\"\"\"\u001b[39m\u001b[38;5;132;01m{\u001b[39;00mtype_err\u001b[38;5;132;01m}\u001b[39;00m\u001b[38;5;124m \u001b[39m\u001b[38;5;132;01m{\u001b[39;00m_ENABLE_CAT_ERR\u001b[38;5;132;01m}\u001b[39;00m\u001b[38;5;124m \u001b[39m\u001b[38;5;132;01m{\u001b[39;00merr\u001b[38;5;132;01m}\u001b[39;00m\u001b[38;5;124m\"\"\"\u001b[39m\n\u001b[1;32m--> 356\u001b[0m \u001b[38;5;28;01mraise\u001b[39;00m \u001b[38;5;167;01mValueError\u001b[39;00m(msg)\n",
      "\u001b[1;31mValueError\u001b[0m: DataFrame.dtypes for data must be int, float, bool or category. When categorical type is supplied, the experimental DMatrix parameter`enable_categorical` must be set to `True`.  Invalid columns:race: object, gender: object, age: object, weight: object, payer_code: object, medical_specialty: object, diag_1: object, diag_2: object, diag_3: object, max_glu_serum: object, A1Cresult: object, metformin: object, repaglinide: object, nateglinide: object, chlorpropamide: object, glimepiride: object, acetohexamide: object, glipizide: object, glyburide: object, tolbutamide: object, pioglitazone: object, rosiglitazone: object, acarbose: object, miglitol: object, troglitazone: object, tolazamide: object, examide: object, citoglipton: object, insulin: object, glyburide.metformin: object, glipizide.metformin: object, glimepiride.pioglitazone: object, metformin.rosiglitazone: object, metformin.pioglitazone: object, change: object, diabetesMed: object"
     ]
    }
   ],
   "source": [
    "# Treinando o Melhor Modelo no Conjunto Combinado e Avaliando no Conjunto de Teste\n",
    "# Combinando os conjuntos de treinamento e validação\n",
    "X_combined = pd.concat([X_train, X_val])\n",
    "y_combined = pd.concat([y_train, y_val])\n",
    "\n",
    "# Treinando o melhor modelo\n",
    "best_model.fit(X_combined, y_combined)\n",
    "\n",
    "# Avaliando no conjunto de teste\n",
    "y_pred_test = best_model.predict(X_test)\n",
    "acc_test = accuracy_score(y_test, y_pred_test)\n",
    "f1_test = f1_score(y_test, y_pred_test, average='weighted')\n",
    "recall_test = recall_score(y_test, y_pred_test, average='weighted')\n",
    "y_prob_test = best_model.predict_proba(X_test)[:, 1] if hasattr(best_model, \"predict_proba\") else None\n",
    "roc_auc_test = roc_auc_score(y_test, y_prob_test) if y_prob_test is not None else None\n",
    "\n",
    "print(f\"Desempenho no conjunto de teste - Acurácia: {acc_test}, F1-Score: {f1_test}, Recall: {recall_test}, ROC AUC: {roc_auc_test}\")\n",
    "\n",
    "# Registrando no MLflow\n",
    "with mlflow.start_run(run_name=\"Melhor Modelo - Teste\"):\n",
    "    mlflow.log_param(\"model_type\", best_model_name)\n",
    "    mlflow.log_metric(\"accuracy_test\", acc_test)\n",
    "    mlflow.log_metric(\"f1_score_test\", f1_test)\n",
    "    mlflow.log_metric(\"recall_test\", recall_test)\n",
    "    if roc_auc_test is not None:\n",
    "        mlflow.log_metric(\"roc_auc_test\", roc_auc_test)\n",
    "    mlflow.sklearn.log_model(best_model, \"Melhor_Modelo\")\n"
   ]
  },
  {
   "cell_type": "code",
   "execution_count": 5,
   "metadata": {},
   "outputs": [
    {
     "data": {
      "text/plain": [
       "admission_type_id            int64\n",
       "discharge_disposition_id     int64\n",
       "admission_source_id          int64\n",
       "time_in_hospital             int64\n",
       "num_lab_procedures           int64\n",
       "num_procedures               int64\n",
       "num_medications              int64\n",
       "number_outpatient            int64\n",
       "number_emergency             int64\n",
       "number_inpatient             int64\n",
       "number_diagnoses             int64\n",
       "race                        object\n",
       "gender                      object\n",
       "age                         object\n",
       "weight                      object\n",
       "payer_code                  object\n",
       "medical_specialty           object\n",
       "diag_1                      object\n",
       "diag_2                      object\n",
       "diag_3                      object\n",
       "max_glu_serum               object\n",
       "A1Cresult                   object\n",
       "metformin                   object\n",
       "repaglinide                 object\n",
       "nateglinide                 object\n",
       "chlorpropamide              object\n",
       "glimepiride                 object\n",
       "acetohexamide               object\n",
       "glipizide                   object\n",
       "glyburide                   object\n",
       "tolbutamide                 object\n",
       "pioglitazone                object\n",
       "rosiglitazone               object\n",
       "acarbose                    object\n",
       "miglitol                    object\n",
       "troglitazone                object\n",
       "tolazamide                  object\n",
       "examide                     object\n",
       "citoglipton                 object\n",
       "insulin                     object\n",
       "glyburide.metformin         object\n",
       "glipizide.metformin         object\n",
       "glimepiride.pioglitazone    object\n",
       "metformin.rosiglitazone     object\n",
       "metformin.pioglitazone      object\n",
       "change                      object\n",
       "diabetesMed                 object\n",
       "class                       object\n",
       "dtype: object"
      ]
     },
     "execution_count": 5,
     "metadata": {},
     "output_type": "execute_result"
    }
   ],
   "source": [
    "test_data.dtypes"
   ]
  },
  {
   "cell_type": "code",
   "execution_count": null,
   "metadata": {},
   "outputs": [],
   "source": [
    "# Visualizações Adicionais\n",
    "from sklearn.metrics import confusion_matrix\n",
    "import seaborn as sns\n",
    "\n",
    "# Matriz de Confusão\n",
    "conf_matrix = confusion_matrix(y_test, y_pred_test)\n",
    "plt.figure(figsize=(8,6))\n",
    "plt.title(\"Matriz de Confusão - Conjunto de Teste\")\n",
    "sns.heatmap(conf_matrix, annot=True, fmt='d', cmap='Blues')\n",
    "plt.xlabel('Predito')\n",
    "plt.ylabel('Real')\n",
    "plt.show()\n"
   ]
  },
  {
   "cell_type": "code",
   "execution_count": null,
   "metadata": {},
   "outputs": [],
   "source": [
    "# Curva ROC\n",
    "if roc_auc_test is not None:\n",
    "    fpr, tpr, thresholds = roc_curve(y_test, y_prob_test)\n",
    "    plt.figure(figsize=(8,6))\n",
    "    plt.plot(fpr, tpr, label=f'ROC curve (area = {roc_auc_test:.2f})')\n",
    "    plt.plot([0, 1], [0, 1], 'k--')  # Linha diagonal\n",
    "    plt.xlabel('False Positive Rate')\n",
    "    plt.ylabel('True Positive Rate')\n",
    "    plt.title('Curva ROC - Conjunto de Teste')\n",
    "    plt.legend(loc='lower right')\n",
    "    plt.show()\n"
   ]
  },
  {
   "cell_type": "code",
   "execution_count": null,
   "metadata": {},
   "outputs": [],
   "source": [
    "# Comparação dos Modelos\n",
    "results = []\n",
    "\n",
    "for model_name, model in best_models.items():\n",
    "    acc, f1, recall, roc_auc = evaluate_model(model, X_train, y_train, X_val, y_val)\n",
    "    results.append({\n",
    "        'Modelo': model_name,\n",
    "        'Acurácia': acc,\n",
    "        'F1-Score': f1,\n",
    "        'Recall': recall,\n",
    "        'ROC AUC': roc_auc\n",
    "    })\n",
    "\n",
    "results_df = pd.DataFrame(results)\n",
    "print(results_df)\n"
   ]
  },
  {
   "cell_type": "code",
   "execution_count": null,
   "metadata": {},
   "outputs": [],
   "source": [
    "# Plotando as métricas\n",
    "results_df_melted = results_df.melt(id_vars='Modelo', value_vars=['Acurácia', 'F1-Score', 'Recall', 'ROC AUC'], var_name='Métrica', value_name='Valor')\n",
    "\n",
    "plt.figure(figsize=(12,8))\n",
    "sns.barplot(x='Modelo', y='Valor', hue='Métrica', data=results_df_melted)\n",
    "plt.xticks(rotation=45)\n",
    "plt.title('Comparação das Métricas dos Modelos')\n",
    "plt.legend(loc='lower right')\n",
    "plt.show()\n"
   ]
  },
  {
   "cell_type": "code",
   "execution_count": null,
   "metadata": {},
   "outputs": [],
   "source": [
    "# Implementação da Metodologia de Janez Demsar\n",
    "from scipy.stats import friedmanchisquare\n",
    "import scikit_posthocs as sp\n",
    "\n",
    "# Supondo que você tenha as acurácias de cada modelo em diferentes folds\n",
    "# Exemplo simplificado\n",
    "model_scores = {\n",
    "    'K-NN': [0.8, 0.82, 0.81, 0.79, 0.8],\n",
    "    'Árvore de Decisão': [0.85, 0.83, 0.84, 0.86, 0.85],\n",
    "    # Adicione os demais modelos\n",
    "}\n",
    "\n",
    "# Convertendo para DataFrame\n",
    "scores_df = pd.DataFrame(model_scores)\n",
    "\n",
    "# Teste de Friedman\n",
    "stat, p = friedmanchisquare(*[scores_df[model] for model in scores_df.columns])\n",
    "print(f'Estatística: {stat}, p-valor: {p}')\n",
    "\n",
    "# Se p-valor < 0.05, há diferença significativa\n",
    "if p < 0.05:\n",
    "    print('Diferença significativa entre os modelos. Realizando teste de Nemenyi.')\n",
    "    nemenyi = sp.posthoc_nemenyi_friedman(scores_df.values)\n",
    "    print(nemenyi)\n",
    "else:\n",
    "    print('Não há diferença significativa entre os modelos.')\n"
   ]
  }
 ],
 "metadata": {
  "kernelspec": {
   "display_name": "venvmodel",
   "language": "python",
   "name": "python3"
  },
  "language_info": {
   "codemirror_mode": {
    "name": "ipython",
    "version": 3
   },
   "file_extension": ".py",
   "mimetype": "text/x-python",
   "name": "python",
   "nbconvert_exporter": "python",
   "pygments_lexer": "ipython3",
   "version": "3.10.15"
  }
 },
 "nbformat": 4,
 "nbformat_minor": 2
}
