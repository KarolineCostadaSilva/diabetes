{
 "cells": [
  {
   "cell_type": "code",
   "execution_count": 202,
   "metadata": {},
   "outputs": [],
   "source": [
    "# Importando as Bibliotecas Necessárias\n",
    "import pandas as pd\n",
    "import numpy as np\n",
    "\n",
    "# Modelos\n",
    "from sklearn.neighbors import KNeighborsClassifier\n",
    "from sklearn.neighbors import NearestCentroid\n",
    "from sklearn.tree import DecisionTreeClassifier\n",
    "from sklearn.svm import SVC\n",
    "from sklearn.ensemble import RandomForestClassifier, StackingClassifier, VotingClassifier\n",
    "from sklearn.neural_network import MLPClassifier\n",
    "from xgboost import XGBClassifier\n",
    "from lightgbm import LGBMClassifier\n",
    "from sklearn_lvq import GlvqModel\n",
    "\n",
    "# Validação e métricas\n",
    "from sklearn.model_selection import cross_val_score, KFold\n",
    "from sklearn.metrics import accuracy_score, f1_score, recall_score, roc_auc_score, roc_curve\n",
    "from sklearn.preprocessing import OrdinalEncoder, StandardScaler\n",
    "\n",
    "# Bibliotecas adicionais\n",
    "import optuna\n",
    "from optuna.integration.mlflow import MLflowCallback\n",
    "import mlflow\n",
    "import mlflow.sklearn\n",
    "import matplotlib.pyplot as plt\n",
    "import seaborn as sns"
   ]
  },
  {
   "cell_type": "code",
   "execution_count": 203,
   "metadata": {},
   "outputs": [
    {
     "data": {
      "text/plain": [
       "<Experiment: artifact_location='file:///c:/Users/PC/Documents/GitHub/diabetes/mlruns/490920415060799094', creation_time=1732409763939, experiment_id='490920415060799094', last_update_time=1732409763939, lifecycle_stage='active', name='Modelagem de Classificação', tags={}>"
      ]
     },
     "execution_count": 203,
     "metadata": {},
     "output_type": "execute_result"
    }
   ],
   "source": [
    "# Configurando o MLflow\n",
    "mlflow.set_experiment(\"Modelagem de Classificação\")"
   ]
  },
  {
   "cell_type": "code",
   "execution_count": 204,
   "metadata": {},
   "outputs": [],
   "source": [
    "# Carregando os conjuntos de dados\n",
    "train_data = pd.read_csv('train_data.csv')\n",
    "validation_data = pd.read_csv('validation_data.csv')\n",
    "test_data = pd.read_csv('test_data.csv')"
   ]
  },
  {
   "cell_type": "code",
   "execution_count": null,
   "metadata": {},
   "outputs": [],
   "source": [
    "# Separando features e target no conjunto de treinamento\n",
    "X_train = train_data.drop('class', axis=1)\n",
    "y_train = train_data['class']\n",
    "\n",
    "# Separando features e target no conjunto de validação\n",
    "X_val = validation_data.drop('class', axis=1)\n",
    "y_val = validation_data['class']\n"
   ]
  },
  {
   "cell_type": "code",
   "execution_count": 208,
   "metadata": {},
   "outputs": [],
   "source": [
    "# Definindo uma Função de Avaliação\n",
    "def evaluate_model(model, X_train, y_train, X_val, y_val, model_name):\n",
    "    # Treinando e avaliando o modelo com os dados originais\n",
    "    model.fit(X_train, y_train)\n",
    "    y_pred = model.predict(X_val)\n",
    "    y_true = y_val\n",
    "    X_val_used = X_val\n",
    "\n",
    "    # Calculando as métricas\n",
    "    acc = accuracy_score(y_true, y_pred)\n",
    "    f1 = f1_score(y_true, y_pred, average='weighted')\n",
    "    recall = recall_score(y_true, y_pred, average='weighted')\n",
    "    if hasattr(model, \"predict_proba\"):\n",
    "        y_prob = model.predict_proba(X_val_used)\n",
    "        if y_prob.ndim == 1 or y_prob.shape[1] == 2:\n",
    "            y_prob = y_prob[:, -1]  # Para classes binárias\n",
    "            roc_auc = roc_auc_score(y_true, y_prob)\n",
    "        else:\n",
    "            roc_auc = roc_auc_score(y_true, y_prob, multi_class='ovo', average='weighted')\n",
    "    else:\n",
    "        roc_auc = None\n",
    "    return acc, f1, recall, roc_auc\n"
   ]
  },
  {
   "cell_type": "code",
   "execution_count": 209,
   "metadata": {},
   "outputs": [],
   "source": [
    "# Definindo os Modelos\n",
    "models = {\n",
    "    'K-NN': KNeighborsClassifier(),\n",
    "    'LVQ': NearestCentroid(),\n",
    "    'Árvore de Decisão': DecisionTreeClassifier(),\n",
    "    'SVM': SVC(),\n",
    "    'Random Forest': RandomForestClassifier(),\n",
    "    'Rede Neural MLP': MLPClassifier(max_iter=500),\n",
    "    'XGBoost': XGBClassifier(use_label_encoder=False, eval_metric='logloss'),\n",
    "    'LightGBM': LGBMClassifier()\n",
    "}"
   ]
  },
  {
   "cell_type": "code",
   "execution_count": 210,
   "metadata": {},
   "outputs": [],
   "source": [
    "# Comitê de Redes Neurais Artificiais\n",
    "# Definindo múltiplas redes neurais\n",
    "nn1 = MLPClassifier(hidden_layer_sizes=(50,), activation='relu', solver='adam', max_iter=500, random_state=1)\n",
    "nn2 = MLPClassifier(hidden_layer_sizes=(100,), activation='tanh', solver='sgd', max_iter=500, random_state=2)\n",
    "nn3 = MLPClassifier(hidden_layer_sizes=(50, 50), activation='relu', solver='adam', max_iter=500, random_state=3)\n",
    "\n",
    "# Criando o Comitê\n",
    "committee_nn = VotingClassifier(estimators=[\n",
    "    ('nn1', nn1),\n",
    "    ('nn2', nn2),\n",
    "    ('nn3', nn3)\n",
    "], voting='soft')\n",
    "\n",
    "models['Comitê de Redes Neurais Artificiais'] = committee_nn\n"
   ]
  },
  {
   "cell_type": "code",
   "execution_count": 211,
   "metadata": {},
   "outputs": [],
   "source": [
    "# Comitê Heterogêneo (Stacking)\n",
    "# Modelos base\n",
    "estimators = [\n",
    "    ('rf', RandomForestClassifier(n_estimators=100, random_state=42)),\n",
    "    ('svm', SVC(random_state=42)),\n",
    "    ('knn', KNeighborsClassifier())\n",
    "]\n",
    "\n",
    "# Modelo meta\n",
    "from sklearn.linear_model import LogisticRegression\n",
    "final_estimator = LogisticRegression()\n",
    "\n",
    "# Criando o StackingClassifier\n",
    "stacking_model = StackingClassifier(estimators=estimators, final_estimator=final_estimator, cv=5)\n",
    "\n",
    "models['Comitê Heterogêneo (Stacking)'] = stacking_model"
   ]
  },
  {
   "cell_type": "code",
   "execution_count": 212,
   "metadata": {},
   "outputs": [
    {
     "name": "stderr",
     "output_type": "stream",
     "text": [
      "2024/11/24 01:28:38 WARNING mlflow.models.model: Model logged without a signature and input example. Please set `input_example` parameter when logging the model to auto infer the model signature.\n"
     ]
    },
    {
     "name": "stdout",
     "output_type": "stream",
     "text": [
      "K-NN - Acurácia: 0.8749487014129097, F1-Score: 0.8305980818922424, Recall: 0.8749487014129097, ROC AUC: 0.5054859295809839\n"
     ]
    },
    {
     "name": "stderr",
     "output_type": "stream",
     "text": [
      "2024/11/24 01:28:40 WARNING mlflow.models.model: Model logged without a signature and input example. Please set `input_example` parameter when logging the model to auto infer the model signature.\n"
     ]
    },
    {
     "name": "stdout",
     "output_type": "stream",
     "text": [
      "LVQ - Acurácia: 0.5108166735064783, F1-Score: 0.5965374024166652, Recall: 0.5108166735064783, ROC AUC: None\n"
     ]
    },
    {
     "name": "stderr",
     "output_type": "stream",
     "text": [
      "2024/11/24 01:28:43 WARNING mlflow.models.model: Model logged without a signature and input example. Please set `input_example` parameter when logging the model to auto infer the model signature.\n"
     ]
    },
    {
     "name": "stdout",
     "output_type": "stream",
     "text": [
      "Árvore de Decisão - Acurácia: 0.7972093568622852, F1-Score: 0.8035707856424888, Recall: 0.7972093568622852, ROC AUC: 0.5285752075717296\n"
     ]
    },
    {
     "name": "stderr",
     "output_type": "stream",
     "text": [
      "2024/11/24 01:30:54 WARNING mlflow.models.model: Model logged without a signature and input example. Please set `input_example` parameter when logging the model to auto infer the model signature.\n"
     ]
    },
    {
     "name": "stdout",
     "output_type": "stream",
     "text": [
      "SVM - Acurácia: 0.8869672275312188, F1-Score: 0.8338362757298086, Recall: 0.8869672275312188, ROC AUC: None\n"
     ]
    },
    {
     "name": "stderr",
     "output_type": "stream",
     "text": [
      "2024/11/24 01:31:05 WARNING mlflow.models.model: Model logged without a signature and input example. Please set `input_example` parameter when logging the model to auto infer the model signature.\n"
     ]
    },
    {
     "name": "stdout",
     "output_type": "stream",
     "text": [
      "Random Forest - Acurácia: 0.8863223310077973, F1-Score: 0.8340782091250809, Recall: 0.8863223310077973, ROC AUC: 0.6411218123035395\n"
     ]
    },
    {
     "name": "stderr",
     "output_type": "stream",
     "text": [
      "2024/11/24 01:31:25 WARNING mlflow.models.model: Model logged without a signature and input example. Please set `input_example` parameter when logging the model to auto infer the model signature.\n",
      "c:\\Users\\PC\\.conda\\envs\\venvmodel\\lib\\site-packages\\xgboost\\core.py:158: UserWarning: [01:31:25] WARNING: C:\\buildkite-agent\\builds\\buildkite-windows-cpu-autoscaling-group-i-0ed59c031377d09b8-1\\xgboost\\xgboost-ci-windows\\src\\learner.cc:740: \n",
      "Parameters: { \"use_label_encoder\" } are not used.\n",
      "\n",
      "  warnings.warn(smsg, UserWarning)\n"
     ]
    },
    {
     "name": "stdout",
     "output_type": "stream",
     "text": [
      "Rede Neural MLP - Acurácia: 0.8862050770944481, F1-Score: 0.8350171768105302, Recall: 0.8862050770944481, ROC AUC: 0.6526632715218965\n"
     ]
    },
    {
     "name": "stderr",
     "output_type": "stream",
     "text": [
      "2024/11/24 01:31:27 WARNING mlflow.models.model: Model logged without a signature and input example. Please set `input_example` parameter when logging the model to auto infer the model signature.\n"
     ]
    },
    {
     "name": "stdout",
     "output_type": "stream",
     "text": [
      "XGBoost - Acurácia: 0.8854429266576772, F1-Score: 0.8368679264132897, Recall: 0.8854429266576772, ROC AUC: 0.6455116187509411\n",
      "[LightGBM] [Info] Number of positive: 7714, number of negative: 60513\n",
      "[LightGBM] [Info] Auto-choosing row-wise multi-threading, the overhead of testing was 0.003787 seconds.\n",
      "You can set `force_row_wise=true` to remove the overhead.\n",
      "And if memory is not enough, you can set `force_col_wise=true`.\n",
      "[LightGBM] [Info] Total Bins 1852\n",
      "[LightGBM] [Info] Number of data points in the train set: 68227, number of used features: 83\n",
      "[LightGBM] [Info] [binary:BoostFromScore]: pavg=0.113064 -> initscore=-2.059821\n",
      "[LightGBM] [Info] Start training from score -2.059821\n"
     ]
    },
    {
     "name": "stderr",
     "output_type": "stream",
     "text": [
      "2024/11/24 01:31:30 WARNING mlflow.models.model: Model logged without a signature and input example. Please set `input_example` parameter when logging the model to auto infer the model signature.\n"
     ]
    },
    {
     "name": "stdout",
     "output_type": "stream",
     "text": [
      "LightGBM - Acurácia: 0.8870258544878935, F1-Score: 0.835878963507557, Recall: 0.8870258544878935, ROC AUC: 0.6652721930265553\n"
     ]
    },
    {
     "name": "stderr",
     "output_type": "stream",
     "text": [
      "2024/11/24 01:32:42 WARNING mlflow.models.model: Model logged without a signature and input example. Please set `input_example` parameter when logging the model to auto infer the model signature.\n"
     ]
    },
    {
     "name": "stdout",
     "output_type": "stream",
     "text": [
      "Comitê de Redes Neurais Artificiais - Acurácia: 0.8867327197045202, F1-Score: 0.8345094391946535, Recall: 0.8867327197045202, ROC AUC: 0.6561677114848266\n"
     ]
    },
    {
     "name": "stderr",
     "output_type": "stream",
     "text": [
      "2024/11/24 01:42:10 WARNING mlflow.models.model: Model logged without a signature and input example. Please set `input_example` parameter when logging the model to auto infer the model signature.\n"
     ]
    },
    {
     "name": "stdout",
     "output_type": "stream",
     "text": [
      "Comitê Heterogêneo (Stacking) - Acurácia: 0.8864982118778214, F1-Score: 0.8347251165452486, Recall: 0.8864982118778214, ROC AUC: 0.642877957724016\n",
      "                                Modelo  Acurácia  F1-Score    Recall   ROC AUC\n",
      "0                                 K-NN  0.874949  0.830598  0.874949  0.505486\n",
      "1                                  LVQ  0.510817  0.596537  0.510817       NaN\n",
      "2                    Árvore de Decisão  0.797209  0.803571  0.797209  0.528575\n",
      "3                                  SVM  0.886967  0.833836  0.886967       NaN\n",
      "4                        Random Forest  0.886322  0.834078  0.886322  0.641122\n",
      "5                      Rede Neural MLP  0.886205  0.835017  0.886205  0.652663\n",
      "6                              XGBoost  0.885443  0.836868  0.885443  0.645512\n",
      "7                             LightGBM  0.887026  0.835879  0.887026  0.665272\n",
      "8  Comitê de Redes Neurais Artificiais  0.886733  0.834509  0.886733  0.656168\n",
      "9        Comitê Heterogêneo (Stacking)  0.886498  0.834725  0.886498  0.642878\n"
     ]
    }
   ],
   "source": [
    "# Executando os Modelos Básicos e Registrando no MLflow\n",
    "initial_results = []\n",
    "\n",
    "for model_name, model in models.items():\n",
    "    with mlflow.start_run(run_name=model_name):\n",
    "        acc, f1, recall, roc_auc = evaluate_model(model, X_train, y_train, X_val, y_val, model_name)\n",
    "        mlflow.log_param(\"model_type\", model_name)\n",
    "        mlflow.log_metric(\"accuracy\", acc)\n",
    "        mlflow.log_metric(\"f1_score\", f1)\n",
    "        mlflow.log_metric(\"recall\", recall)\n",
    "        if roc_auc is not None:\n",
    "            mlflow.log_metric(\"roc_auc\", roc_auc)\n",
    "        # Salvar o modelo\n",
    "        mlflow.sklearn.log_model(model, model_name)\n",
    "        print(f\"{model_name} - Acurácia: {acc}, F1-Score: {f1}, Recall: {recall}, ROC AUC: {roc_auc}\")\n",
    "        initial_results.append({\n",
    "            'Modelo': model_name,\n",
    "            'Acurácia': acc,\n",
    "            'F1-Score': f1,\n",
    "            'Recall': recall,\n",
    "            'ROC AUC': roc_auc\n",
    "        })\n",
    "\n",
    "# Converte os resultados iniciais em DataFrame\n",
    "initial_results_df = pd.DataFrame(initial_results)\n",
    "\n",
    "# Exibindo os resultados iniciais\n",
    "print(initial_results_df)"
   ]
  },
  {
   "cell_type": "code",
   "execution_count": 213,
   "metadata": {},
   "outputs": [
    {
     "name": "stderr",
     "output_type": "stream",
     "text": [
      "C:\\Users\\PC\\AppData\\Local\\Temp\\ipykernel_9704\\2387988113.py:3: ExperimentalWarning: MLflowCallback is experimental (supported from v1.4.0). The interface can change in the future.\n",
      "  mlflc = MLflowCallback(tracking_uri=mlflow.get_tracking_uri(), metric_name='accuracy')\n"
     ]
    }
   ],
   "source": [
    "# Busca de Hiperparâmetros com Optuna\n",
    "# Configurando o Callback do MLflow para o Optuna\n",
    "mlflc = MLflowCallback(tracking_uri=mlflow.get_tracking_uri(), metric_name='accuracy')\n"
   ]
  },
  {
   "cell_type": "code",
   "execution_count": 214,
   "metadata": {},
   "outputs": [],
   "source": [
    "def build_classifier(model_name, params):\n",
    "    if model_name == 'K-NN':\n",
    "        classifier = KNeighborsClassifier(\n",
    "            n_neighbors=params['n_neighbors'],\n",
    "            weights=params['weights'],\n",
    "            algorithm=params['algorithm']\n",
    "        )\n",
    "    elif model_name == 'LVQ':\n",
    "        classifier = NearestCentroid(\n",
    "            metric=params['metric'],\n",
    "            shrink_threshold=params['shrink_threshold']\n",
    "        )\n",
    "    elif model_name == 'Árvore de Decisão':\n",
    "        classifier = DecisionTreeClassifier(\n",
    "            max_depth=params['max_depth'],\n",
    "            min_samples_split=params['min_samples_split'],\n",
    "            criterion=params['criterion']\n",
    "        )\n",
    "    elif model_name == 'SVM':\n",
    "        classifier = SVC(\n",
    "            C=params['C'],\n",
    "            kernel=params['kernel'],\n",
    "            gamma=params['gamma']\n",
    "        )\n",
    "    elif model_name == 'Random Forest':\n",
    "        classifier = RandomForestClassifier(\n",
    "            n_estimators=params['n_estimators'],\n",
    "            max_depth=params['max_depth'],\n",
    "            min_samples_split=params['min_samples_split']\n",
    "        )\n",
    "    elif model_name == 'Rede Neural MLP':\n",
    "        classifier = MLPClassifier(\n",
    "            hidden_layer_sizes=params['hidden_layer_sizes'],\n",
    "            activation=params['activation'],\n",
    "            solver=params['solver'],\n",
    "            alpha=params['alpha'],\n",
    "            max_iter=500\n",
    "        )\n",
    "    elif model_name == 'Comitê de Redes Neurais Artificiais':\n",
    "        nn1 = MLPClassifier(\n",
    "            hidden_layer_sizes=params['hidden_layer_sizes'],\n",
    "            activation=params['activation'],\n",
    "            solver=params['solver'],\n",
    "            max_iter=500,\n",
    "            random_state=1\n",
    "        )\n",
    "        nn2 = MLPClassifier(\n",
    "            hidden_layer_sizes=params['hidden_layer_sizes'],\n",
    "            activation=params['activation'],\n",
    "            solver=params['solver'],\n",
    "            max_iter=500,\n",
    "            random_state=2\n",
    "        )\n",
    "        nn3 = MLPClassifier(\n",
    "            hidden_layer_sizes=params['hidden_layer_sizes'],\n",
    "            activation=params['activation'],\n",
    "            solver=params['solver'],\n",
    "            max_iter=500,\n",
    "            random_state=3\n",
    "        )\n",
    "        classifier = VotingClassifier(\n",
    "            estimators=[\n",
    "                ('nn1', nn1),\n",
    "                ('nn2', nn2),\n",
    "                ('nn3', nn3)\n",
    "            ],\n",
    "            voting='soft'\n",
    "        )\n",
    "    elif model_name == 'Comitê Heterogêneo (Stacking)':\n",
    "        final_estimator = LogisticRegression(\n",
    "            C=params['C'],\n",
    "            penalty=params['penalty'],\n",
    "            solver=params['solver']\n",
    "        )\n",
    "        estimators = [\n",
    "            ('rf', RandomForestClassifier(n_estimators=100, random_state=42)),\n",
    "            ('svm', SVC(random_state=42)),\n",
    "            ('knn', KNeighborsClassifier())\n",
    "        ]\n",
    "        classifier = StackingClassifier(\n",
    "            estimators=estimators,\n",
    "            final_estimator=final_estimator,\n",
    "            cv=5\n",
    "        )\n",
    "    elif model_name == 'XGBoost':\n",
    "        classifier = XGBClassifier(\n",
    "            n_estimators=params['n_estimators'],\n",
    "            max_depth=params['max_depth'],\n",
    "            learning_rate=params['learning_rate'],\n",
    "            subsample=params['subsample'],\n",
    "            use_label_encoder=False,\n",
    "            eval_metric='logloss'\n",
    "        )\n",
    "    elif model_name == 'LightGBM':\n",
    "        classifier = LGBMClassifier(\n",
    "            n_estimators=params['n_estimators'],\n",
    "            num_leaves=params['num_leaves'],\n",
    "            learning_rate=params['learning_rate'],\n",
    "            subsample=params['subsample']\n",
    "        )\n",
    "    else:\n",
    "        raise ValueError(f\"Modelo {model_name} não reconhecido.\")\n",
    "    return classifier\n"
   ]
  },
  {
   "cell_type": "code",
   "execution_count": 215,
   "metadata": {},
   "outputs": [],
   "source": [
    "def objective_factory(model_name):\n",
    "    def objective(trial):\n",
    "        params = {}\n",
    "        # Definir os hiperparâmetros para cada modelo\n",
    "        if model_name == 'K-NN':\n",
    "            params['n_neighbors'] = trial.suggest_int('n_neighbors', 1, 30)\n",
    "            params['weights'] = trial.suggest_categorical('weights', ['uniform', 'distance'])\n",
    "            params['algorithm'] = trial.suggest_categorical('algorithm', ['auto', 'ball_tree', 'kd_tree', 'brute'])\n",
    "        \n",
    "        elif model_name == 'LVQ':\n",
    "            params['metric'] = trial.suggest_categorical('metric', ['euclidean', 'manhattan'])\n",
    "            use_shrinkage = trial.suggest_categorical('use_shrinkage', [True, False])\n",
    "            params['shrink_threshold'] = trial.suggest_float('shrink_threshold', 0.0, 1.0) if use_shrinkage else None\n",
    "        \n",
    "        elif model_name == 'Árvore de Decisão':\n",
    "            params['max_depth'] = trial.suggest_int('max_depth', 1, 20)\n",
    "            params['min_samples_split'] = trial.suggest_int('min_samples_split', 2, 10)\n",
    "            params['criterion'] = trial.suggest_categorical('criterion', ['gini', 'entropy'])\n",
    "        \n",
    "        elif model_name == 'SVM':\n",
    "            params['C'] = trial.suggest_float('C', 0.1, 10.0, log=True)\n",
    "            params['kernel'] = trial.suggest_categorical('kernel', ['linear', 'rbf'])\n",
    "            params['gamma'] = trial.suggest_categorical('gamma', ['scale', 'auto'])\n",
    "        \n",
    "        elif model_name == 'Random Forest':\n",
    "            params['n_estimators'] = trial.suggest_int('n_estimators', 50, 300)\n",
    "            params['max_depth'] = trial.suggest_int('max_depth', 2, 20)\n",
    "            params['min_samples_split'] = trial.suggest_int('min_samples_split', 2, 10)\n",
    "        \n",
    "        elif model_name == 'Rede Neural MLP':\n",
    "            params['hidden_layer_sizes'] = trial.suggest_categorical('hidden_layer_sizes', [(50,), (100,), (50,50)])\n",
    "            params['activation'] = trial.suggest_categorical('activation', ['tanh', 'relu'])\n",
    "            params['solver'] = trial.suggest_categorical('solver', ['sgd', 'adam'])\n",
    "            params['alpha'] = trial.suggest_float('alpha', 1e-5, 1e-1, log=True)\n",
    "        \n",
    "        elif model_name == 'Comitê de Redes Neurais Artificiais':\n",
    "            params['hidden_layer_sizes'] = trial.suggest_categorical('hidden_layer_sizes', [(50,), (100,), (50,50)])\n",
    "            params['activation'] = trial.suggest_categorical('activation', ['tanh', 'relu'])\n",
    "            params['solver'] = trial.suggest_categorical('solver', ['sgd', 'adam'])\n",
    "        \n",
    "        elif model_name == 'Comitê Heterogêneo (Stacking)':\n",
    "            params['C'] = trial.suggest_float('C', 0.1, 10.0, log=True)\n",
    "            params['penalty'] = trial.suggest_categorical('penalty', ['l2'])\n",
    "            params['solver'] = trial.suggest_categorical('solver', ['lbfgs'])\n",
    "        \n",
    "        elif model_name == 'XGBoost':\n",
    "            params['n_estimators'] = trial.suggest_int('n_estimators', 50, 300)\n",
    "            params['max_depth'] = trial.suggest_int('max_depth', 3, 15)\n",
    "            params['learning_rate'] = trial.suggest_float('learning_rate', 0.01, 0.3, log=True)\n",
    "            params['subsample'] = trial.suggest_float('subsample', 0.5, 1.0)\n",
    "        \n",
    "        elif model_name == 'LightGBM':\n",
    "            params['n_estimators'] = trial.suggest_int('n_estimators', 50, 300)\n",
    "            params['num_leaves'] = trial.suggest_int('num_leaves', 31, 150)\n",
    "            params['learning_rate'] = trial.suggest_float('learning_rate', 0.01, 0.3, log=True)\n",
    "            params['subsample'] = trial.suggest_float('subsample', 0.5, 1.0)\n",
    "        \n",
    "        else:\n",
    "            raise ValueError(f\"Modelo {model_name} não reconhecido.\")\n",
    "        \n",
    "        classifier = build_classifier(model_name, params)\n",
    "        \n",
    "        acc = cross_val_score(classifier, X_train, y_train, cv=5, scoring='accuracy', n_jobs=-1).mean()\n",
    "        return acc\n",
    "    return objective\n"
   ]
  },
  {
   "cell_type": "code",
   "execution_count": null,
   "metadata": {},
   "outputs": [],
   "source": [
    "# Executando as Otimizações com Optuna\n",
    "n_trials = 2  # Número de iterações"
   ]
  },
  {
   "cell_type": "code",
   "execution_count": 218,
   "metadata": {},
   "outputs": [],
   "source": [
    "# Dicionário para armazenar os melhores modelos e seus scores\n",
    "best_models = {}\n",
    "best_params = {}\n",
    "cv_results = {}\n"
   ]
  },
  {
   "cell_type": "code",
   "execution_count": null,
   "metadata": {},
   "outputs": [
    {
     "name": "stderr",
     "output_type": "stream",
     "text": [
      "[I 2024-11-24 01:42:11,191] A new study created in memory with name: Modelagem\n"
     ]
    },
    {
     "name": "stdout",
     "output_type": "stream",
     "text": [
      "Otimização para o modelo: K-NN\n"
     ]
    },
    {
     "name": "stderr",
     "output_type": "stream",
     "text": [
      "[I 2024-11-24 01:42:18,874] Trial 0 finished with value: 0.8869362571910037 and parameters: {'n_neighbors': 21, 'weights': 'uniform', 'algorithm': 'brute'}. Best is trial 0 with value: 0.8869362571910037.\n",
      "[I 2024-11-24 01:43:14,945] Trial 1 finished with value: 0.8869362571910037 and parameters: {'n_neighbors': 21, 'weights': 'uniform', 'algorithm': 'ball_tree'}. Best is trial 0 with value: 0.8869362571910037.\n",
      "[I 2024-11-24 01:43:22,448] Trial 2 finished with value: 0.8867750356378183 and parameters: {'n_neighbors': 12, 'weights': 'uniform', 'algorithm': 'brute'}. Best is trial 0 with value: 0.8869362571910037.\n",
      "[I 2024-11-24 01:43:29,664] Trial 3 finished with value: 0.8869362571910037 and parameters: {'n_neighbors': 26, 'weights': 'uniform', 'algorithm': 'auto'}. Best is trial 0 with value: 0.8869362571910037.\n",
      "[I 2024-11-24 01:43:39,327] Trial 4 finished with value: 0.8856171356265025 and parameters: {'n_neighbors': 9, 'weights': 'uniform', 'algorithm': 'kd_tree'}. Best is trial 0 with value: 0.8869362571910037.\n",
      "[I 2024-11-24 01:43:45,614] A new study created in memory with name: Modelagem\n"
     ]
    },
    {
     "name": "stdout",
     "output_type": "stream",
     "text": [
      "Otimização para o modelo: LVQ\n"
     ]
    },
    {
     "name": "stderr",
     "output_type": "stream",
     "text": [
      "[I 2024-11-24 01:43:45,917] Trial 0 finished with value: 0.5102085562235421 and parameters: {'metric': 'euclidean', 'use_shrinkage': False}. Best is trial 0 with value: 0.5102085562235421.\n",
      "[I 2024-11-24 01:43:46,415] Trial 1 finished with value: 0.5095783059121426 and parameters: {'metric': 'euclidean', 'use_shrinkage': True, 'shrink_threshold': 0.48093190148436094}. Best is trial 0 with value: 0.5102085562235421.\n",
      "[I 2024-11-24 01:43:46,900] Trial 2 finished with value: 0.5101059577602903 and parameters: {'metric': 'euclidean', 'use_shrinkage': True, 'shrink_threshold': 0.05967789660956835}. Best is trial 0 with value: 0.5102085562235421.\n",
      "[I 2024-11-24 01:43:47,446] Trial 3 finished with value: 0.5331026784311701 and parameters: {'metric': 'manhattan', 'use_shrinkage': True, 'shrink_threshold': 0.5315513738418384}. Best is trial 3 with value: 0.5331026784311701.\n",
      "[I 2024-11-24 01:43:48,005] Trial 4 finished with value: 0.5327948798190674 and parameters: {'metric': 'manhattan', 'use_shrinkage': True, 'shrink_threshold': 0.6110235106775829}. Best is trial 3 with value: 0.5331026784311701.\n",
      "[I 2024-11-24 01:43:48,807] A new study created in memory with name: Modelagem\n"
     ]
    },
    {
     "name": "stdout",
     "output_type": "stream",
     "text": [
      "Otimização para o modelo: Árvore de Decisão\n"
     ]
    },
    {
     "name": "stderr",
     "output_type": "stream",
     "text": [
      "[I 2024-11-24 01:43:49,646] Trial 0 finished with value: 0.8718688846226204 and parameters: {'max_depth': 14, 'min_samples_split': 4, 'criterion': 'entropy'}. Best is trial 0 with value: 0.8718688846226204.\n",
      "[I 2024-11-24 01:43:50,598] Trial 1 finished with value: 0.8683512199565122 and parameters: {'max_depth': 15, 'min_samples_split': 5, 'criterion': 'gini'}. Best is trial 0 with value: 0.8718688846226204.\n",
      "[I 2024-11-24 01:43:51,375] Trial 2 finished with value: 0.8813959391012883 and parameters: {'max_depth': 10, 'min_samples_split': 5, 'criterion': 'entropy'}. Best is trial 2 with value: 0.8813959391012883.\n",
      "[I 2024-11-24 01:43:52,098] Trial 3 finished with value: 0.8827297201976781 and parameters: {'max_depth': 9, 'min_samples_split': 2, 'criterion': 'entropy'}. Best is trial 3 with value: 0.8827297201976781.\n",
      "[I 2024-11-24 01:43:52,577] Trial 4 finished with value: 0.8868189938252844 and parameters: {'max_depth': 4, 'min_samples_split': 3, 'criterion': 'entropy'}. Best is trial 4 with value: 0.8868189938252844.\n",
      "[I 2024-11-24 01:43:53,549] A new study created in memory with name: Modelagem\n"
     ]
    },
    {
     "name": "stdout",
     "output_type": "stream",
     "text": [
      "Otimização para o modelo: SVM\n"
     ]
    },
    {
     "name": "stderr",
     "output_type": "stream",
     "text": [
      "[I 2024-11-24 02:56:11,381] Trial 0 finished with value: 0.8455597198426827 and parameters: {'C': 2.471373418487883, 'kernel': 'linear', 'gamma': 'auto'}. Best is trial 0 with value: 0.8455597198426827.\n",
      "[I 2024-11-24 04:04:47,462] Trial 1 finished with value: 0.8709747562925326 and parameters: {'C': 0.7017992831138444, 'kernel': 'linear', 'gamma': 'scale'}. Best is trial 1 with value: 0.8709747562925326.\n",
      "[I 2024-11-24 05:16:45,916] Trial 2 finished with value: 0.8746536951434984 and parameters: {'C': 0.4856865002051285, 'kernel': 'linear', 'gamma': 'auto'}. Best is trial 2 with value: 0.8746536951434984.\n",
      "[I 2024-11-24 06:28:57,388] Trial 3 finished with value: 0.8438448521417896 and parameters: {'C': 2.9922013287804083, 'kernel': 'linear', 'gamma': 'auto'}. Best is trial 2 with value: 0.8746536951434984.\n",
      "[I 2024-11-24 07:41:28,793] Trial 4 finished with value: 0.8559804472263565 and parameters: {'C': 1.856957298624054, 'kernel': 'linear', 'gamma': 'auto'}. Best is trial 2 with value: 0.8746536951434984.\n",
      "[I 2024-11-24 11:21:40,660] A new study created in memory with name: Modelagem\n"
     ]
    },
    {
     "name": "stdout",
     "output_type": "stream",
     "text": [
      "Otimização para o modelo: Random Forest\n"
     ]
    },
    {
     "name": "stderr",
     "output_type": "stream",
     "text": [
      "[I 2024-11-24 11:21:48,251] Trial 0 finished with value: 0.8869362571910037 and parameters: {'n_estimators': 224, 'max_depth': 7, 'min_samples_split': 4}. Best is trial 0 with value: 0.8869362571910037.\n",
      "[I 2024-11-24 11:21:59,104] Trial 1 finished with value: 0.8871854262684783 and parameters: {'n_estimators': 188, 'max_depth': 15, 'min_samples_split': 5}. Best is trial 1 with value: 0.8871854262684783.\n",
      "[I 2024-11-24 11:22:15,306] Trial 2 finished with value: 0.8872587078161847 and parameters: {'n_estimators': 296, 'max_depth': 15, 'min_samples_split': 6}. Best is trial 2 with value: 0.8872587078161847.\n",
      "[I 2024-11-24 11:22:20,786] Trial 3 finished with value: 0.8869362571910037 and parameters: {'n_estimators': 148, 'max_depth': 8, 'min_samples_split': 8}. Best is trial 2 with value: 0.8872587078161847.\n",
      "[I 2024-11-24 11:22:23,300] Trial 4 finished with value: 0.8869362571910037 and parameters: {'n_estimators': 160, 'max_depth': 3, 'min_samples_split': 5}. Best is trial 2 with value: 0.8872587078161847.\n",
      "[I 2024-11-24 11:23:26,501] A new study created in memory with name: Modelagem\n"
     ]
    },
    {
     "name": "stdout",
     "output_type": "stream",
     "text": [
      "Otimização para o modelo: Rede Neural MLP\n"
     ]
    },
    {
     "name": "stderr",
     "output_type": "stream",
     "text": [
      "c:\\Users\\PC\\.conda\\envs\\venvmodel\\lib\\site-packages\\optuna\\distributions.py:524: UserWarning: Choices for a categorical distribution should be a tuple of None, bool, int, float and str for persistent storage but contains (50,) which is of type tuple.\n",
      "  warnings.warn(message)\n",
      "c:\\Users\\PC\\.conda\\envs\\venvmodel\\lib\\site-packages\\optuna\\distributions.py:524: UserWarning: Choices for a categorical distribution should be a tuple of None, bool, int, float and str for persistent storage but contains (100,) which is of type tuple.\n",
      "  warnings.warn(message)\n",
      "c:\\Users\\PC\\.conda\\envs\\venvmodel\\lib\\site-packages\\optuna\\distributions.py:524: UserWarning: Choices for a categorical distribution should be a tuple of None, bool, int, float and str for persistent storage but contains (50, 50) which is of type tuple.\n",
      "  warnings.warn(message)\n",
      "[I 2024-11-24 11:23:32,577] Trial 0 finished with value: 0.8862180529106201 and parameters: {'hidden_layer_sizes': (50,), 'activation': 'relu', 'solver': 'adam', 'alpha': 0.005486797781181633}. Best is trial 0 with value: 0.8862180529106201.\n",
      "c:\\Users\\PC\\.conda\\envs\\venvmodel\\lib\\site-packages\\optuna\\distributions.py:524: UserWarning: Choices for a categorical distribution should be a tuple of None, bool, int, float and str for persistent storage but contains (50,) which is of type tuple.\n",
      "  warnings.warn(message)\n",
      "c:\\Users\\PC\\.conda\\envs\\venvmodel\\lib\\site-packages\\optuna\\distributions.py:524: UserWarning: Choices for a categorical distribution should be a tuple of None, bool, int, float and str for persistent storage but contains (100,) which is of type tuple.\n",
      "  warnings.warn(message)\n",
      "c:\\Users\\PC\\.conda\\envs\\venvmodel\\lib\\site-packages\\optuna\\distributions.py:524: UserWarning: Choices for a categorical distribution should be a tuple of None, bool, int, float and str for persistent storage but contains (50, 50) which is of type tuple.\n",
      "  warnings.warn(message)\n",
      "[I 2024-11-24 11:23:43,213] Trial 1 finished with value: 0.8869362571910037 and parameters: {'hidden_layer_sizes': (50,), 'activation': 'tanh', 'solver': 'adam', 'alpha': 0.008953268791955234}. Best is trial 1 with value: 0.8869362571910037.\n",
      "c:\\Users\\PC\\.conda\\envs\\venvmodel\\lib\\site-packages\\optuna\\distributions.py:524: UserWarning: Choices for a categorical distribution should be a tuple of None, bool, int, float and str for persistent storage but contains (50,) which is of type tuple.\n",
      "  warnings.warn(message)\n",
      "c:\\Users\\PC\\.conda\\envs\\venvmodel\\lib\\site-packages\\optuna\\distributions.py:524: UserWarning: Choices for a categorical distribution should be a tuple of None, bool, int, float and str for persistent storage but contains (100,) which is of type tuple.\n",
      "  warnings.warn(message)\n",
      "c:\\Users\\PC\\.conda\\envs\\venvmodel\\lib\\site-packages\\optuna\\distributions.py:524: UserWarning: Choices for a categorical distribution should be a tuple of None, bool, int, float and str for persistent storage but contains (50, 50) which is of type tuple.\n",
      "  warnings.warn(message)\n",
      "[I 2024-11-24 11:24:02,916] Trial 2 finished with value: 0.8868776276563756 and parameters: {'hidden_layer_sizes': (50, 50), 'activation': 'relu', 'solver': 'sgd', 'alpha': 0.0027803152557785006}. Best is trial 1 with value: 0.8869362571910037.\n",
      "c:\\Users\\PC\\.conda\\envs\\venvmodel\\lib\\site-packages\\optuna\\distributions.py:524: UserWarning: Choices for a categorical distribution should be a tuple of None, bool, int, float and str for persistent storage but contains (50,) which is of type tuple.\n",
      "  warnings.warn(message)\n",
      "c:\\Users\\PC\\.conda\\envs\\venvmodel\\lib\\site-packages\\optuna\\distributions.py:524: UserWarning: Choices for a categorical distribution should be a tuple of None, bool, int, float and str for persistent storage but contains (100,) which is of type tuple.\n",
      "  warnings.warn(message)\n",
      "c:\\Users\\PC\\.conda\\envs\\venvmodel\\lib\\site-packages\\optuna\\distributions.py:524: UserWarning: Choices for a categorical distribution should be a tuple of None, bool, int, float and str for persistent storage but contains (50, 50) which is of type tuple.\n",
      "  warnings.warn(message)\n",
      "[I 2024-11-24 11:24:22,000] Trial 3 finished with value: 0.8869216008814623 and parameters: {'hidden_layer_sizes': (50,), 'activation': 'relu', 'solver': 'sgd', 'alpha': 0.00054300607792195}. Best is trial 1 with value: 0.8869362571910037.\n",
      "c:\\Users\\PC\\.conda\\envs\\venvmodel\\lib\\site-packages\\optuna\\distributions.py:524: UserWarning: Choices for a categorical distribution should be a tuple of None, bool, int, float and str for persistent storage but contains (50,) which is of type tuple.\n",
      "  warnings.warn(message)\n",
      "c:\\Users\\PC\\.conda\\envs\\venvmodel\\lib\\site-packages\\optuna\\distributions.py:524: UserWarning: Choices for a categorical distribution should be a tuple of None, bool, int, float and str for persistent storage but contains (100,) which is of type tuple.\n",
      "  warnings.warn(message)\n",
      "c:\\Users\\PC\\.conda\\envs\\venvmodel\\lib\\site-packages\\optuna\\distributions.py:524: UserWarning: Choices for a categorical distribution should be a tuple of None, bool, int, float and str for persistent storage but contains (50, 50) which is of type tuple.\n",
      "  warnings.warn(message)\n",
      "[I 2024-11-24 11:24:30,555] Trial 4 finished with value: 0.884723010518762 and parameters: {'hidden_layer_sizes': (100,), 'activation': 'relu', 'solver': 'adam', 'alpha': 0.001017060302749747}. Best is trial 1 with value: 0.8869362571910037.\n",
      "[I 2024-11-24 11:25:09,755] A new study created in memory with name: Modelagem\n"
     ]
    },
    {
     "name": "stdout",
     "output_type": "stream",
     "text": [
      "Otimização para o modelo: XGBoost\n"
     ]
    },
    {
     "name": "stderr",
     "output_type": "stream",
     "text": [
      "[I 2024-11-24 11:25:13,409] Trial 0 finished with value: 0.8870974808924205 and parameters: {'n_estimators': 224, 'max_depth': 6, 'learning_rate': 0.021631523301351215, 'subsample': 0.7756573845414456}. Best is trial 0 with value: 0.8870974808924205.\n",
      "[I 2024-11-24 11:25:18,266] Trial 1 finished with value: 0.8788016326774372 and parameters: {'n_estimators': 230, 'max_depth': 8, 'learning_rate': 0.281000856274069, 'subsample': 0.8424148692924316}. Best is trial 0 with value: 0.8870974808924205.\n",
      "[I 2024-11-24 11:25:22,237] Trial 2 finished with value: 0.8869509016852716 and parameters: {'n_estimators': 170, 'max_depth': 8, 'learning_rate': 0.032130356318619414, 'subsample': 0.8645248536920208}. Best is trial 0 with value: 0.8870974808924205.\n",
      "[I 2024-11-24 11:25:24,363] Trial 3 finished with value: 0.8870095387387099 and parameters: {'n_estimators': 160, 'max_depth': 3, 'learning_rate': 0.03872216488027652, 'subsample': 0.8689977028660179}. Best is trial 0 with value: 0.8870974808924205.\n",
      "[I 2024-11-24 11:25:26,002] Trial 4 finished with value: 0.887126793511503 and parameters: {'n_estimators': 95, 'max_depth': 5, 'learning_rate': 0.060976968903674544, 'subsample': 0.765913793548433}. Best is trial 4 with value: 0.887126793511503.\n",
      "c:\\Users\\PC\\.conda\\envs\\venvmodel\\lib\\site-packages\\xgboost\\core.py:158: UserWarning: [11:25:26] WARNING: C:\\buildkite-agent\\builds\\buildkite-windows-cpu-autoscaling-group-i-0ed59c031377d09b8-1\\xgboost\\xgboost-ci-windows\\src\\learner.cc:740: \n",
      "Parameters: { \"use_label_encoder\" } are not used.\n",
      "\n",
      "  warnings.warn(smsg, UserWarning)\n",
      "c:\\Users\\PC\\.conda\\envs\\venvmodel\\lib\\site-packages\\xgboost\\core.py:158: UserWarning: [11:25:26] WARNING: C:\\buildkite-agent\\builds\\buildkite-windows-cpu-autoscaling-group-i-0ed59c031377d09b8-1\\xgboost\\xgboost-ci-windows\\src\\learner.cc:740: \n",
      "Parameters: { \"use_label_encoder\" } are not used.\n",
      "\n",
      "  warnings.warn(smsg, UserWarning)\n",
      "c:\\Users\\PC\\.conda\\envs\\venvmodel\\lib\\site-packages\\xgboost\\core.py:158: UserWarning: [11:25:26] WARNING: C:\\buildkite-agent\\builds\\buildkite-windows-cpu-autoscaling-group-i-0ed59c031377d09b8-1\\xgboost\\xgboost-ci-windows\\src\\learner.cc:740: \n",
      "Parameters: { \"use_label_encoder\" } are not used.\n",
      "\n",
      "  warnings.warn(smsg, UserWarning)\n",
      "c:\\Users\\PC\\.conda\\envs\\venvmodel\\lib\\site-packages\\xgboost\\core.py:158: UserWarning: [11:25:27] WARNING: C:\\buildkite-agent\\builds\\buildkite-windows-cpu-autoscaling-group-i-0ed59c031377d09b8-1\\xgboost\\xgboost-ci-windows\\src\\learner.cc:740: \n",
      "Parameters: { \"use_label_encoder\" } are not used.\n",
      "\n",
      "  warnings.warn(smsg, UserWarning)\n",
      "c:\\Users\\PC\\.conda\\envs\\venvmodel\\lib\\site-packages\\xgboost\\core.py:158: UserWarning: [11:25:27] WARNING: C:\\buildkite-agent\\builds\\buildkite-windows-cpu-autoscaling-group-i-0ed59c031377d09b8-1\\xgboost\\xgboost-ci-windows\\src\\learner.cc:740: \n",
      "Parameters: { \"use_label_encoder\" } are not used.\n",
      "\n",
      "  warnings.warn(smsg, UserWarning)\n",
      "[I 2024-11-24 11:25:27,852] A new study created in memory with name: Modelagem\n"
     ]
    },
    {
     "name": "stdout",
     "output_type": "stream",
     "text": [
      "Otimização para o modelo: LightGBM\n"
     ]
    },
    {
     "name": "stderr",
     "output_type": "stream",
     "text": [
      "[I 2024-11-24 11:25:30,094] Trial 0 finished with value: 0.8870681650509906 and parameters: {'n_estimators': 224, 'num_leaves': 65, 'learning_rate': 0.021631523301351215, 'subsample': 0.7756573845414456}. Best is trial 0 with value: 0.8870681650509906.\n",
      "[I 2024-11-24 11:25:32,171] Trial 1 finished with value: 0.8803112905624376 and parameters: {'n_estimators': 230, 'num_leaves': 81, 'learning_rate': 0.281000856274069, 'subsample': 0.8424148692924316}. Best is trial 0 with value: 0.8870681650509906.\n",
      "[I 2024-11-24 11:25:34,210] Trial 2 finished with value: 0.8870241993447141 and parameters: {'n_estimators': 170, 'num_leaves': 78, 'learning_rate': 0.032130356318619414, 'subsample': 0.8645248536920208}. Best is trial 0 with value: 0.8870681650509906.\n",
      "[I 2024-11-24 11:25:35,533] Trial 3 finished with value: 0.886980227193743 and parameters: {'n_estimators': 160, 'num_leaves': 38, 'learning_rate': 0.03872216488027652, 'subsample': 0.8689977028660179}. Best is trial 0 with value: 0.8870681650509906.\n",
      "[I 2024-11-24 11:25:36,663] Trial 4 finished with value: 0.8872000772074408 and parameters: {'n_estimators': 95, 'num_leaves': 52, 'learning_rate': 0.060976968903674544, 'subsample': 0.765913793548433}. Best is trial 4 with value: 0.8872000772074408.\n"
     ]
    },
    {
     "name": "stdout",
     "output_type": "stream",
     "text": [
      "[LightGBM] [Info] Number of positive: 6171, number of negative: 48410\n",
      "[LightGBM] [Info] Auto-choosing row-wise multi-threading, the overhead of testing was 0.003089 seconds.\n",
      "You can set `force_row_wise=true` to remove the overhead.\n",
      "And if memory is not enough, you can set `force_col_wise=true`.\n",
      "[LightGBM] [Info] Total Bins 1821\n",
      "[LightGBM] [Info] Number of data points in the train set: 54581, number of used features: 82\n",
      "[LightGBM] [Info] [binary:BoostFromScore]: pavg=0.113061 -> initscore=-2.059846\n",
      "[LightGBM] [Info] Start training from score -2.059846\n",
      "[LightGBM] [Info] Number of positive: 6171, number of negative: 48410\n",
      "[LightGBM] [Info] Auto-choosing row-wise multi-threading, the overhead of testing was 0.002934 seconds.\n",
      "You can set `force_row_wise=true` to remove the overhead.\n",
      "And if memory is not enough, you can set `force_col_wise=true`.\n",
      "[LightGBM] [Info] Total Bins 1822\n",
      "[LightGBM] [Info] Number of data points in the train set: 54581, number of used features: 82\n",
      "[LightGBM] [Info] [binary:BoostFromScore]: pavg=0.113061 -> initscore=-2.059846\n",
      "[LightGBM] [Info] Start training from score -2.059846\n",
      "[LightGBM] [Info] Number of positive: 6171, number of negative: 48411\n",
      "[LightGBM] [Info] Auto-choosing row-wise multi-threading, the overhead of testing was 0.003044 seconds.\n",
      "You can set `force_row_wise=true` to remove the overhead.\n",
      "And if memory is not enough, you can set `force_col_wise=true`.\n",
      "[LightGBM] [Info] Total Bins 1828\n",
      "[LightGBM] [Info] Number of data points in the train set: 54582, number of used features: 83\n",
      "[LightGBM] [Info] [binary:BoostFromScore]: pavg=0.113059 -> initscore=-2.059866\n",
      "[LightGBM] [Info] Start training from score -2.059866\n",
      "[LightGBM] [Info] Number of positive: 6171, number of negative: 48411\n",
      "[LightGBM] [Info] Auto-choosing row-wise multi-threading, the overhead of testing was 0.002945 seconds.\n",
      "You can set `force_row_wise=true` to remove the overhead.\n",
      "And if memory is not enough, you can set `force_col_wise=true`.\n",
      "[LightGBM] [Info] Total Bins 1826\n",
      "[LightGBM] [Info] Number of data points in the train set: 54582, number of used features: 82\n",
      "[LightGBM] [Info] [binary:BoostFromScore]: pavg=0.113059 -> initscore=-2.059866\n",
      "[LightGBM] [Info] Start training from score -2.059866\n"
     ]
    },
    {
     "name": "stderr",
     "output_type": "stream",
     "text": [
      "[I 2024-11-24 11:25:38,119] A new study created in memory with name: Modelagem\n"
     ]
    },
    {
     "name": "stdout",
     "output_type": "stream",
     "text": [
      "[LightGBM] [Info] Number of positive: 6172, number of negative: 48410\n",
      "[LightGBM] [Info] Auto-choosing row-wise multi-threading, the overhead of testing was 0.002942 seconds.\n",
      "You can set `force_row_wise=true` to remove the overhead.\n",
      "And if memory is not enough, you can set `force_col_wise=true`.\n",
      "[LightGBM] [Info] Total Bins 1831\n",
      "[LightGBM] [Info] Number of data points in the train set: 54582, number of used features: 82\n",
      "[LightGBM] [Info] [binary:BoostFromScore]: pavg=0.113078 -> initscore=-2.059683\n",
      "[LightGBM] [Info] Start training from score -2.059683\n",
      "Otimização para o modelo: Comitê de Redes Neurais Artificiais\n"
     ]
    },
    {
     "name": "stderr",
     "output_type": "stream",
     "text": [
      "c:\\Users\\PC\\.conda\\envs\\venvmodel\\lib\\site-packages\\optuna\\distributions.py:524: UserWarning: Choices for a categorical distribution should be a tuple of None, bool, int, float and str for persistent storage but contains (50,) which is of type tuple.\n",
      "  warnings.warn(message)\n",
      "c:\\Users\\PC\\.conda\\envs\\venvmodel\\lib\\site-packages\\optuna\\distributions.py:524: UserWarning: Choices for a categorical distribution should be a tuple of None, bool, int, float and str for persistent storage but contains (100,) which is of type tuple.\n",
      "  warnings.warn(message)\n",
      "c:\\Users\\PC\\.conda\\envs\\venvmodel\\lib\\site-packages\\optuna\\distributions.py:524: UserWarning: Choices for a categorical distribution should be a tuple of None, bool, int, float and str for persistent storage but contains (50, 50) which is of type tuple.\n",
      "  warnings.warn(message)\n",
      "[I 2024-11-24 11:25:55,554] Trial 0 finished with value: 0.8862767082240264 and parameters: {'hidden_layer_sizes': (50,), 'activation': 'relu', 'solver': 'adam'}. Best is trial 0 with value: 0.8862767082240264.\n",
      "c:\\Users\\PC\\.conda\\envs\\venvmodel\\lib\\site-packages\\optuna\\distributions.py:524: UserWarning: Choices for a categorical distribution should be a tuple of None, bool, int, float and str for persistent storage but contains (50,) which is of type tuple.\n",
      "  warnings.warn(message)\n",
      "c:\\Users\\PC\\.conda\\envs\\venvmodel\\lib\\site-packages\\optuna\\distributions.py:524: UserWarning: Choices for a categorical distribution should be a tuple of None, bool, int, float and str for persistent storage but contains (100,) which is of type tuple.\n",
      "  warnings.warn(message)\n",
      "c:\\Users\\PC\\.conda\\envs\\venvmodel\\lib\\site-packages\\optuna\\distributions.py:524: UserWarning: Choices for a categorical distribution should be a tuple of None, bool, int, float and str for persistent storage but contains (50, 50) which is of type tuple.\n",
      "  warnings.warn(message)\n",
      "[I 2024-11-24 11:26:41,995] Trial 1 finished with value: 0.8868922861141483 and parameters: {'hidden_layer_sizes': (50,), 'activation': 'relu', 'solver': 'sgd'}. Best is trial 1 with value: 0.8868922861141483.\n",
      "c:\\Users\\PC\\.conda\\envs\\venvmodel\\lib\\site-packages\\optuna\\distributions.py:524: UserWarning: Choices for a categorical distribution should be a tuple of None, bool, int, float and str for persistent storage but contains (50,) which is of type tuple.\n",
      "  warnings.warn(message)\n",
      "c:\\Users\\PC\\.conda\\envs\\venvmodel\\lib\\site-packages\\optuna\\distributions.py:524: UserWarning: Choices for a categorical distribution should be a tuple of None, bool, int, float and str for persistent storage but contains (100,) which is of type tuple.\n",
      "  warnings.warn(message)\n",
      "c:\\Users\\PC\\.conda\\envs\\venvmodel\\lib\\site-packages\\optuna\\distributions.py:524: UserWarning: Choices for a categorical distribution should be a tuple of None, bool, int, float and str for persistent storage but contains (50, 50) which is of type tuple.\n",
      "  warnings.warn(message)\n",
      "[I 2024-11-24 11:27:11,838] Trial 2 finished with value: 0.8863499844011539 and parameters: {'hidden_layer_sizes': (100,), 'activation': 'relu', 'solver': 'adam'}. Best is trial 1 with value: 0.8868922861141483.\n",
      "c:\\Users\\PC\\.conda\\envs\\venvmodel\\lib\\site-packages\\optuna\\distributions.py:524: UserWarning: Choices for a categorical distribution should be a tuple of None, bool, int, float and str for persistent storage but contains (50,) which is of type tuple.\n",
      "  warnings.warn(message)\n",
      "c:\\Users\\PC\\.conda\\envs\\venvmodel\\lib\\site-packages\\optuna\\distributions.py:524: UserWarning: Choices for a categorical distribution should be a tuple of None, bool, int, float and str for persistent storage but contains (100,) which is of type tuple.\n",
      "  warnings.warn(message)\n",
      "c:\\Users\\PC\\.conda\\envs\\venvmodel\\lib\\site-packages\\optuna\\distributions.py:524: UserWarning: Choices for a categorical distribution should be a tuple of None, bool, int, float and str for persistent storage but contains (50, 50) which is of type tuple.\n",
      "  warnings.warn(message)\n",
      "[I 2024-11-24 11:27:35,067] Trial 3 finished with value: 0.8869362571910037 and parameters: {'hidden_layer_sizes': (50,), 'activation': 'tanh', 'solver': 'sgd'}. Best is trial 3 with value: 0.8869362571910037.\n",
      "c:\\Users\\PC\\.conda\\envs\\venvmodel\\lib\\site-packages\\optuna\\distributions.py:524: UserWarning: Choices for a categorical distribution should be a tuple of None, bool, int, float and str for persistent storage but contains (50,) which is of type tuple.\n",
      "  warnings.warn(message)\n",
      "c:\\Users\\PC\\.conda\\envs\\venvmodel\\lib\\site-packages\\optuna\\distributions.py:524: UserWarning: Choices for a categorical distribution should be a tuple of None, bool, int, float and str for persistent storage but contains (100,) which is of type tuple.\n",
      "  warnings.warn(message)\n",
      "c:\\Users\\PC\\.conda\\envs\\venvmodel\\lib\\site-packages\\optuna\\distributions.py:524: UserWarning: Choices for a categorical distribution should be a tuple of None, bool, int, float and str for persistent storage but contains (50, 50) which is of type tuple.\n",
      "  warnings.warn(message)\n",
      "[I 2024-11-24 11:28:11,698] Trial 4 finished with value: 0.8869362571910037 and parameters: {'hidden_layer_sizes': (100,), 'activation': 'tanh', 'solver': 'sgd'}. Best is trial 3 with value: 0.8869362571910037.\n",
      "[I 2024-11-24 11:29:45,033] A new study created in memory with name: Modelagem\n"
     ]
    },
    {
     "name": "stdout",
     "output_type": "stream",
     "text": [
      "Otimização para o modelo: Comitê Heterogêneo (Stacking)\n"
     ]
    },
    {
     "name": "stderr",
     "output_type": "stream",
     "text": [
      "[I 2024-11-24 11:39:53,870] Trial 0 finished with value: 0.8871267999561976 and parameters: {'C': 2.471373418487883, 'penalty': 'l2', 'solver': 'lbfgs'}. Best is trial 0 with value: 0.8871267999561976.\n",
      "[I 2024-11-24 11:49:49,816] Trial 1 finished with value: 0.8870095419610571 and parameters: {'C': 0.37348973478010355, 'penalty': 'l2', 'solver': 'lbfgs'}. Best is trial 0 with value: 0.8871267999561976.\n",
      "[I 2024-11-24 11:59:38,731] Trial 2 finished with value: 0.8870388567283711 and parameters: {'C': 0.2842515929299161, 'penalty': 'l2', 'solver': 'lbfgs'}. Best is trial 0 with value: 0.8871267999561976.\n",
      "[I 2024-11-24 12:09:23,395] Trial 3 finished with value: 0.8870388567283711 and parameters: {'C': 1.2665709946616688, 'penalty': 'l2', 'solver': 'lbfgs'}. Best is trial 0 with value: 0.8871267999561976.\n",
      "[I 2024-11-24 12:19:08,196] Trial 4 finished with value: 0.8871267999561976 and parameters: {'C': 2.747501508681121, 'penalty': 'l2', 'solver': 'lbfgs'}. Best is trial 0 with value: 0.8871267999561976.\n"
     ]
    }
   ],
   "source": [
    "for model_name in models.keys():\n",
    "    print(f\"Otimização para o modelo: {model_name}\")\n",
    "    study = optuna.create_study(direction='maximize', study_name='Modelagem', sampler=optuna.samplers.TPESampler(seed=124))\n",
    "    study.optimize(objective_factory(model_name), n_trials=n_trials, callbacks=[mlflc])\n",
    "    \n",
    "    # Armazenando os melhores hiperparâmetros\n",
    "    best_params[model_name] = study.best_params\n",
    "    \n",
    "    # Criando o classificador com os melhores hiperparâmetros\n",
    "    classifier = build_classifier(model_name, best_params[model_name])\n",
    "    \n",
    "    # Armazenando o classificador\n",
    "    best_models[model_name] = classifier\n",
    "    \n",
    "    # Armazenando os scores dos folds\n",
    "    acc_scores = cross_val_score(classifier, X_train, y_train, cv=10, scoring='accuracy')\n",
    "    cv_results[model_name] = acc_scores\n"
   ]
  },
  {
   "cell_type": "code",
   "execution_count": 221,
   "metadata": {},
   "outputs": [
    {
     "name": "stderr",
     "output_type": "stream",
     "text": [
      "2024/11/24 13:21:52 WARNING mlflow.models.model: Model logged without a signature and input example. Please set `input_example` parameter when logging the model to auto infer the model signature.\n"
     ]
    },
    {
     "name": "stdout",
     "output_type": "stream",
     "text": [
      "K-NN com Optuna HPO - Acurácia: 0.8869672275312188, F1-Score: 0.8338362757298086, Recall: 0.8869672275312188, ROC AUC: 0.5076814499042672\n"
     ]
    },
    {
     "name": "stderr",
     "output_type": "stream",
     "text": [
      "2024/11/24 13:21:54 WARNING mlflow.models.model: Model logged without a signature and input example. Please set `input_example` parameter when logging the model to auto infer the model signature.\n"
     ]
    },
    {
     "name": "stdout",
     "output_type": "stream",
     "text": [
      "LVQ com Optuna HPO - Acurácia: 0.5292841648590022, F1-Score: 0.6134318485707128, Recall: 0.5292841648590022, ROC AUC: None\n"
     ]
    },
    {
     "name": "stderr",
     "output_type": "stream",
     "text": [
      "2024/11/24 13:21:56 WARNING mlflow.models.model: Model logged without a signature and input example. Please set `input_example` parameter when logging the model to auto infer the model signature.\n"
     ]
    },
    {
     "name": "stdout",
     "output_type": "stream",
     "text": [
      "Árvore de Decisão com Optuna HPO - Acurácia: 0.8872017353579176, F1-Score: 0.8353061398780758, Recall: 0.8872017353579176, ROC AUC: 0.6471695424878547\n"
     ]
    },
    {
     "name": "stderr",
     "output_type": "stream",
     "text": [
      "2024/11/24 14:39:44 WARNING mlflow.models.model: Model logged without a signature and input example. Please set `input_example` parameter when logging the model to auto infer the model signature.\n"
     ]
    },
    {
     "name": "stdout",
     "output_type": "stream",
     "text": [
      "SVM com Optuna HPO - Acurácia: 0.8673271970452013, F1-Score: 0.8326484438148098, Recall: 0.8673271970452013, ROC AUC: None\n"
     ]
    },
    {
     "name": "stderr",
     "output_type": "stream",
     "text": [
      "2024/11/24 14:40:03 WARNING mlflow.models.model: Model logged without a signature and input example. Please set `input_example` parameter when logging the model to auto infer the model signature.\n"
     ]
    },
    {
     "name": "stdout",
     "output_type": "stream",
     "text": [
      "Random Forest com Optuna HPO - Acurácia: 0.8870258544878935, F1-Score: 0.8344325256514796, Recall: 0.8870258544878935, ROC AUC: 0.6666185671825344\n"
     ]
    },
    {
     "name": "stderr",
     "output_type": "stream",
     "text": [
      "2024/11/24 14:40:16 WARNING mlflow.models.model: Model logged without a signature and input example. Please set `input_example` parameter when logging the model to auto infer the model signature.\n",
      "c:\\Users\\PC\\.conda\\envs\\venvmodel\\lib\\site-packages\\xgboost\\core.py:158: UserWarning: [14:40:17] WARNING: C:\\buildkite-agent\\builds\\buildkite-windows-cpu-autoscaling-group-i-0ed59c031377d09b8-1\\xgboost\\xgboost-ci-windows\\src\\learner.cc:740: \n",
      "Parameters: { \"use_label_encoder\" } are not used.\n",
      "\n",
      "  warnings.warn(smsg, UserWarning)\n"
     ]
    },
    {
     "name": "stdout",
     "output_type": "stream",
     "text": [
      "Rede Neural MLP com Optuna HPO - Acurácia: 0.8869672275312188, F1-Score: 0.8338362757298086, Recall: 0.8869672275312188, ROC AUC: 0.6521497418192479\n"
     ]
    },
    {
     "name": "stderr",
     "output_type": "stream",
     "text": [
      "2024/11/24 14:40:19 WARNING mlflow.models.model: Model logged without a signature and input example. Please set `input_example` parameter when logging the model to auto infer the model signature.\n"
     ]
    },
    {
     "name": "stdout",
     "output_type": "stream",
     "text": [
      "XGBoost com Optuna HPO - Acurácia: 0.8869086005745441, F1-Score: 0.8352673365968091, Recall: 0.8869086005745441, ROC AUC: 0.6699906050016882\n",
      "[LightGBM] [Info] Number of positive: 7714, number of negative: 60513\n",
      "[LightGBM] [Info] Auto-choosing row-wise multi-threading, the overhead of testing was 0.003671 seconds.\n",
      "You can set `force_row_wise=true` to remove the overhead.\n",
      "And if memory is not enough, you can set `force_col_wise=true`.\n",
      "[LightGBM] [Info] Total Bins 1852\n",
      "[LightGBM] [Info] Number of data points in the train set: 68227, number of used features: 83\n",
      "[LightGBM] [Info] [binary:BoostFromScore]: pavg=0.113064 -> initscore=-2.059821\n",
      "[LightGBM] [Info] Start training from score -2.059821\n"
     ]
    },
    {
     "name": "stderr",
     "output_type": "stream",
     "text": [
      "2024/11/24 14:40:22 WARNING mlflow.models.model: Model logged without a signature and input example. Please set `input_example` parameter when logging the model to auto infer the model signature.\n"
     ]
    },
    {
     "name": "stdout",
     "output_type": "stream",
     "text": [
      "LightGBM com Optuna HPO - Acurácia: 0.8869086005745441, F1-Score: 0.835045292038363, Recall: 0.8869086005745441, ROC AUC: 0.6671973380243872\n"
     ]
    },
    {
     "name": "stderr",
     "output_type": "stream",
     "text": [
      "2024/11/24 14:40:41 WARNING mlflow.models.model: Model logged without a signature and input example. Please set `input_example` parameter when logging the model to auto infer the model signature.\n"
     ]
    },
    {
     "name": "stdout",
     "output_type": "stream",
     "text": [
      "Comitê de Redes Neurais Artificiais com Optuna HPO - Acurácia: 0.8869672275312188, F1-Score: 0.8338362757298086, Recall: 0.8869672275312188, ROC AUC: 0.5596062486406668\n"
     ]
    },
    {
     "name": "stderr",
     "output_type": "stream",
     "text": [
      "2024/11/24 14:49:51 WARNING mlflow.models.model: Model logged without a signature and input example. Please set `input_example` parameter when logging the model to auto infer the model signature.\n"
     ]
    },
    {
     "name": "stdout",
     "output_type": "stream",
     "text": [
      "Comitê Heterogêneo (Stacking) com Optuna HPO - Acurácia: 0.8864395849211467, F1-Score: 0.8346952830347404, Recall: 0.8864395849211467, ROC AUC: 0.642877957724016\n"
     ]
    }
   ],
   "source": [
    "# Avaliação dos Melhores Modelos e Registro no MLflow\n",
    "results = []\n",
    "\n",
    "for model_name, model in best_models.items():\n",
    "    with mlflow.start_run(run_name=f\"{model_name} - Optuna HPO\"):\n",
    "        acc, f1, recall, roc_auc = evaluate_model(model, X_train, y_train, X_val, y_val, model_name)\n",
    "        mlflow.log_params(best_params[model_name])\n",
    "        mlflow.log_metric(\"accuracy\", acc)\n",
    "        mlflow.log_metric(\"f1_score\", f1)\n",
    "        mlflow.log_metric(\"recall\", recall)\n",
    "        if roc_auc is not None:\n",
    "            mlflow.log_metric(\"roc_auc\", roc_auc)\n",
    "        # Salvar o modelo\n",
    "        mlflow.sklearn.log_model(model, model_name)\n",
    "        print(f\"{model_name} com Optuna HPO - Acurácia: {acc}, F1-Score: {f1}, Recall: {recall}, ROC AUC: {roc_auc}\")\n",
    "        results.append({\n",
    "            'Modelo': model_name,\n",
    "            'Acurácia': acc,\n",
    "            'F1-Score': f1,\n",
    "            'Recall': recall,\n",
    "            'ROC AUC': roc_auc\n",
    "        })\n",
    "\n",
    "# Converte os resultados em DataFrame\n",
    "results_df = pd.DataFrame(results)"
   ]
  },
  {
   "cell_type": "code",
   "execution_count": 222,
   "metadata": {},
   "outputs": [
    {
     "name": "stdout",
     "output_type": "stream",
     "text": [
      "O melhor modelo é: Árvore de Decisão\n"
     ]
    }
   ],
   "source": [
    "# Selecionando o Melhor Modelo automaticamente com base na Acurácia\n",
    "best_model_name = results_df.loc[results_df['Acurácia'].idxmax(), 'Modelo']\n",
    "best_model = best_models[best_model_name]\n",
    "print(f\"O melhor modelo é: {best_model_name}\")"
   ]
  },
  {
   "cell_type": "code",
   "execution_count": 303,
   "metadata": {},
   "outputs": [],
   "source": [
    "def pipeline_test_set(df):\n",
    "    df = df.drop(['weight','payer_code','medical_specialty'], axis = 1)\n",
    "    \n",
    "    df = df.loc[~df.discharge_disposition_id.isin([11, 18, 19, 20, 21, 7, 25, 26])]\n",
    "    \n",
    "    df[\"race\"].fillna(df[\"race\"].mode()[0], inplace = True)\n",
    "    \n",
    "    df = df.loc[~df.gender.isin(['Unknown/Invalid'])]\n",
    "    \n",
    "    df = df.drop(['citoglipton', 'examide'], axis = 1)\n",
    "    \n",
    "    df['service_utilization'] = df['number_outpatient'] + df['number_emergency'] + df['number_inpatient']\n",
    "    \n",
    "    keys = ['metformin', 'repaglinide', 'nateglinide', 'chlorpropamide', 'glimepiride',\n",
    "        'glipizide', 'glyburide', 'pioglitazone', 'rosiglitazone', 'acarbose',\n",
    "        'miglitol', 'insulin', 'glyburide.metformin', 'tolazamide', 'metformin.pioglitazone',\n",
    "        'metformin.rosiglitazone', 'glimepiride.pioglitazone', 'glipizide.metformin',\n",
    "        'troglitazone', 'tolbutamide', 'acetohexamide']\n",
    "    for col in keys:\n",
    "        colname = str(col) + 'temp'\n",
    "        df[colname] = df[col].apply(lambda x: 0 if (x == 'No' or x == 'Steady') else 1)\n",
    "    df['numchange'] = 0\n",
    "    for col in keys:\n",
    "        colname = str(col) + 'temp'\n",
    "        df['numchange'] = df['numchange'] + df[colname]\n",
    "        del df[colname]\n",
    "\n",
    "    df['change'] = df['change'].replace('Ch', 1)\n",
    "    df['change'] = df['change'].replace('No', 0)\n",
    "    df['gender'] = df['gender'].replace('Male', 1)\n",
    "    df['gender'] = df['gender'].replace('Female', 0)\n",
    "    df['diabetesMed'] = df['diabetesMed'].replace('Yes', 1)\n",
    "    df['diabetesMed'] = df['diabetesMed'].replace('No', 0)\n",
    "\n",
    "    for col in keys:\n",
    "        df[col] = df[col].replace('No', 0)\n",
    "        df[col] = df[col].replace('Steady', 1)\n",
    "        df[col] = df[col].replace('Up', 1)\n",
    "        df[col] = df[col].replace('Down', 1)\n",
    "    df['A1Cresult'] = df['A1Cresult'].replace('>7', 1)\n",
    "    df['A1Cresult'] = df['A1Cresult'].replace('>8', 1)\n",
    "    df['A1Cresult'] = df['A1Cresult'].replace('Norm', 0)\n",
    "    df['A1Cresult'] = df['A1Cresult'].replace('None', -99)\n",
    "    df['max_glu_serum'] = df['max_glu_serum'].replace('>200', 1)\n",
    "    df['max_glu_serum'] = df['max_glu_serum'].replace('>300', 1)\n",
    "    df['max_glu_serum'] = df['max_glu_serum'].replace('Norm', 0)\n",
    "    df['max_glu_serum'] = df['max_glu_serum'].replace('None', -99)\n",
    "    for i in range(0,10):\n",
    "        df['age'] = df['age'].replace('['+str(10*i)+'-'+str(10*(i+1))+')', i+1)\n",
    "    df['class'] = df['class'].replace('>30', 0)\n",
    "    df['class'] = df['class'].replace('<30', 1)\n",
    "    df['class'] = df['class'].replace('NO', 0)\n",
    "    df['diag_1'] = df['diag_1'].astype('object')\n",
    "    df['diag_2'] = df['diag_2'].astype('object')\n",
    "    df['diag_3'] = df['diag_3'].astype('object')\n",
    "\n",
    "    df['level1_diag1'] = df['diag_1'].astype('object')\n",
    "    df['level2_diag1'] = df['diag_1'].astype('object')\n",
    "    df['level1_diag2'] = df['diag_2'].astype('object')\n",
    "    df['level2_diag2'] = df['diag_2'].astype('object')\n",
    "    df['level1_diag3'] = df['diag_3'].astype('object')\n",
    "    df['level2_diag3'] = df['diag_3'].astype('object')\n",
    "    df.loc[df['diag_1'].fillna('').str.contains('V'), ['level1_diag1', 'level2_diag1']] = 0\n",
    "    df.loc[df['diag_1'].fillna('').str.contains('E'), ['level1_diag1', 'level2_diag1']] = 0\n",
    "    df.loc[df['diag_2'].fillna('').str.contains('V'), ['level1_diag2', 'level2_diag2']] = 0\n",
    "    df.loc[df['diag_2'].fillna('').str.contains('E'), ['level1_diag2', 'level2_diag2']] = 0\n",
    "    df.loc[df['diag_3'].fillna('').str.contains('V'), ['level1_diag3', 'level2_diag3']] = 0\n",
    "    df.loc[df['diag_3'].fillna('').str.contains('E'), ['level1_diag3', 'level2_diag3']] = 0\n",
    "\n",
    "    df['level1_diag1'] = df['level1_diag1'].fillna(-1)\n",
    "    df['level2_diag1'] = df['level2_diag1'].fillna(-1)\n",
    "    df['level1_diag2'] = df['level1_diag2'].fillna(-1)\n",
    "    df['level2_diag2'] = df['level2_diag2'].fillna(-1)\n",
    "    df['level1_diag3'] = df['level1_diag3'].fillna(-1)\n",
    "    df['level2_diag3'] = df['level2_diag3'].fillna(-1)\n",
    "    df['level1_diag1'] = df['level1_diag1'].astype(float)\n",
    "    df['level2_diag1'] = df['level2_diag1'].astype(float)\n",
    "    df['level1_diag2'] = df['level1_diag2'].astype(float)\n",
    "    df['level2_diag2'] = df['level2_diag2'].astype(float)\n",
    "    df['level1_diag3'] = df['level1_diag3'].astype(float)\n",
    "    df['level2_diag3'] = df['level2_diag3'].astype(float)\n",
    "    for index, row in df.iterrows():\n",
    "        if (row['level1_diag1'] >= 390 and row['level1_diag1'] < 460) or (np.floor(row['level1_diag1']) == 785):\n",
    "            df.loc[index, 'level1_diag1'] = 1\n",
    "        elif (row['level1_diag1'] >= 460 and row['level1_diag1'] < 520) or (np.floor(row['level1_diag1']) == 786):\n",
    "            df.loc[index, 'level1_diag1'] = 2\n",
    "        elif (row['level1_diag1'] >= 520 and row['level1_diag1'] < 580) or (np.floor(row['level1_diag1']) == 787):\n",
    "            df.loc[index, 'level1_diag1'] = 3\n",
    "        elif (np.floor(row['level1_diag1']) == 250):\n",
    "            df.loc[index, 'level1_diag1'] = 4\n",
    "        elif (row['level1_diag1'] >= 800 and row['level1_diag1'] < 1000):\n",
    "            df.loc[index, 'level1_diag1'] = 5\n",
    "        elif (row['level1_diag1'] >= 710 and row['level1_diag1'] < 740):\n",
    "            df.loc[index, 'level1_diag1'] = 6\n",
    "        elif (row['level1_diag1'] >= 580 and row['level1_diag1'] < 630) or (np.floor(row['level1_diag1']) == 788):\n",
    "            df.loc[index, 'level1_diag1'] = 7\n",
    "        elif (row['level1_diag1'] >= 140 and row['level1_diag1'] < 240):\n",
    "            df.loc[index, 'level1_diag1'] = 8\n",
    "        else:\n",
    "            df.loc[index, 'level1_diag1'] = 0\n",
    "\n",
    "        if (row['level1_diag2'] >= 390 and row['level1_diag2'] < 460) or (np.floor(row['level1_diag2']) == 785):\n",
    "            df.loc[index, 'level1_diag2'] = 1\n",
    "        elif (row['level1_diag2'] >= 460 and row['level1_diag2'] < 520) or (np.floor(row['level1_diag2']) == 786):\n",
    "            df.loc[index, 'level1_diag2'] = 2\n",
    "        elif (row['level1_diag2'] >= 520 and row['level1_diag2'] < 580) or (np.floor(row['level1_diag2']) == 787):\n",
    "            df.loc[index, 'level1_diag2'] = 3\n",
    "        elif (np.floor(row['level1_diag2']) == 250):\n",
    "            df.loc[index, 'level1_diag2'] = 4\n",
    "        elif (row['level1_diag2'] >= 800 and row['level1_diag2'] < 1000):\n",
    "            df.loc[index, 'level1_diag2'] = 5\n",
    "        elif (row['level1_diag2'] >= 710 and row['level1_diag2'] < 740):\n",
    "            df.loc[index, 'level1_diag2'] = 6\n",
    "        elif (row['level1_diag2'] >= 580 and row['level1_diag2'] < 630) or (np.floor(row['level1_diag2']) == 788):\n",
    "            df.loc[index, 'level1_diag2'] = 7\n",
    "        elif (row['level1_diag2'] >= 140 and row['level1_diag2'] < 240):\n",
    "            df.loc[index, 'level1_diag2'] = 8\n",
    "        else:\n",
    "            df.loc[index, 'level1_diag2'] = 0\n",
    "\n",
    "        if (row['level1_diag3'] >= 390 and row['level1_diag3'] < 460) or (np.floor(row['level1_diag3']) == 785):\n",
    "            df.loc[index, 'level1_diag3'] = 1\n",
    "        elif (row['level1_diag3'] >= 460 and row['level1_diag3'] < 520) or (np.floor(row['level1_diag3']) == 786):\n",
    "            df.loc[index, 'level1_diag3'] = 2\n",
    "        elif (row['level1_diag3'] >= 520 and row['level1_diag3'] < 580) or (np.floor(row['level1_diag3']) == 787):\n",
    "            df.loc[index, 'level1_diag3'] = 3\n",
    "        elif (np.floor(row['level1_diag3']) == 250):\n",
    "            df.loc[index, 'level1_diag3'] = 4\n",
    "        elif (row['level1_diag3'] >= 800 and row['level1_diag3'] < 1000):\n",
    "            df.loc[index, 'level1_diag3'] = 5\n",
    "        elif (row['level1_diag3'] >= 710 and row['level1_diag3'] < 740):\n",
    "            df.loc[index, 'level1_diag3'] = 6\n",
    "        elif (row['level1_diag3'] >= 580 and row['level1_diag3'] < 630) or (np.floor(row['level1_diag3']) == 788):\n",
    "            df.loc[index, 'level1_diag3'] = 7\n",
    "        elif (row['level1_diag3'] >= 140 and row['level1_diag3'] < 240):\n",
    "            df.loc[index, 'level1_diag3'] = 8\n",
    "        else:\n",
    "            df.loc[index, 'level1_diag3'] = 0\n",
    "    for index, row in df.iterrows():\n",
    "        if (row['level2_diag1'] >= 390 and row['level2_diag1'] < 399):\n",
    "            df.loc[index, 'level2_diag1'] = 1\n",
    "        elif (row['level2_diag1'] >= 401 and row['level2_diag1'] < 415):\n",
    "            df.loc[index, 'level2_diag1'] = 2\n",
    "        elif (row['level2_diag1'] >= 415 and row['level2_diag1'] < 460):\n",
    "            df.loc[index, 'level2_diag1'] = 3\n",
    "        elif (np.floor(row['level2_diag1']) == 785):\n",
    "            df.loc[index, 'level2_diag1'] = 4\n",
    "        elif (row['level2_diag1'] >= 460 and row['level2_diag1'] < 489):\n",
    "            df.loc[index, 'level2_diag1'] = 5\n",
    "        elif (row['level2_diag1'] >= 490 and row['level2_diag1'] < 497):\n",
    "            df.loc[index, 'level2_diag1'] = 6\n",
    "        elif (row['level2_diag1'] >= 500 and row['level2_diag1'] < 520):\n",
    "            df.loc[index, 'level2_diag1'] = 7\n",
    "        elif (np.floor(row['level2_diag1']) == 786):\n",
    "            df.loc[index, 'level2_diag1'] = 8\n",
    "        elif (row['level2_diag1'] >= 520 and row['level2_diag1'] < 530):\n",
    "            df.loc[index, 'level2_diag1'] = 9\n",
    "        elif (row['level2_diag1'] >= 530 and row['level2_diag1'] < 544):\n",
    "            df.loc[index, 'level2_diag1'] = 10\n",
    "        elif (row['level2_diag1'] >= 550 and row['level2_diag1'] < 554):\n",
    "            df.loc[index, 'level2_diag1'] = 11\n",
    "        elif (row['level2_diag1'] >= 555 and row['level2_diag1'] < 580):\n",
    "            df.loc[index, 'level2_diag1'] = 12\n",
    "        elif (np.floor(row['level2_diag1']) == 787):\n",
    "            df.loc[index, 'level2_diag1'] = 13\n",
    "        elif (np.floor(row['level2_diag1']) == 250):\n",
    "            df.loc[index, 'level2_diag1'] = 14\n",
    "        elif (row['level2_diag1'] >= 800 and row['level2_diag1'] < 1000):\n",
    "            df.loc[index, 'level2_diag1'] = 15\n",
    "        elif (row['level2_diag1'] >= 710 and row['level2_diag1'] < 740):\n",
    "            df.loc[index, 'level2_diag1'] = 16\n",
    "        elif (row['level2_diag1'] >= 580 and row['level2_diag1'] < 630):\n",
    "            df.loc[index, 'level2_diag1'] = 17\n",
    "        elif (np.floor(row['level2_diag1']) == 788):\n",
    "            df.loc[index, 'level2_diag1'] = 18\n",
    "        elif (row['level2_diag1'] >= 140 and row['level2_diag1'] < 240):\n",
    "            df.loc[index, 'level2_diag1'] = 19\n",
    "        elif row['level2_diag1'] >= 240 and row['level2_diag1'] < 280 and (np.floor(row['level2_diag1']) != 250):\n",
    "            df.loc[index, 'level2_diag1'] = 20\n",
    "        elif (row['level2_diag1'] >= 680 and row['level2_diag1'] < 710) or (np.floor(row['level2_diag1']) == 782):\n",
    "            df.loc[index, 'level2_diag1'] = 21\n",
    "        elif (row['level2_diag1'] >= 290 and row['level2_diag1'] < 320):\n",
    "            df.loc[index, 'level2_diag1'] = 22\n",
    "        else:\n",
    "            df.loc[index, 'level2_diag1'] = 0\n",
    "\n",
    "        if (row['level2_diag2'] >= 390 and row['level2_diag2'] < 399):\n",
    "            df.loc[index, 'level2_diag2'] = 1\n",
    "        elif (row['level2_diag2'] >= 401 and row['level2_diag2'] < 415):\n",
    "            df.loc[index, 'level2_diag2'] = 2\n",
    "        elif (row['level2_diag2'] >= 415 and row['level2_diag2'] < 460):\n",
    "            df.loc[index, 'level2_diag2'] = 3\n",
    "        elif (np.floor(row['level2_diag2']) == 785):\n",
    "            df.loc[index, 'level2_diag2'] = 4\n",
    "        elif (row['level2_diag2'] >= 460 and row['level2_diag2'] < 489):\n",
    "            df.loc[index, 'level2_diag2'] = 5\n",
    "        elif (row['level2_diag2'] >= 490 and row['level2_diag2'] < 497):\n",
    "            df.loc[index, 'level2_diag2'] = 6\n",
    "        elif (row['level2_diag2'] >= 500 and row['level2_diag2'] < 520):\n",
    "            df.loc[index, 'level2_diag2'] = 7\n",
    "        elif (np.floor(row['level2_diag2']) == 786):\n",
    "            df.loc[index, 'level2_diag2'] = 8\n",
    "        elif (row['level2_diag2'] >= 520 and row['level2_diag2'] < 530):\n",
    "            df.loc[index, 'level2_diag2'] = 9\n",
    "        elif (row['level2_diag2'] >= 530 and row['level2_diag2'] < 544):\n",
    "            df.loc[index, 'level2_diag2'] = 10\n",
    "        elif (row['level2_diag2'] >= 550 and row['level2_diag2'] < 554):\n",
    "            df.loc[index, 'level2_diag2'] = 11\n",
    "        elif (row['level2_diag2'] >= 555 and row['level2_diag2'] < 580):\n",
    "            df.loc[index, 'level2_diag2'] = 12\n",
    "        elif (np.floor(row['level2_diag2']) == 787):\n",
    "            df.loc[index, 'level2_diag2'] = 13\n",
    "        elif (np.floor(row['level2_diag2']) == 250):\n",
    "            df.loc[index, 'level2_diag2'] = 14\n",
    "        elif (row['level2_diag2'] >= 800 and row['level2_diag2'] < 1000):\n",
    "            df.loc[index, 'level2_diag2'] = 15\n",
    "        elif (row['level2_diag2'] >= 710 and row['level2_diag2'] < 740):\n",
    "            df.loc[index, 'level2_diag2'] = 16\n",
    "        elif (row['level2_diag2'] >= 580 and row['level2_diag2'] < 630):\n",
    "            df.loc[index, 'level2_diag2'] = 17\n",
    "        elif (np.floor(row['level2_diag2']) == 788):\n",
    "            df.loc[index, 'level2_diag2'] = 18\n",
    "        elif (row['level2_diag2'] >= 140 and row['level2_diag2'] < 240):\n",
    "            df.loc[index, 'level2_diag2'] = 19\n",
    "        elif row['level2_diag2'] >= 240 and row['level2_diag2'] < 280 and (np.floor(row['level2_diag2']) != 250):\n",
    "            df.loc[index, 'level2_diag2'] = 20\n",
    "        elif (row['level2_diag2'] >= 680 and row['level2_diag2'] < 710) or (np.floor(row['level2_diag2']) == 782):\n",
    "            df.loc[index, 'level2_diag2'] = 21\n",
    "        elif (row['level2_diag2'] >= 290 and row['level2_diag2'] < 320):\n",
    "            df.loc[index, 'level2_diag2'] = 22\n",
    "        else:\n",
    "            df.loc[index, 'level2_diag2'] = 0\n",
    "\n",
    "\n",
    "        if (row['level2_diag3'] >= 390 and row['level2_diag3'] < 399):\n",
    "            df.loc[index, 'level2_diag3'] = 1\n",
    "        elif (row['level2_diag3'] >= 401 and row['level2_diag3'] < 415):\n",
    "            df.loc[index, 'level2_diag3'] = 2\n",
    "        elif (row['level2_diag3'] >= 415 and row['level2_diag3'] < 460):\n",
    "            df.loc[index, 'level2_diag3'] = 3\n",
    "        elif (np.floor(row['level2_diag3']) == 785):\n",
    "            df.loc[index, 'level2_diag3'] = 4\n",
    "        elif (row['level2_diag3'] >= 460 and row['level2_diag3'] < 489):\n",
    "            df.loc[index, 'level2_diag3'] = 5\n",
    "        elif (row['level2_diag3'] >= 490 and row['level2_diag3'] < 497):\n",
    "            df.loc[index, 'level2_diag3'] = 6\n",
    "        elif (row['level2_diag3'] >= 500 and row['level2_diag3'] < 520):\n",
    "            df.loc[index, 'level2_diag3'] = 7\n",
    "        elif (np.floor(row['level2_diag3']) == 786):\n",
    "            df.loc[index, 'level2_diag3'] = 8\n",
    "        elif (row['level2_diag3'] >= 520 and row['level2_diag3'] < 530):\n",
    "            df.loc[index, 'level2_diag3'] = 9\n",
    "        elif (row['level2_diag3'] >= 530 and row['level2_diag3'] < 544):\n",
    "            df.loc[index, 'level2_diag3'] = 10\n",
    "        elif (row['level2_diag3'] >= 550 and row['level2_diag3'] < 554):\n",
    "            df.loc[index, 'level2_diag3'] = 11\n",
    "        elif (row['level2_diag3'] >= 555 and row['level2_diag3'] < 580):\n",
    "            df.loc[index, 'level2_diag3'] = 12\n",
    "        elif (np.floor(row['level2_diag3']) == 787):\n",
    "            df.loc[index, 'level2_diag3'] = 13\n",
    "        elif (np.floor(row['level2_diag3']) == 250):\n",
    "            df.loc[index, 'level2_diag3'] = 14\n",
    "        elif (row['level2_diag3'] >= 800 and row['level2_diag3'] < 1000):\n",
    "            df.loc[index, 'level2_diag3'] = 15\n",
    "        elif (row['level2_diag3'] >= 710 and row['level2_diag3'] < 740):\n",
    "            df.loc[index, 'level2_diag3'] = 16\n",
    "        elif (row['level2_diag3'] >= 580 and row['level2_diag3'] < 630):\n",
    "            df.loc[index, 'level2_diag3'] = 17\n",
    "        elif (np.floor(row['level2_diag3']) == 788):\n",
    "            df.loc[index, 'level2_diag3'] = 18\n",
    "        elif (row['level2_diag3'] >= 140 and row['level2_diag3'] < 240):\n",
    "            df.loc[index, 'level2_diag3'] = 19\n",
    "        elif row['level2_diag3'] >= 240 and row['level2_diag3'] < 280 and (np.floor(row['level2_diag3']) != 250):\n",
    "            df.loc[index, 'level2_diag3'] = 20\n",
    "        elif (row['level2_diag3'] >= 680 and row['level2_diag3'] < 710) or (np.floor(row['level2_diag3']) == 782):\n",
    "            df.loc[index, 'level2_diag3'] = 21\n",
    "        elif (row['level2_diag3'] >= 290 and row['level2_diag3'] < 320):\n",
    "            df.loc[index, 'level2_diag3'] = 22\n",
    "        else:\n",
    "            df.loc[index, 'level2_diag3'] = 0\n",
    "    df['age'] = df['age'].astype('int64')\n",
    "    age_dict = {1:5, 2:15, 3:25, 4:35, 5:45, 6:55, 7:65, 8:75, 9:85, 10:95}\n",
    "    df['age'] = df.age.map(age_dict)\n",
    "    categorical_columns = [\n",
    "        'race', 'max_glu_serum', 'A1Cresult', 'metformin', 'repaglinide',\n",
    "        'nateglinide', 'chlorpropamide', 'glimepiride', 'acetohexamide', 'glipizide',\n",
    "        'glyburide', 'tolbutamide', 'pioglitazone', 'rosiglitazone', 'acarbose',\n",
    "        'miglitol', 'troglitazone', 'tolazamide', 'insulin', 'glyburide.metformin',\n",
    "        'glipizide.metformin', 'glimepiride.pioglitazone', 'metformin.rosiglitazone',\n",
    "        'metformin.pioglitazone', 'change', 'diabetesMed'\n",
    "    ]\n",
    "\n",
    "    # Converter todas as colunas da lista para o tipo 'object'\n",
    "    df[categorical_columns] = df[categorical_columns].astype('object')\n",
    "    df['nummed'] = 0\n",
    "\n",
    "    for col in keys:\n",
    "        df['nummed'] = df['nummed'] + df[col]\n",
    "    num_col = list(set(list(df._get_numeric_data().columns))- {'class'})\n",
    "    statdataframe = pd.DataFrame()\n",
    "    statdataframe['numeric_column'] = num_col\n",
    "    skew_before = []\n",
    "    skew_after = []\n",
    "\n",
    "    kurt_before = []\n",
    "    kurt_after = []\n",
    "\n",
    "    standard_deviation_before = []\n",
    "    standard_deviation_after = []\n",
    "\n",
    "    log_transform_needed = []\n",
    "\n",
    "    log_type = []\n",
    "\n",
    "    for i in num_col:\n",
    "        skewval = df[i].skew()\n",
    "        skew_before.append(skewval)\n",
    "\n",
    "        kurtval = df[i].kurtosis()\n",
    "        kurt_before.append(kurtval)\n",
    "\n",
    "        sdval = df[i].std()\n",
    "        standard_deviation_before.append(sdval)\n",
    "\n",
    "        if (abs(skewval) >2) & (abs(kurtval) >2):\n",
    "            log_transform_needed.append('Yes')\n",
    "\n",
    "            if len(df[df[i] == 0])/len(df) <=0.02:\n",
    "                log_type.append('log')\n",
    "                skewvalnew = np.log(pd.DataFrame(df[df[i] > 0])[i]).skew()\n",
    "                skew_after.append(skewvalnew)\n",
    "\n",
    "                kurtvalnew = np.log(pd.DataFrame(df[df[i] > 0])[i]).kurtosis()\n",
    "                kurt_after.append(kurtvalnew)\n",
    "\n",
    "                sdvalnew = np.log(pd.DataFrame(df[df[i] > 0])[i]).std()\n",
    "                standard_deviation_after.append(sdvalnew)\n",
    "\n",
    "            else:\n",
    "                log_type.append('log1p')\n",
    "                skewvalnew = np.log1p(pd.DataFrame(df[df[i] >= 0])[i]).skew()\n",
    "                skew_after.append(skewvalnew)\n",
    "\n",
    "                kurtvalnew = np.log1p(pd.DataFrame(df[df[i] >= 0])[i]).kurtosis()\n",
    "                kurt_after.append(kurtvalnew)\n",
    "\n",
    "                sdvalnew = np.log1p(pd.DataFrame(df[df[i] >= 0])[i]).std()\n",
    "                standard_deviation_after.append(sdvalnew)\n",
    "\n",
    "        else:\n",
    "            log_type.append('NA')\n",
    "            log_transform_needed.append('No')\n",
    "\n",
    "            skew_after.append(skewval)\n",
    "            kurt_after.append(kurtval)\n",
    "            standard_deviation_after.append(sdval)\n",
    "\n",
    "    statdataframe['skew_before'] = skew_before\n",
    "    statdataframe['kurtosis_before'] = kurt_before\n",
    "    statdataframe['standard_deviation_before'] = standard_deviation_before\n",
    "    statdataframe['log_transform_needed'] = log_transform_needed\n",
    "    statdataframe['log_type'] = log_type\n",
    "    statdataframe['skew_after'] = skew_after\n",
    "    statdataframe['kurtosis_after'] = kurt_after\n",
    "    statdataframe['standard_deviation_after'] = standard_deviation_after\n",
    "    # executando a transformação de log para as colunas determinadas\n",
    "    for i in range(len(statdataframe)):\n",
    "        if statdataframe['log_transform_needed'][i] == 'Yes':\n",
    "            colname = str(statdataframe['numeric_column'][i])\n",
    "\n",
    "            if statdataframe['log_type'][i] == 'log':\n",
    "                df = df[df[colname] > 0]\n",
    "                df[colname + \"_log\"] = np.log(df[colname])\n",
    "\n",
    "            elif statdataframe['log_type'][i] == 'log1p':\n",
    "                df = df[df[colname] >= 0]\n",
    "                df[colname + \"_log1p\"] = np.log1p(df[colname])\n",
    "    df = df.drop(['number_outpatient', 'number_inpatient', 'number_emergency','service_utilization'], axis = 1)\n",
    "    # numerics = list(set(list(df._get_numeric_data().columns))- {'class'})\n",
    "    # features categorica\n",
    "    df.change = df.change.astype('int64')\n",
    "    df.diabetesMed = df.diabetesMed.astype('int64')\n",
    "\n",
    "    # Converter dataframe para int64\n",
    "    i = ['metformin', 'repaglinide', 'nateglinide', 'chlorpropamide', 'glimepiride', 'acetohexamide', \\\n",
    "            'glipizide', 'glyburide', 'tolbutamide', 'pioglitazone', 'rosiglitazone', 'acarbose','miglitol', \\\n",
    "            'troglitazone', 'tolazamide', 'insulin', 'glyburide.metformin', 'glipizide.metformin', \\\n",
    "            'glimepiride.pioglitazone', 'metformin.rosiglitazone', 'metformin.pioglitazone','A1Cresult']\n",
    "    df[i] = df[i].fillna(0).astype('int64')\n",
    "    # dfcopy = df.copy(deep = True)\n",
    "    df['class'] = df['class'].apply(lambda x: 0 if x == 2 else x)\n",
    "    # descartar colunas de diagnóstico individuais que têm informações de doença muito granulares\n",
    "    # também descartar categorização de nível 2 (que não era comparável com nenhuma referência)\n",
    "    # também descartar diagnósticos secundários e terciários de nível 1\n",
    "    df.drop(['diag_1', 'diag_2', 'diag_3', 'level2_diag1', 'level1_diag2', 'level2_diag2', 'level1_diag3',\n",
    "            'level2_diag3'], axis=1, inplace=True)\n",
    "    interactionterms = [('num_medications','time_in_hospital'),\n",
    "    ('num_medications','num_procedures'),\n",
    "    ('time_in_hospital','num_lab_procedures'),\n",
    "    ('num_medications','num_lab_procedures'),\n",
    "    ('num_medications','number_diagnoses'),\n",
    "    ('age','number_diagnoses'),\n",
    "    ('change','num_medications'),\n",
    "    ('number_diagnoses','time_in_hospital'),\n",
    "    ('num_medications','numchange')]\n",
    "    for inter in interactionterms:\n",
    "        name = inter[0] + '|' + inter[1]\n",
    "        df[name] = df[inter[0]] * df[inter[1]]\n",
    "    df2 = df.copy(deep = True)\n",
    "    df2['level1_diag1'] = df2['level1_diag1'].astype('object')\n",
    "    df_pd = pd.get_dummies(df2, columns=['gender', 'admission_type_id', 'discharge_disposition_id',\n",
    "                                        'admission_source_id', 'max_glu_serum', 'A1Cresult', 'level1_diag1'], drop_first = True)\n",
    "    just_dummies = pd.get_dummies(df_pd['race'])\n",
    "    df_pd = pd.concat([df_pd, just_dummies], axis=1)\n",
    "    df_pd.drop(['race'], inplace=True, axis=1)\n",
    "    non_num_cols = ['race', 'gender', 'admission_type_id', 'discharge_disposition_id', 'admission_source_id',\n",
    "                    'max_glu_serum', 'A1Cresult', 'level1_diag1']\n",
    "    num_cols = list(set(list(df._get_numeric_data().columns))- {'class', 'change'})\n",
    "    new_non_num_cols = []\n",
    "    for i in non_num_cols:\n",
    "        for j in df_pd.columns:\n",
    "            if i in j:\n",
    "                new_non_num_cols.append(j)\n",
    "    l = []\n",
    "    for feature in list(df_pd.columns):\n",
    "        if '|' in feature:\n",
    "            l.append(feature)\n",
    "    feature_set = [col for col in df_pd.columns if col != 'class']\n",
    "    X_test = df_pd[feature_set]\n",
    "    y_test = df_pd['class']\n",
    "\n",
    "    return X_test, y_test"
   ]
  },
  {
   "cell_type": "code",
   "execution_count": 304,
   "metadata": {},
   "outputs": [
    {
     "name": "stderr",
     "output_type": "stream",
     "text": [
      "C:\\Users\\PC\\AppData\\Local\\Temp\\ipykernel_9704\\1344644402.py:6: FutureWarning: A value is trying to be set on a copy of a DataFrame or Series through chained assignment using an inplace method.\n",
      "The behavior will change in pandas 3.0. This inplace method will never work because the intermediate object on which we are setting values always behaves as a copy.\n",
      "\n",
      "For example, when doing 'df[col].method(value, inplace=True)', try using 'df.method({col: value}, inplace=True)' or df[col] = df[col].method(value) instead, to perform the operation inplace on the original object.\n",
      "\n",
      "\n",
      "  df[\"race\"].fillna(df[\"race\"].mode()[0], inplace = True)\n",
      "C:\\Users\\PC\\AppData\\Local\\Temp\\ipykernel_9704\\1344644402.py:29: FutureWarning: Downcasting behavior in `replace` is deprecated and will be removed in a future version. To retain the old behavior, explicitly call `result.infer_objects(copy=False)`. To opt-in to the future behavior, set `pd.set_option('future.no_silent_downcasting', True)`\n",
      "  df['change'] = df['change'].replace('No', 0)\n",
      "C:\\Users\\PC\\AppData\\Local\\Temp\\ipykernel_9704\\1344644402.py:31: FutureWarning: Downcasting behavior in `replace` is deprecated and will be removed in a future version. To retain the old behavior, explicitly call `result.infer_objects(copy=False)`. To opt-in to the future behavior, set `pd.set_option('future.no_silent_downcasting', True)`\n",
      "  df['gender'] = df['gender'].replace('Female', 0)\n",
      "C:\\Users\\PC\\AppData\\Local\\Temp\\ipykernel_9704\\1344644402.py:33: FutureWarning: Downcasting behavior in `replace` is deprecated and will be removed in a future version. To retain the old behavior, explicitly call `result.infer_objects(copy=False)`. To opt-in to the future behavior, set `pd.set_option('future.no_silent_downcasting', True)`\n",
      "  df['diabetesMed'] = df['diabetesMed'].replace('No', 0)\n",
      "C:\\Users\\PC\\AppData\\Local\\Temp\\ipykernel_9704\\1344644402.py:39: FutureWarning: Downcasting behavior in `replace` is deprecated and will be removed in a future version. To retain the old behavior, explicitly call `result.infer_objects(copy=False)`. To opt-in to the future behavior, set `pd.set_option('future.no_silent_downcasting', True)`\n",
      "  df[col] = df[col].replace('Down', 1)\n",
      "C:\\Users\\PC\\AppData\\Local\\Temp\\ipykernel_9704\\1344644402.py:37: FutureWarning: Downcasting behavior in `replace` is deprecated and will be removed in a future version. To retain the old behavior, explicitly call `result.infer_objects(copy=False)`. To opt-in to the future behavior, set `pd.set_option('future.no_silent_downcasting', True)`\n",
      "  df[col] = df[col].replace('Steady', 1)\n",
      "C:\\Users\\PC\\AppData\\Local\\Temp\\ipykernel_9704\\1344644402.py:38: FutureWarning: Downcasting behavior in `replace` is deprecated and will be removed in a future version. To retain the old behavior, explicitly call `result.infer_objects(copy=False)`. To opt-in to the future behavior, set `pd.set_option('future.no_silent_downcasting', True)`\n",
      "  df[col] = df[col].replace('Up', 1)\n",
      "C:\\Users\\PC\\AppData\\Local\\Temp\\ipykernel_9704\\1344644402.py:36: FutureWarning: Downcasting behavior in `replace` is deprecated and will be removed in a future version. To retain the old behavior, explicitly call `result.infer_objects(copy=False)`. To opt-in to the future behavior, set `pd.set_option('future.no_silent_downcasting', True)`\n",
      "  df[col] = df[col].replace('No', 0)\n",
      "C:\\Users\\PC\\AppData\\Local\\Temp\\ipykernel_9704\\1344644402.py:42: FutureWarning: Downcasting behavior in `replace` is deprecated and will be removed in a future version. To retain the old behavior, explicitly call `result.infer_objects(copy=False)`. To opt-in to the future behavior, set `pd.set_option('future.no_silent_downcasting', True)`\n",
      "  df['A1Cresult'] = df['A1Cresult'].replace('Norm', 0)\n",
      "C:\\Users\\PC\\AppData\\Local\\Temp\\ipykernel_9704\\1344644402.py:46: FutureWarning: Downcasting behavior in `replace` is deprecated and will be removed in a future version. To retain the old behavior, explicitly call `result.infer_objects(copy=False)`. To opt-in to the future behavior, set `pd.set_option('future.no_silent_downcasting', True)`\n",
      "  df['max_glu_serum'] = df['max_glu_serum'].replace('Norm', 0)\n",
      "C:\\Users\\PC\\AppData\\Local\\Temp\\ipykernel_9704\\1344644402.py:49: FutureWarning: Downcasting behavior in `replace` is deprecated and will be removed in a future version. To retain the old behavior, explicitly call `result.infer_objects(copy=False)`. To opt-in to the future behavior, set `pd.set_option('future.no_silent_downcasting', True)`\n",
      "  df['age'] = df['age'].replace('['+str(10*i)+'-'+str(10*(i+1))+')', i+1)\n",
      "C:\\Users\\PC\\AppData\\Local\\Temp\\ipykernel_9704\\1344644402.py:52: FutureWarning: Downcasting behavior in `replace` is deprecated and will be removed in a future version. To retain the old behavior, explicitly call `result.infer_objects(copy=False)`. To opt-in to the future behavior, set `pd.set_option('future.no_silent_downcasting', True)`\n",
      "  df['class'] = df['class'].replace('NO', 0)\n",
      "C:\\Users\\PC\\AppData\\Local\\Temp\\ipykernel_9704\\1344644402.py:389: FutureWarning: Downcasting object dtype arrays on .fillna, .ffill, .bfill is deprecated and will change in a future version. Call result.infer_objects(copy=False) instead. To opt-in to the future behavior, set `pd.set_option('future.no_silent_downcasting', True)`\n",
      "  df[i] = df[i].fillna(0).astype('int64')\n"
     ]
    }
   ],
   "source": [
    "X_test, y_test = pipeline_test_set(test_data)"
   ]
  },
  {
   "cell_type": "code",
   "execution_count": 309,
   "metadata": {},
   "outputs": [],
   "source": [
    "# Garantindo que o conjunto de teste tenha as mesmas colunas que o conjunto de treino\n",
    "colunas_faltantes = [col for col in X_train.columns if col not in X_test.columns]\n",
    "colunas_extras = [col for col in X_test.columns if col not in X_train.columns]\n",
    "\n",
    "# Adicionando colunas faltantes no conjunto de teste\n",
    "for col in colunas_faltantes:\n",
    "    X_test[col] = np.nan\n",
    "\n",
    "# Removendo colunas extras do conjunto de teste\n",
    "X_test.drop(columns=colunas_extras, inplace=True)\n",
    "\n",
    "# Reordenando as colunas do X_test para que fiquem na mesma ordem que X_combined\n",
    "X_test = X_test[X_train.columns]\n"
   ]
  },
  {
   "cell_type": "code",
   "execution_count": 310,
   "metadata": {},
   "outputs": [
    {
     "name": "stdout",
     "output_type": "stream",
     "text": [
      "Desempenho no conjunto de teste - Acurácia: 0.8874422511549769, F1-Score: 0.8353348641997256, Recall: 0.8874422511549769, ROC AUC: 0.6607698919043998\n"
     ]
    }
   ],
   "source": [
    "# Treinando o Melhor Modelo no Conjunto Combinado e Avaliando no Conjunto de Teste\n",
    "# Combinando os conjuntos de treinamento e validação\n",
    "X_combined = pd.concat([X_train, X_val])\n",
    "y_combined = np.concatenate([y_train, y_val])\n",
    "\n",
    "# Treinando o melhor modelo\n",
    "best_model.fit(X_combined, y_combined)\n",
    "\n",
    "# Avaliando no conjunto de teste sem modificar os dados originais\n",
    "y_pred_test = best_model.predict(X_test)\n",
    "acc_test = accuracy_score(y_test, y_pred_test)\n",
    "f1_test = f1_score(y_test, y_pred_test, average='weighted')\n",
    "recall_test = recall_score(y_test, y_pred_test, average='weighted')\n",
    "if hasattr(best_model, \"predict_proba\"):\n",
    "    y_prob_test = best_model.predict_proba(X_test)\n",
    "    if y_prob_test.ndim == 1 or y_prob_test.shape[1] == 2:\n",
    "        y_prob_test = y_prob_test[:, -1]  # Para classes binárias\n",
    "        roc_auc_test = roc_auc_score(y_test, y_prob_test)\n",
    "    else:\n",
    "        roc_auc_test = roc_auc_score(y_test, y_prob_test, multi_class='ovo', average='weighted')\n",
    "else:\n",
    "    roc_auc_test = None\n",
    "\n",
    "print(f\"Desempenho no conjunto de teste - Acurácia: {acc_test}, F1-Score: {f1_test}, Recall: {recall_test}, ROC AUC: {roc_auc_test}\")\n"
   ]
  },
  {
   "cell_type": "code",
   "execution_count": 311,
   "metadata": {},
   "outputs": [
    {
     "name": "stderr",
     "output_type": "stream",
     "text": [
      "2024/11/24 18:31:09 WARNING mlflow.models.model: Model logged without a signature and input example. Please set `input_example` parameter when logging the model to auto infer the model signature.\n"
     ]
    }
   ],
   "source": [
    "# Registrando no MLflow\n",
    "with mlflow.start_run(run_name=\"Melhor Modelo - Teste\"):\n",
    "    mlflow.log_param(\"model_type\", best_model_name)\n",
    "    mlflow.log_metric(\"accuracy_test\", acc_test)\n",
    "    mlflow.log_metric(\"f1_score_test\", f1_test)\n",
    "    mlflow.log_metric(\"recall_test\", recall_test)\n",
    "    if roc_auc_test is not None:\n",
    "        mlflow.log_metric(\"roc_auc_test\", roc_auc_test)\n",
    "    mlflow.sklearn.log_model(best_model, \"Melhor_Modelo\")\n"
   ]
  },
  {
   "cell_type": "code",
   "execution_count": 312,
   "metadata": {},
   "outputs": [
    {
     "data": {
      "image/png": "[encoded data removed]",
      "text/plain": [
       "<Figure size 800x600 with 2 Axes>"
      ]
     },
     "metadata": {},
     "output_type": "display_data"
    }
   ],
   "source": [
    "# Visualizações Adicionais\n",
    "from sklearn.metrics import confusion_matrix\n",
    "import seaborn as sns\n",
    "\n",
    "# Matriz de Confusão\n",
    "conf_matrix = confusion_matrix(y_test, y_pred_test)\n",
    "plt.figure(figsize=(8,6))\n",
    "plt.title(\"Matriz de Confusão - Conjunto de Teste\")\n",
    "sns.heatmap(conf_matrix, annot=True, fmt='d', cmap='Blues')\n",
    "plt.xlabel('Predito')\n",
    "plt.ylabel('Real')\n",
    "plt.show()"
   ]
  },
  {
   "cell_type": "code",
   "execution_count": 313,
   "metadata": {},
   "outputs": [
    {
     "data": {
      "image/png": "[encoded data removed]",
      "text/plain": [
       "<Figure size 800x600 with 1 Axes>"
      ]
     },
     "metadata": {},
     "output_type": "display_data"
    }
   ],
   "source": [
    "# Curva ROC\n",
    "if roc_auc_test is not None and len(np.unique(y_test)) == 2:\n",
    "    fpr, tpr, thresholds = roc_curve(y_test, y_prob_test)\n",
    "    plt.figure(figsize=(8,6))\n",
    "    plt.plot(fpr, tpr, label=f'ROC curve (area = {roc_auc_test:.2f})')\n",
    "    plt.plot([0, 1], [0, 1], 'k--')  # Linha diagonal\n",
    "    plt.xlabel('False Positive Rate')\n",
    "    plt.ylabel('True Positive Rate')\n",
    "    plt.title('Curva ROC - Conjunto de Teste')\n",
    "    plt.legend(loc='lower right')\n",
    "    plt.show()\n",
    "elif roc_auc_test is not None:\n",
    "    print(\"Curva ROC para problemas multiclasse não está implementada neste código.\")\n"
   ]
  },
  {
   "cell_type": "code",
   "execution_count": 314,
   "metadata": {},
   "outputs": [
    {
     "name": "stdout",
     "output_type": "stream",
     "text": [
      "                                Modelo  Acurácia  F1-Score    Recall   ROC AUC\n",
      "0                                 K-NN  0.886967  0.833836  0.886967  0.507681\n",
      "1                                  LVQ  0.529284  0.613432  0.529284       NaN\n",
      "2                    Árvore de Decisão  0.887202  0.835306  0.887202  0.647170\n",
      "3                                  SVM  0.867327  0.832648  0.867327       NaN\n",
      "4                        Random Forest  0.887026  0.834433  0.887026  0.666619\n",
      "5                      Rede Neural MLP  0.886967  0.833836  0.886967  0.652150\n",
      "6                              XGBoost  0.886909  0.835267  0.886909  0.669991\n",
      "7                             LightGBM  0.886909  0.835045  0.886909  0.667197\n",
      "8  Comitê de Redes Neurais Artificiais  0.886967  0.833836  0.886967  0.559606\n",
      "9        Comitê Heterogêneo (Stacking)  0.886440  0.834695  0.886440  0.642878\n"
     ]
    }
   ],
   "source": [
    "# Comparação dos Modelos\n",
    "# Já temos o DataFrame results_df com as métricas dos modelos\n",
    "print(results_df)"
   ]
  },
  {
   "cell_type": "code",
   "execution_count": 315,
   "metadata": {},
   "outputs": [
    {
     "data": {
      "image/png": "[encoded data removed]",
      "text/plain": [
       "<Figure size 1200x800 with 1 Axes>"
      ]
     },
     "metadata": {},
     "output_type": "display_data"
    }
   ],
   "source": [
    "# Plotando as métricas\n",
    "results_df_melted = results_df.melt(id_vars='Modelo', value_vars=['Acurácia', 'F1-Score', 'Recall', 'ROC AUC'], var_name='Métrica', value_name='Valor')\n",
    "\n",
    "plt.figure(figsize=(12,8))\n",
    "sns.barplot(x='Modelo', y='Valor', hue='Métrica', data=results_df_melted)\n",
    "plt.xticks(rotation=45)\n",
    "plt.title('Comparação das Métricas dos Modelos')\n",
    "plt.legend(loc='lower right')\n",
    "plt.show()"
   ]
  },
  {
   "cell_type": "code",
   "execution_count": 318,
   "metadata": {},
   "outputs": [
    {
     "name": "stdout",
     "output_type": "stream",
     "text": [
      "Estatística: 34.814303638644944, p-valor: 6.424810596432184e-05\n",
      "Diferença significativa entre os modelos. Realizando teste de Nemenyi.\n",
      "                                         K-NN       LVQ  Árvore de Decisão  \\\n",
      "K-NN                                 1.000000  0.572784           1.000000   \n",
      "LVQ                                  0.572784  1.000000           0.572784   \n",
      "Árvore de Decisão                    1.000000  0.572784           1.000000   \n",
      "SVM                                  0.886843  0.999959           0.886843   \n",
      "Random Forest                        0.839286  0.009665           0.839286   \n",
      "Rede Neural MLP                      1.000000  0.572784           1.000000   \n",
      "XGBoost                              0.886843  0.014062           0.886843   \n",
      "LightGBM                             0.572784  0.001890           0.572784   \n",
      "Comitê de Redes Neurais Artificiais  1.000000  0.572784           1.000000   \n",
      "Comitê Heterogêneo (Stacking)        0.886843  0.014062           0.886843   \n",
      "\n",
      "                                          SVM  Random Forest  Rede Neural MLP  \\\n",
      "K-NN                                 0.886843       0.839286         1.000000   \n",
      "LVQ                                  0.999959       0.009665         0.572784   \n",
      "Árvore de Decisão                    0.886843       0.839286         1.000000   \n",
      "SVM                                  1.000000       0.054745         0.886843   \n",
      "Random Forest                        0.054745       1.000000         0.839286   \n",
      "Rede Neural MLP                      0.886843       0.839286         1.000000   \n",
      "XGBoost                              0.074109       1.000000         0.886843   \n",
      "LightGBM                             0.014062       0.999994         0.572784   \n",
      "Comitê de Redes Neurais Artificiais  0.886843       0.839286         1.000000   \n",
      "Comitê Heterogêneo (Stacking)        0.074109       1.000000         0.886843   \n",
      "\n",
      "                                      XGBoost  LightGBM  \\\n",
      "K-NN                                 0.886843  0.572784   \n",
      "LVQ                                  0.014062  0.001890   \n",
      "Árvore de Decisão                    0.886843  0.572784   \n",
      "SVM                                  0.074109  0.014062   \n",
      "Random Forest                        1.000000  0.999994   \n",
      "Rede Neural MLP                      0.886843  0.572784   \n",
      "XGBoost                              1.000000  0.999959   \n",
      "LightGBM                             0.999959  1.000000   \n",
      "Comitê de Redes Neurais Artificiais  0.886843  0.572784   \n",
      "Comitê Heterogêneo (Stacking)        1.000000  0.999959   \n",
      "\n",
      "                                     Comitê de Redes Neurais Artificiais  \\\n",
      "K-NN                                                            1.000000   \n",
      "LVQ                                                             0.572784   \n",
      "Árvore de Decisão                                               1.000000   \n",
      "SVM                                                             0.886843   \n",
      "Random Forest                                                   0.839286   \n",
      "Rede Neural MLP                                                 1.000000   \n",
      "XGBoost                                                         0.886843   \n",
      "LightGBM                                                        0.572784   \n",
      "Comitê de Redes Neurais Artificiais                             1.000000   \n",
      "Comitê Heterogêneo (Stacking)                                   0.886843   \n",
      "\n",
      "                                     Comitê Heterogêneo (Stacking)  \n",
      "K-NN                                                      0.886843  \n",
      "LVQ                                                       0.014062  \n",
      "Árvore de Decisão                                         0.886843  \n",
      "SVM                                                       0.074109  \n",
      "Random Forest                                             1.000000  \n",
      "Rede Neural MLP                                           0.886843  \n",
      "XGBoost                                                   1.000000  \n",
      "LightGBM                                                  0.999959  \n",
      "Comitê de Redes Neurais Artificiais                       0.886843  \n",
      "Comitê Heterogêneo (Stacking)                             1.000000  \n"
     ]
    }
   ],
   "source": [
    "# Implementação da Metodologia de Janez Demsar\n",
    "from scipy.stats import friedmanchisquare\n",
    "import scikit_posthocs as sp\n",
    "\n",
    "# Usando os scores de cross-validation armazenados em cv_results\n",
    "scores_df = pd.DataFrame(cv_results)\n",
    "\n",
    "# Teste de Friedman\n",
    "stat, p = friedmanchisquare(*[scores_df[model] for model in scores_df.columns])\n",
    "print(f'Estatística: {stat}, p-valor: {p}')\n",
    "\n",
    "# Se p-valor < 0.05, há diferença significativa\n",
    "if p < 0.05:\n",
    "    print('Diferença significativa entre os modelos. Realizando teste de Nemenyi.')\n",
    "    nemenyi = sp.posthoc_nemenyi_friedman(scores_df)\n",
    "    print(nemenyi)\n",
    "else:\n",
    "    print('Não há diferença significativa entre os modelos.')"
   ]
  },
  {
   "cell_type": "code",
   "execution_count": null,
   "metadata": {},
   "outputs": [],
   "source": []
  },
  {
   "cell_type": "code",
   "execution_count": null,
   "metadata": {},
   "outputs": [],
   "source": []
  },
  {
   "cell_type": "code",
   "execution_count": null,
   "metadata": {},
   "outputs": [],
   "source": []
  },
  {
   "cell_type": "code",
   "execution_count": null,
   "metadata": {},
   "outputs": [],
   "source": []
  },
  {
   "cell_type": "code",
   "execution_count": null,
   "metadata": {},
   "outputs": [],
   "source": []
  }
 ],
 "metadata": {
  "kernelspec": {
   "display_name": "venvmodel",
   "language": "python",
   "name": "python3"
  },
  "language_info": {
   "codemirror_mode": {
    "name": "ipython",
    "version": 3
   },
   "file_extension": ".py",
   "mimetype": "text/x-python",
   "name": "python",
   "nbconvert_exporter": "python",
   "pygments_lexer": "ipython3",
   "version": "3.10.15"
  }
 },
 "nbformat": 4,
 "nbformat_minor": 2
}
