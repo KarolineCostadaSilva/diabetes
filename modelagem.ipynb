{
 "cells": [
  {
   "cell_type": "code",
   "execution_count": 33,
   "metadata": {},
   "outputs": [],
   "source": [
    "# Importando as Bibliotecas Necessárias\n",
    "import pandas as pd\n",
    "import numpy as np\n",
    "from imblearn.under_sampling import ClusterCentroids, NearMiss\n",
    "from collections import Counter\n",
    "from sklearn.neighbors import LocalOutlierFactor\n",
    "from imblearn.combine import SMOTEENN\n",
    "\n",
    "# Modelos\n",
    "from sklearn.neighbors import KNeighborsClassifier\n",
    "from sklearn.neighbors import NearestCentroid\n",
    "from sklearn.tree import DecisionTreeClassifier\n",
    "from sklearn.svm import SVC\n",
    "from sklearn.ensemble import RandomForestClassifier, StackingClassifier, VotingClassifier\n",
    "from sklearn.neural_network import MLPClassifier\n",
    "from xgboost import XGBClassifier\n",
    "from lightgbm import LGBMClassifier\n",
    "\n",
    "# Validação e métricas\n",
    "from sklearn.model_selection import cross_val_score, KFold\n",
    "from sklearn.metrics import accuracy_score, f1_score, recall_score, roc_auc_score, roc_curve\n",
    "from sklearn.preprocessing import OrdinalEncoder, StandardScaler\n",
    "\n",
    "# Bibliotecas adicionais\n",
    "import optuna\n",
    "from optuna.integration.mlflow import MLflowCallback\n",
    "import mlflow\n",
    "import mlflow.sklearn\n",
    "import matplotlib.pyplot as plt\n",
    "import seaborn as sns\n",
    "\n",
    "import warnings\n",
    "warnings.filterwarnings('ignore')"
   ]
  },
  {
   "cell_type": "code",
   "execution_count": 34,
   "metadata": {},
   "outputs": [
    {
     "data": {
      "text/plain": [
       "<Experiment: artifact_location='file:///c:/Users/PC/Documents/GitHub/diabetes/mlruns/490920415060799094', creation_time=1732409763939, experiment_id='490920415060799094', last_update_time=1732409763939, lifecycle_stage='active', name='Modelagem de Classificação', tags={}>"
      ]
     },
     "execution_count": 34,
     "metadata": {},
     "output_type": "execute_result"
    }
   ],
   "source": [
    "# Configurando o MLflow\n",
    "mlflow.set_experiment(\"Modelagem de Classificação\")"
   ]
  },
  {
   "cell_type": "code",
   "execution_count": null,
   "metadata": {},
   "outputs": [],
   "source": [
    "# Carregando os conjuntos de dados\n",
    "train_data = pd.read_csv('C:\\\\Users\\\\PC\\\\Downloads\\\\dataset\\\\train_data.csv')\n",
    "validation_data = pd.read_csv('C:\\\\Users\\\\PC\\\\Downloads\\\\dataset\\\\validation_data.csv')\n",
    "test_data = pd.read_csv('C:\\\\Users\\\\PC\\\\Downloads\\\\dataset\\\\test_data.csv')"
   ]
  },
  {
   "cell_type": "code",
   "execution_count": 36,
   "metadata": {},
   "outputs": [],
   "source": [
    "# Separando features e target no conjunto de treinamento\n",
    "X_train = train_data.drop('class', axis=1)\n",
    "y_train = train_data['class']\n",
    "\n",
    "# Separando features e target no conjunto de validação\n",
    "X_val = validation_data.drop('class', axis=1)\n",
    "y_val = validation_data['class']\n"
   ]
  },
  {
   "cell_type": "code",
   "execution_count": 37,
   "metadata": {},
   "outputs": [
    {
     "name": "stdout",
     "output_type": "stream",
     "text": [
      "Distribuição das classes no conjunto de treinamento antes do under-sampling:\n",
      "Counter({0: 72323, 1: 9085})\n"
     ]
    }
   ],
   "source": [
    "print('Distribuição das classes no conjunto de treinamento antes do under-sampling:')\n",
    "print(Counter(y_train))\n"
   ]
  },
  {
   "cell_type": "code",
   "execution_count": null,
   "metadata": {},
   "outputs": [
    {
     "name": "stdout",
     "output_type": "stream",
     "text": [
      "Distribuição das classes após o Cluster Centroids:\n",
      "Counter({0: 9085, 1: 9085})\n"
     ]
    }
   ],
   "source": [
    "# Criando o ClusterCentroids\n",
    "cc = ClusterCentroids(random_state=42)\n",
    "\n",
    "# Aplicando o under-sampling\n",
    "X_train, y_train = cc.fit_resample(X_train, y_train)\n",
    "\n",
    "print('Distribuição das classes após o Cluster Centroids:')\n",
    "print(Counter(y_train))\n"
   ]
  },
  {
   "cell_type": "code",
   "execution_count": 40,
   "metadata": {},
   "outputs": [],
   "source": [
    "# Definindo uma Função de Avaliação\n",
    "def evaluate_model(model, X_train, y_train, X_val, y_val, model_name):\n",
    "    # Treinando e avaliando o modelo com os dados originais\n",
    "    model.fit(X_train, y_train)\n",
    "    y_pred = model.predict(X_val)\n",
    "    y_true = y_val\n",
    "    X_val_used = X_val\n",
    "\n",
    "    # Calculando as métricas\n",
    "    acc = accuracy_score(y_true, y_pred)\n",
    "    f1 = f1_score(y_true, y_pred, average='weighted')\n",
    "    recall = recall_score(y_true, y_pred, average='weighted')\n",
    "    if hasattr(model, \"predict_proba\"):\n",
    "        y_prob = model.predict_proba(X_val_used)\n",
    "        if y_prob.ndim == 1 or y_prob.shape[1] == 2:\n",
    "            y_prob = y_prob[:, -1]  # Para classes binárias\n",
    "            roc_auc = roc_auc_score(y_true, y_prob)\n",
    "        else:\n",
    "            roc_auc = roc_auc_score(y_true, y_prob, multi_class='ovo', average='weighted')\n",
    "    else:\n",
    "        roc_auc = None\n",
    "    return acc, f1, recall, roc_auc\n"
   ]
  },
  {
   "cell_type": "code",
   "execution_count": 41,
   "metadata": {},
   "outputs": [],
   "source": [
    "# Definindo os Modelos\n",
    "models = {\n",
    "    'K-NN': KNeighborsClassifier(),\n",
    "    'LVQ': NearestCentroid(),\n",
    "    'Árvore de Decisão': DecisionTreeClassifier(),\n",
    "    'SVM': SVC(),\n",
    "    'Random Forest': RandomForestClassifier(),\n",
    "    'Rede Neural MLP': MLPClassifier(max_iter=500),\n",
    "    'XGBoost': XGBClassifier(use_label_encoder=False, eval_metric='logloss'),\n",
    "    'LightGBM': LGBMClassifier()\n",
    "}"
   ]
  },
  {
   "cell_type": "code",
   "execution_count": 42,
   "metadata": {},
   "outputs": [],
   "source": [
    "# Comitê de Redes Neurais Artificiais\n",
    "# Definindo múltiplas redes neurais\n",
    "nn1 = MLPClassifier(hidden_layer_sizes=(50,), activation='relu', solver='adam', max_iter=500, random_state=1)\n",
    "nn2 = MLPClassifier(hidden_layer_sizes=(100,), activation='tanh', solver='sgd', max_iter=500, random_state=2)\n",
    "nn3 = MLPClassifier(hidden_layer_sizes=(50, 50), activation='relu', solver='adam', max_iter=500, random_state=3)\n",
    "\n",
    "# Criando o Comitê\n",
    "committee_nn = VotingClassifier(estimators=[\n",
    "    ('nn1', nn1),\n",
    "    ('nn2', nn2),\n",
    "    ('nn3', nn3)\n",
    "], voting='soft')\n",
    "\n",
    "models['Comitê de Redes Neurais Artificiais'] = committee_nn\n"
   ]
  },
  {
   "cell_type": "code",
   "execution_count": 43,
   "metadata": {},
   "outputs": [],
   "source": [
    "# Comitê Heterogêneo (Stacking)\n",
    "# Modelos base\n",
    "estimators = [\n",
    "    ('rf', RandomForestClassifier(n_estimators=100, random_state=42)),\n",
    "    ('svm', SVC(random_state=42)),\n",
    "    ('knn', KNeighborsClassifier())\n",
    "]\n",
    "\n",
    "# Modelo meta\n",
    "from sklearn.linear_model import LogisticRegression\n",
    "final_estimator = LogisticRegression()\n",
    "\n",
    "# Criando o StackingClassifier\n",
    "stacking_model = StackingClassifier(estimators=estimators, final_estimator=final_estimator, cv=5)\n",
    "\n",
    "models['Comitê Heterogêneo (Stacking)'] = stacking_model"
   ]
  },
  {
   "cell_type": "code",
   "execution_count": 44,
   "metadata": {},
   "outputs": [
    {
     "name": "stderr",
     "output_type": "stream",
     "text": [
      "2024/11/26 16:43:39 WARNING mlflow.models.model: Model logged without a signature and input example. Please set `input_example` parameter when logging the model to auto infer the model signature.\n"
     ]
    },
    {
     "name": "stdout",
     "output_type": "stream",
     "text": [
      "K-NN - Acurácia: 0.6068796068796068, F1-Score: 0.6789590861818335, Recall: 0.6068796068796068, ROC AUC: 0.5242257630860948\n"
     ]
    },
    {
     "name": "stderr",
     "output_type": "stream",
     "text": [
      "2024/11/26 16:43:41 WARNING mlflow.models.model: Model logged without a signature and input example. Please set `input_example` parameter when logging the model to auto infer the model signature.\n"
     ]
    },
    {
     "name": "stdout",
     "output_type": "stream",
     "text": [
      "LVQ - Acurácia: 0.2813759213759214, F1-Score: 0.3338918735922431, Recall: 0.2813759213759214, ROC AUC: None\n"
     ]
    },
    {
     "name": "stderr",
     "output_type": "stream",
     "text": [
      "2024/11/26 16:43:44 WARNING mlflow.models.model: Model logged without a signature and input example. Please set `input_example` parameter when logging the model to auto infer the model signature.\n"
     ]
    },
    {
     "name": "stdout",
     "output_type": "stream",
     "text": [
      "Árvore de Decisão - Acurácia: 0.1945945945945946, F1-Score: 0.19434854791904418, Recall: 0.1945945945945946, ROC AUC: 0.49127178159119556\n"
     ]
    },
    {
     "name": "stderr",
     "output_type": "stream",
     "text": [
      "2024/11/26 16:44:16 WARNING mlflow.models.model: Model logged without a signature and input example. Please set `input_example` parameter when logging the model to auto infer the model signature.\n"
     ]
    },
    {
     "name": "stdout",
     "output_type": "stream",
     "text": [
      "SVM - Acurácia: 0.3207862407862408, F1-Score: 0.3901020927000174, Recall: 0.32078624078624074, ROC AUC: None\n"
     ]
    },
    {
     "name": "stderr",
     "output_type": "stream",
     "text": [
      "2024/11/26 16:44:20 WARNING mlflow.models.model: Model logged without a signature and input example. Please set `input_example` parameter when logging the model to auto infer the model signature.\n"
     ]
    },
    {
     "name": "stdout",
     "output_type": "stream",
     "text": [
      "Random Forest - Acurácia: 0.13690417690417692, F1-Score: 0.07858084605449771, Recall: 0.13690417690417692, ROC AUC: 0.4830924853802537\n"
     ]
    },
    {
     "name": "stderr",
     "output_type": "stream",
     "text": [
      "2024/11/26 16:44:37 WARNING mlflow.models.model: Model logged without a signature and input example. Please set `input_example` parameter when logging the model to auto infer the model signature.\n"
     ]
    },
    {
     "name": "stdout",
     "output_type": "stream",
     "text": [
      "Rede Neural MLP - Acurácia: 0.15056511056511057, F1-Score: 0.10537527432810576, Recall: 0.15056511056511057, ROC AUC: 0.4679633559738785\n"
     ]
    },
    {
     "name": "stderr",
     "output_type": "stream",
     "text": [
      "2024/11/26 16:44:39 WARNING mlflow.models.model: Model logged without a signature and input example. Please set `input_example` parameter when logging the model to auto infer the model signature.\n"
     ]
    },
    {
     "name": "stdout",
     "output_type": "stream",
     "text": [
      "XGBoost - Acurácia: 0.14368550368550367, F1-Score: 0.09348308780724147, Recall: 0.14368550368550367, ROC AUC: 0.4821135992857243\n",
      "[LightGBM] [Info] Number of positive: 9085, number of negative: 9085\n",
      "[LightGBM] [Info] Auto-choosing row-wise multi-threading, the overhead of testing was 0.000925 seconds.\n",
      "You can set `force_row_wise=true` to remove the overhead.\n",
      "And if memory is not enough, you can set `force_col_wise=true`.\n",
      "[LightGBM] [Info] Total Bins 4628\n",
      "[LightGBM] [Info] Number of data points in the train set: 18170, number of used features: 93\n",
      "[LightGBM] [Info] [binary:BoostFromScore]: pavg=0.500000 -> initscore=0.000000\n"
     ]
    },
    {
     "name": "stderr",
     "output_type": "stream",
     "text": [
      "2024/11/26 16:44:42 WARNING mlflow.models.model: Model logged without a signature and input example. Please set `input_example` parameter when logging the model to auto infer the model signature.\n"
     ]
    },
    {
     "name": "stdout",
     "output_type": "stream",
     "text": [
      "LightGBM - Acurácia: 0.1377886977886978, F1-Score: 0.07928348355681411, Recall: 0.1377886977886978, ROC AUC: 0.4902632411350501\n"
     ]
    },
    {
     "name": "stderr",
     "output_type": "stream",
     "text": [
      "2024/11/26 16:45:12 WARNING mlflow.models.model: Model logged without a signature and input example. Please set `input_example` parameter when logging the model to auto infer the model signature.\n"
     ]
    },
    {
     "name": "stdout",
     "output_type": "stream",
     "text": [
      "Comitê de Redes Neurais Artificiais - Acurácia: 0.16294840294840296, F1-Score: 0.12933136873054843, Recall: 0.16294840294840296, ROC AUC: 0.501734658420709\n"
     ]
    },
    {
     "name": "stderr",
     "output_type": "stream",
     "text": [
      "2024/11/26 16:47:14 WARNING mlflow.models.model: Model logged without a signature and input example. Please set `input_example` parameter when logging the model to auto infer the model signature.\n"
     ]
    },
    {
     "name": "stdout",
     "output_type": "stream",
     "text": [
      "Comitê Heterogêneo (Stacking) - Acurácia: 0.15577395577395578, F1-Score: 0.11738161287089525, Recall: 0.15577395577395578, ROC AUC: 0.48330522742606763\n",
      "                                Modelo  Acurácia  F1-Score    Recall   ROC AUC\n",
      "0                                 K-NN  0.606880  0.678959  0.606880  0.524226\n",
      "1                                  LVQ  0.281376  0.333892  0.281376       NaN\n",
      "2                    Árvore de Decisão  0.194595  0.194349  0.194595  0.491272\n",
      "3                                  SVM  0.320786  0.390102  0.320786       NaN\n",
      "4                        Random Forest  0.136904  0.078581  0.136904  0.483092\n",
      "5                      Rede Neural MLP  0.150565  0.105375  0.150565  0.467963\n",
      "6                              XGBoost  0.143686  0.093483  0.143686  0.482114\n",
      "7                             LightGBM  0.137789  0.079283  0.137789  0.490263\n",
      "8  Comitê de Redes Neurais Artificiais  0.162948  0.129331  0.162948  0.501735\n",
      "9        Comitê Heterogêneo (Stacking)  0.155774  0.117382  0.155774  0.483305\n"
     ]
    }
   ],
   "source": [
    "# Executando os Modelos Básicos e Registrando no MLflow\n",
    "initial_results = []\n",
    "\n",
    "for model_name, model in models.items():\n",
    "    with mlflow.start_run(run_name=model_name):\n",
    "        acc, f1, recall, roc_auc = evaluate_model(model, X_train, y_train, X_val, y_val, model_name)\n",
    "        mlflow.log_param(\"model_type\", model_name)\n",
    "        mlflow.log_metric(\"accuracy\", acc)\n",
    "        mlflow.log_metric(\"f1_score\", f1)\n",
    "        mlflow.log_metric(\"recall\", recall)\n",
    "        if roc_auc is not None:\n",
    "            mlflow.log_metric(\"roc_auc\", roc_auc)\n",
    "        # Salvar o modelo\n",
    "        mlflow.sklearn.log_model(model, model_name)\n",
    "        print(f\"{model_name} - Acurácia: {acc}, F1-Score: {f1}, Recall: {recall}, ROC AUC: {roc_auc}\")\n",
    "        initial_results.append({\n",
    "            'Modelo': model_name,\n",
    "            'Acurácia': acc,\n",
    "            'F1-Score': f1,\n",
    "            'Recall': recall,\n",
    "            'ROC AUC': roc_auc\n",
    "        })\n",
    "\n",
    "# Converte os resultados iniciais em DataFrame\n",
    "initial_results_df = pd.DataFrame(initial_results)\n",
    "\n",
    "# Exibindo os resultados iniciais\n",
    "print(initial_results_df)"
   ]
  },
  {
   "cell_type": "code",
   "execution_count": 45,
   "metadata": {},
   "outputs": [],
   "source": [
    "# Busca de Hiperparâmetros com Optuna\n",
    "# Configurando o Callback do MLflow para o Optuna\n",
    "mlflc = MLflowCallback(tracking_uri=mlflow.get_tracking_uri(), metric_name='accuracy')\n"
   ]
  },
  {
   "cell_type": "code",
   "execution_count": 46,
   "metadata": {},
   "outputs": [],
   "source": [
    "def build_classifier(model_name, params):\n",
    "    if model_name == 'K-NN':\n",
    "        classifier = KNeighborsClassifier(\n",
    "            n_neighbors=params['n_neighbors'],\n",
    "            weights=params['weights'],\n",
    "            algorithm=params['algorithm']\n",
    "        )\n",
    "    elif model_name == 'LVQ':\n",
    "        classifier = NearestCentroid(\n",
    "            metric=params['metric'],\n",
    "            shrink_threshold=params['shrink_threshold']\n",
    "        )\n",
    "    elif model_name == 'Árvore de Decisão':\n",
    "        classifier = DecisionTreeClassifier(\n",
    "            max_depth=params['max_depth'],\n",
    "            min_samples_split=params['min_samples_split'],\n",
    "            criterion=params['criterion']\n",
    "        )\n",
    "    elif model_name == 'SVM':\n",
    "        classifier = SVC(\n",
    "            C=params['C'],\n",
    "            kernel=params['kernel'],\n",
    "            gamma=params['gamma']\n",
    "        )\n",
    "    elif model_name == 'Random Forest':\n",
    "        classifier = RandomForestClassifier(\n",
    "            n_estimators=params['n_estimators'],\n",
    "            max_depth=params['max_depth'],\n",
    "            min_samples_split=params['min_samples_split']\n",
    "        )\n",
    "    elif model_name == 'Rede Neural MLP':\n",
    "        classifier = MLPClassifier(\n",
    "            hidden_layer_sizes=params['hidden_layer_sizes'],\n",
    "            activation=params['activation'],\n",
    "            solver=params['solver'],\n",
    "            alpha=params['alpha'],\n",
    "            max_iter=500\n",
    "        )\n",
    "    elif model_name == 'Comitê de Redes Neurais Artificiais':\n",
    "        nn1 = MLPClassifier(\n",
    "            hidden_layer_sizes=params['hidden_layer_sizes'],\n",
    "            activation=params['activation'],\n",
    "            solver=params['solver'],\n",
    "            max_iter=500,\n",
    "            random_state=1\n",
    "        )\n",
    "        nn2 = MLPClassifier(\n",
    "            hidden_layer_sizes=params['hidden_layer_sizes'],\n",
    "            activation=params['activation'],\n",
    "            solver=params['solver'],\n",
    "            max_iter=500,\n",
    "            random_state=2\n",
    "        )\n",
    "        nn3 = MLPClassifier(\n",
    "            hidden_layer_sizes=params['hidden_layer_sizes'],\n",
    "            activation=params['activation'],\n",
    "            solver=params['solver'],\n",
    "            max_iter=500,\n",
    "            random_state=3\n",
    "        )\n",
    "        classifier = VotingClassifier(\n",
    "            estimators=[\n",
    "                ('nn1', nn1),\n",
    "                ('nn2', nn2),\n",
    "                ('nn3', nn3)\n",
    "            ],\n",
    "            voting='soft'\n",
    "        )\n",
    "    elif model_name == 'Comitê Heterogêneo (Stacking)':\n",
    "        final_estimator = LogisticRegression(\n",
    "            C=params['C'],\n",
    "            penalty=params['penalty'],\n",
    "            solver=params['solver']\n",
    "        )\n",
    "        estimators = [\n",
    "            ('rf', RandomForestClassifier(n_estimators=100, random_state=42)),\n",
    "            ('svm', SVC(random_state=42)),\n",
    "            ('knn', KNeighborsClassifier())\n",
    "        ]\n",
    "        classifier = StackingClassifier(\n",
    "            estimators=estimators,\n",
    "            final_estimator=final_estimator,\n",
    "            cv=5\n",
    "        )\n",
    "    elif model_name == 'XGBoost':\n",
    "        classifier = XGBClassifier(\n",
    "            n_estimators=params['n_estimators'],\n",
    "            max_depth=params['max_depth'],\n",
    "            learning_rate=params['learning_rate'],\n",
    "            subsample=params['subsample'],\n",
    "            use_label_encoder=False,\n",
    "            eval_metric='logloss'\n",
    "        )\n",
    "    elif model_name == 'LightGBM':\n",
    "        classifier = LGBMClassifier(\n",
    "            n_estimators=params['n_estimators'],\n",
    "            num_leaves=params['num_leaves'],\n",
    "            learning_rate=params['learning_rate'],\n",
    "            subsample=params['subsample']\n",
    "        )\n",
    "    else:\n",
    "        raise ValueError(f\"Modelo {model_name} não reconhecido.\")\n",
    "    return classifier\n"
   ]
  },
  {
   "cell_type": "code",
   "execution_count": 47,
   "metadata": {},
   "outputs": [],
   "source": [
    "def objective_factory(model_name):\n",
    "    def objective(trial):\n",
    "        params = {}\n",
    "        # Definir os hiperparâmetros para cada modelo\n",
    "        if model_name == 'K-NN':\n",
    "            params['n_neighbors'] = trial.suggest_int('n_neighbors', 1, 30)\n",
    "            params['weights'] = trial.suggest_categorical('weights', ['uniform', 'distance'])\n",
    "            params['algorithm'] = trial.suggest_categorical('algorithm', ['auto', 'ball_tree', 'kd_tree', 'brute'])\n",
    "        \n",
    "        elif model_name == 'LVQ':\n",
    "            params['metric'] = trial.suggest_categorical('metric', ['euclidean', 'manhattan'])\n",
    "            use_shrinkage = trial.suggest_categorical('use_shrinkage', [True, False])\n",
    "            params['shrink_threshold'] = trial.suggest_float('shrink_threshold', 0.0, 1.0) if use_shrinkage else None\n",
    "        \n",
    "        elif model_name == 'Árvore de Decisão':\n",
    "            params['max_depth'] = trial.suggest_int('max_depth', 1, 20)\n",
    "            params['min_samples_split'] = trial.suggest_int('min_samples_split', 2, 10)\n",
    "            params['criterion'] = trial.suggest_categorical('criterion', ['gini', 'entropy'])\n",
    "        \n",
    "        elif model_name == 'SVM':\n",
    "            params['C'] = trial.suggest_float('C', 0.1, 10.0, log=True)\n",
    "            params['kernel'] = trial.suggest_categorical('kernel', ['linear', 'rbf'])\n",
    "            params['gamma'] = trial.suggest_categorical('gamma', ['scale', 'auto'])\n",
    "        \n",
    "        elif model_name == 'Random Forest':\n",
    "            params['n_estimators'] = trial.suggest_int('n_estimators', 50, 300)\n",
    "            params['max_depth'] = trial.suggest_int('max_depth', 2, 20)\n",
    "            params['min_samples_split'] = trial.suggest_int('min_samples_split', 2, 10)\n",
    "        \n",
    "        elif model_name == 'Rede Neural MLP':\n",
    "            params['hidden_layer_sizes'] = trial.suggest_categorical('hidden_layer_sizes', [(50,), (100,), (50,50)])\n",
    "            params['activation'] = trial.suggest_categorical('activation', ['tanh', 'relu'])\n",
    "            params['solver'] = trial.suggest_categorical('solver', ['sgd', 'adam'])\n",
    "            params['alpha'] = trial.suggest_float('alpha', 1e-5, 1e-1, log=True)\n",
    "        \n",
    "        elif model_name == 'Comitê de Redes Neurais Artificiais':\n",
    "            params['hidden_layer_sizes'] = trial.suggest_categorical('hidden_layer_sizes', [(50,), (100,), (50,50)])\n",
    "            params['activation'] = trial.suggest_categorical('activation', ['tanh', 'relu'])\n",
    "            params['solver'] = trial.suggest_categorical('solver', ['sgd', 'adam'])\n",
    "        \n",
    "        elif model_name == 'Comitê Heterogêneo (Stacking)':\n",
    "            params['C'] = trial.suggest_float('C', 0.1, 10.0, log=True)\n",
    "            params['penalty'] = trial.suggest_categorical('penalty', ['l2'])\n",
    "            params['solver'] = trial.suggest_categorical('solver', ['lbfgs'])\n",
    "        \n",
    "        elif model_name == 'XGBoost':\n",
    "            params['n_estimators'] = trial.suggest_int('n_estimators', 50, 300)\n",
    "            params['max_depth'] = trial.suggest_int('max_depth', 3, 15)\n",
    "            params['learning_rate'] = trial.suggest_float('learning_rate', 0.01, 0.3, log=True)\n",
    "            params['subsample'] = trial.suggest_float('subsample', 0.5, 1.0)\n",
    "        \n",
    "        elif model_name == 'LightGBM':\n",
    "            params['n_estimators'] = trial.suggest_int('n_estimators', 50, 300)\n",
    "            params['num_leaves'] = trial.suggest_int('num_leaves', 31, 150)\n",
    "            params['learning_rate'] = trial.suggest_float('learning_rate', 0.01, 0.3, log=True)\n",
    "            params['subsample'] = trial.suggest_float('subsample', 0.5, 1.0)\n",
    "        \n",
    "        else:\n",
    "            raise ValueError(f\"Modelo {model_name} não reconhecido.\")\n",
    "        \n",
    "        classifier = build_classifier(model_name, params)\n",
    "        \n",
    "        acc = cross_val_score(classifier, X_train, y_train, cv=10, scoring='accuracy', n_jobs=-1).mean()\n",
    "        return acc\n",
    "    return objective\n"
   ]
  },
  {
   "cell_type": "code",
   "execution_count": 48,
   "metadata": {},
   "outputs": [],
   "source": [
    "# Executando as Otimizações com Optuna\n",
    "n_trials = 5  # Número de iterações"
   ]
  },
  {
   "cell_type": "code",
   "execution_count": 49,
   "metadata": {},
   "outputs": [],
   "source": [
    "# Dicionário para armazenar os melhores modelos e seus scores\n",
    "best_models = {}\n",
    "best_params = {}\n",
    "cv_results = {}\n"
   ]
  },
  {
   "cell_type": "code",
   "execution_count": 50,
   "metadata": {},
   "outputs": [
    {
     "name": "stderr",
     "output_type": "stream",
     "text": [
      "[I 2024-11-26 16:47:14,603] A new study created in memory with name: Modelagem\n"
     ]
    },
    {
     "name": "stdout",
     "output_type": "stream",
     "text": [
      "Otimização para o modelo: K-NN\n"
     ]
    },
    {
     "name": "stderr",
     "output_type": "stream",
     "text": [
      "[I 2024-11-26 16:47:17,021] Trial 0 finished with value: 0.6334067143643368 and parameters: {'n_neighbors': 4, 'weights': 'uniform', 'algorithm': 'brute'}. Best is trial 0 with value: 0.6334067143643368.\n",
      "[I 2024-11-26 16:47:18,782] Trial 1 finished with value: 0.667749036873968 and parameters: {'n_neighbors': 12, 'weights': 'distance', 'algorithm': 'brute'}. Best is trial 1 with value: 0.667749036873968.\n",
      "[I 2024-11-26 16:47:21,871] Trial 2 finished with value: 0.6524490919097413 and parameters: {'n_neighbors': 15, 'weights': 'uniform', 'algorithm': 'kd_tree'}. Best is trial 1 with value: 0.667749036873968.\n",
      "[I 2024-11-26 16:47:22,853] Trial 3 finished with value: 0.6367088607594936 and parameters: {'n_neighbors': 8, 'weights': 'uniform', 'algorithm': 'brute'}. Best is trial 1 with value: 0.667749036873968.\n",
      "[I 2024-11-26 16:47:25,923] Trial 4 finished with value: 0.6407264722069346 and parameters: {'n_neighbors': 29, 'weights': 'uniform', 'algorithm': 'kd_tree'}. Best is trial 1 with value: 0.667749036873968.\n",
      "[I 2024-11-26 16:47:26,933] A new study created in memory with name: Modelagem\n"
     ]
    },
    {
     "name": "stdout",
     "output_type": "stream",
     "text": [
      "Otimização para o modelo: LVQ\n"
     ]
    },
    {
     "name": "stderr",
     "output_type": "stream",
     "text": [
      "[I 2024-11-26 16:47:27,560] Trial 0 finished with value: 0.7383599339570721 and parameters: {'metric': 'manhattan', 'use_shrinkage': True, 'shrink_threshold': 0.3847059030441362}. Best is trial 0 with value: 0.7383599339570721.\n",
      "[I 2024-11-26 16:47:28,274] Trial 1 finished with value: 0.7376995046780408 and parameters: {'metric': 'manhattan', 'use_shrinkage': True, 'shrink_threshold': 0.7799197053505602}. Best is trial 0 with value: 0.7383599339570721.\n",
      "[I 2024-11-26 16:47:28,946] Trial 2 finished with value: 0.5516235553109521 and parameters: {'metric': 'euclidean', 'use_shrinkage': False}. Best is trial 0 with value: 0.7383599339570721.\n",
      "[I 2024-11-26 16:47:29,601] Trial 3 finished with value: 0.5516235553109521 and parameters: {'metric': 'euclidean', 'use_shrinkage': False}. Best is trial 0 with value: 0.7383599339570721.\n",
      "[I 2024-11-26 16:47:30,301] Trial 4 finished with value: 0.7380297193175565 and parameters: {'metric': 'manhattan', 'use_shrinkage': True, 'shrink_threshold': 0.5555176753845839}. Best is trial 0 with value: 0.7383599339570721.\n",
      "[I 2024-11-26 16:47:31,296] A new study created in memory with name: Modelagem\n"
     ]
    },
    {
     "name": "stdout",
     "output_type": "stream",
     "text": [
      "Otimização para o modelo: Árvore de Decisão\n"
     ]
    },
    {
     "name": "stderr",
     "output_type": "stream",
     "text": [
      "[I 2024-11-26 16:47:31,944] Trial 0 finished with value: 0.7904788112272978 and parameters: {'max_depth': 3, 'min_samples_split': 8, 'criterion': 'gini'}. Best is trial 0 with value: 0.7904788112272978.\n",
      "[I 2024-11-26 16:47:32,693] Trial 1 finished with value: 0.8708860759493671 and parameters: {'max_depth': 8, 'min_samples_split': 4, 'criterion': 'gini'}. Best is trial 1 with value: 0.8708860759493671.\n",
      "[I 2024-11-26 16:47:33,424] Trial 2 finished with value: 0.8489268024215739 and parameters: {'max_depth': 6, 'min_samples_split': 9, 'criterion': 'gini'}. Best is trial 1 with value: 0.8708860759493671.\n",
      "[I 2024-11-26 16:47:34,209] Trial 3 finished with value: 0.8707209686296092 and parameters: {'max_depth': 8, 'min_samples_split': 10, 'criterion': 'gini'}. Best is trial 1 with value: 0.8708860759493671.\n",
      "[I 2024-11-26 16:47:34,865] Trial 4 finished with value: 0.706274078150798 and parameters: {'max_depth': 1, 'min_samples_split': 8, 'criterion': 'entropy'}. Best is trial 1 with value: 0.8708860759493671.\n",
      "[I 2024-11-26 16:47:36,411] A new study created in memory with name: Modelagem\n"
     ]
    },
    {
     "name": "stdout",
     "output_type": "stream",
     "text": [
      "Otimização para o modelo: SVM\n"
     ]
    },
    {
     "name": "stderr",
     "output_type": "stream",
     "text": [
      "[I 2024-11-26 16:47:51,824] Trial 0 finished with value: 0.9408915795266923 and parameters: {'C': 0.1629783106849361, 'kernel': 'linear', 'gamma': 'scale'}. Best is trial 0 with value: 0.9408915795266923.\n",
      "[I 2024-11-26 16:48:09,803] Trial 1 finished with value: 0.9417171161254816 and parameters: {'C': 0.3531657771747683, 'kernel': 'linear', 'gamma': 'auto'}. Best is trial 1 with value: 0.9417171161254816.\n",
      "[I 2024-11-26 16:48:50,830] Trial 2 finished with value: 0.851073197578426 and parameters: {'C': 1.5782955339861555, 'kernel': 'rbf', 'gamma': 'scale'}. Best is trial 1 with value: 0.9417171161254816.\n",
      "[I 2024-11-26 16:49:31,742] Trial 3 finished with value: 0.8821684094661529 and parameters: {'C': 0.19069654088974608, 'kernel': 'rbf', 'gamma': 'auto'}. Best is trial 1 with value: 0.9417171161254816.\n",
      "[I 2024-11-26 16:50:24,610] Trial 4 finished with value: 0.860759493670886 and parameters: {'C': 1.7590040052184819, 'kernel': 'rbf', 'gamma': 'scale'}. Best is trial 1 with value: 0.9417171161254816.\n",
      "[I 2024-11-26 16:51:27,155] A new study created in memory with name: Modelagem\n"
     ]
    },
    {
     "name": "stdout",
     "output_type": "stream",
     "text": [
      "Otimização para o modelo: Random Forest\n"
     ]
    },
    {
     "name": "stderr",
     "output_type": "stream",
     "text": [
      "[I 2024-11-26 16:51:29,284] Trial 0 finished with value: 0.9231150247660981 and parameters: {'n_estimators': 76, 'max_depth': 16, 'min_samples_split': 7}. Best is trial 0 with value: 0.9231150247660981.\n",
      "[I 2024-11-26 16:51:32,321] Trial 1 finished with value: 0.9114474408365437 and parameters: {'n_estimators': 165, 'max_depth': 9, 'min_samples_split': 4}. Best is trial 0 with value: 0.9231150247660981.\n",
      "[I 2024-11-26 16:51:36,094] Trial 2 finished with value: 0.9129334067143644 and parameters: {'n_estimators': 217, 'max_depth': 9, 'min_samples_split': 4}. Best is trial 0 with value: 0.9231150247660981.\n",
      "[I 2024-11-26 16:51:41,639] Trial 3 finished with value: 0.9210236653824986 and parameters: {'n_estimators': 245, 'max_depth': 13, 'min_samples_split': 3}. Best is trial 0 with value: 0.9231150247660981.\n",
      "[I 2024-11-26 16:51:45,804] Trial 4 finished with value: 0.9230599889928455 and parameters: {'n_estimators': 147, 'max_depth': 20, 'min_samples_split': 6}. Best is trial 0 with value: 0.9231150247660981.\n",
      "[I 2024-11-26 16:51:58,229] A new study created in memory with name: Modelagem\n"
     ]
    },
    {
     "name": "stdout",
     "output_type": "stream",
     "text": [
      "Otimização para o modelo: Rede Neural MLP\n"
     ]
    },
    {
     "name": "stderr",
     "output_type": "stream",
     "text": [
      "[I 2024-11-26 16:52:28,355] Trial 0 finished with value: 0.9357732526141993 and parameters: {'hidden_layer_sizes': (100,), 'activation': 'tanh', 'solver': 'adam', 'alpha': 0.000381856372967541}. Best is trial 0 with value: 0.9357732526141993.\n",
      "[I 2024-11-26 16:52:35,781] Trial 1 finished with value: 0.8284534947716015 and parameters: {'hidden_layer_sizes': (100,), 'activation': 'relu', 'solver': 'sgd', 'alpha': 3.636517070731461e-05}. Best is trial 0 with value: 0.9357732526141993.\n",
      "[I 2024-11-26 16:53:05,414] Trial 2 finished with value: 0.9341221794166208 and parameters: {'hidden_layer_sizes': (100,), 'activation': 'tanh', 'solver': 'adam', 'alpha': 0.00041681748648122335}. Best is trial 0 with value: 0.9357732526141993.\n",
      "[I 2024-11-26 16:53:14,038] Trial 3 finished with value: 0.8473858007705009 and parameters: {'hidden_layer_sizes': (100,), 'activation': 'relu', 'solver': 'sgd', 'alpha': 2.4452146742068298e-05}. Best is trial 0 with value: 0.9357732526141993.\n",
      "[I 2024-11-26 16:53:30,984] Trial 4 finished with value: 0.94210236653825 and parameters: {'hidden_layer_sizes': (100,), 'activation': 'tanh', 'solver': 'adam', 'alpha': 0.054262270694530775}. Best is trial 4 with value: 0.94210236653825.\n",
      "[I 2024-11-26 16:55:49,125] A new study created in memory with name: Modelagem\n"
     ]
    },
    {
     "name": "stdout",
     "output_type": "stream",
     "text": [
      "Otimização para o modelo: XGBoost\n"
     ]
    },
    {
     "name": "stderr",
     "output_type": "stream",
     "text": [
      "[I 2024-11-26 16:55:52,351] Trial 0 finished with value: 0.9390203632361034 and parameters: {'n_estimators': 76, 'max_depth': 12, 'learning_rate': 0.0700448951165749, 'subsample': 0.7291205918804406}. Best is trial 0 with value: 0.9390203632361034.\n",
      "[I 2024-11-26 16:55:54,325] Trial 1 finished with value: 0.9444689047881123 and parameters: {'n_estimators': 146, 'max_depth': 6, 'learning_rate': 0.09697537603055252, 'subsample': 0.697737505391139}. Best is trial 1 with value: 0.9444689047881123.\n",
      "[I 2024-11-26 16:55:57,819] Trial 2 finished with value: 0.9416070445789764 and parameters: {'n_estimators': 120, 'max_depth': 13, 'learning_rate': 0.07672461590086734, 'subsample': 0.5614731789636687}. Best is trial 1 with value: 0.9444689047881123.\n",
      "[I 2024-11-26 16:56:02,542] Trial 3 finished with value: 0.9417171161254814 and parameters: {'n_estimators': 147, 'max_depth': 15, 'learning_rate': 0.0490569196670074, 'subsample': 0.570085703825056}. Best is trial 1 with value: 0.9444689047881123.\n",
      "[I 2024-11-26 16:56:05,487] Trial 4 finished with value: 0.9362685745734727 and parameters: {'n_estimators': 60, 'max_depth': 12, 'learning_rate': 0.08115662578952891, 'subsample': 0.9513660481340396}. Best is trial 1 with value: 0.9444689047881123.\n",
      "[I 2024-11-26 16:56:09,904] A new study created in memory with name: Modelagem\n"
     ]
    },
    {
     "name": "stdout",
     "output_type": "stream",
     "text": [
      "Otimização para o modelo: LightGBM\n"
     ]
    },
    {
     "name": "stderr",
     "output_type": "stream",
     "text": [
      "[I 2024-11-26 16:56:12,753] Trial 0 finished with value: 0.9471656576774903 and parameters: {'n_estimators': 76, 'num_leaves': 120, 'learning_rate': 0.0700448951165749, 'subsample': 0.7291205918804406}. Best is trial 0 with value: 0.9471656576774903.\n",
      "[I 2024-11-26 16:56:15,461] Trial 1 finished with value: 0.9520088057237205 and parameters: {'n_estimators': 146, 'num_leaves': 63, 'learning_rate': 0.09697537603055252, 'subsample': 0.697737505391139}. Best is trial 1 with value: 0.9520088057237205.\n",
      "[I 2024-11-26 16:56:18,739] Trial 2 finished with value: 0.9505228398458998 and parameters: {'n_estimators': 120, 'num_leaves': 124, 'learning_rate': 0.07672461590086734, 'subsample': 0.5614731789636687}. Best is trial 1 with value: 0.9520088057237205.\n",
      "[I 2024-11-26 16:56:23,009] Trial 3 finished with value: 0.9488717666483213 and parameters: {'n_estimators': 147, 'num_leaves': 147, 'learning_rate': 0.0490569196670074, 'subsample': 0.570085703825056}. Best is trial 1 with value: 0.9520088057237205.\n",
      "[I 2024-11-26 16:56:24,851] Trial 4 finished with value: 0.9471656576774903 and parameters: {'n_estimators': 60, 'num_leaves': 118, 'learning_rate': 0.08115662578952891, 'subsample': 0.9513660481340396}. Best is trial 1 with value: 0.9520088057237205.\n"
     ]
    },
    {
     "name": "stdout",
     "output_type": "stream",
     "text": [
      "[LightGBM] [Info] Number of positive: 8177, number of negative: 8176\n",
      "[LightGBM] [Info] Auto-choosing row-wise multi-threading, the overhead of testing was 0.000710 seconds.\n",
      "You can set `force_row_wise=true` to remove the overhead.\n",
      "And if memory is not enough, you can set `force_col_wise=true`.\n",
      "[LightGBM] [Info] Total Bins 4605\n",
      "[LightGBM] [Info] Number of data points in the train set: 16353, number of used features: 92\n",
      "[LightGBM] [Info] [binary:BoostFromScore]: pavg=0.500031 -> initscore=0.000122\n",
      "[LightGBM] [Info] Start training from score 0.000122\n",
      "[LightGBM] [Info] Number of positive: 8177, number of negative: 8176\n",
      "[LightGBM] [Info] Auto-choosing row-wise multi-threading, the overhead of testing was 0.000657 seconds.\n",
      "You can set `force_row_wise=true` to remove the overhead.\n",
      "And if memory is not enough, you can set `force_col_wise=true`.\n",
      "[LightGBM] [Info] Total Bins 4617\n",
      "[LightGBM] [Info] Number of data points in the train set: 16353, number of used features: 93\n",
      "[LightGBM] [Info] [binary:BoostFromScore]: pavg=0.500031 -> initscore=0.000122\n",
      "[LightGBM] [Info] Start training from score 0.000122\n",
      "[LightGBM] [Info] Number of positive: 8177, number of negative: 8176\n",
      "[LightGBM] [Info] Auto-choosing row-wise multi-threading, the overhead of testing was 0.000636 seconds.\n",
      "You can set `force_row_wise=true` to remove the overhead.\n",
      "And if memory is not enough, you can set `force_col_wise=true`.\n",
      "[LightGBM] [Info] Total Bins 4628\n",
      "[LightGBM] [Info] Number of data points in the train set: 16353, number of used features: 93\n",
      "[LightGBM] [Info] [binary:BoostFromScore]: pavg=0.500031 -> initscore=0.000122\n",
      "[LightGBM] [Info] Start training from score 0.000122\n",
      "[LightGBM] [Info] Number of positive: 8177, number of negative: 8176\n",
      "[LightGBM] [Info] Auto-choosing row-wise multi-threading, the overhead of testing was 0.000639 seconds.\n",
      "You can set `force_row_wise=true` to remove the overhead.\n",
      "And if memory is not enough, you can set `force_col_wise=true`.\n",
      "[LightGBM] [Info] Total Bins 4628\n",
      "[LightGBM] [Info] Number of data points in the train set: 16353, number of used features: 93\n",
      "[LightGBM] [Info] [binary:BoostFromScore]: pavg=0.500031 -> initscore=0.000122\n",
      "[LightGBM] [Info] Start training from score 0.000122\n",
      "[LightGBM] [Info] Number of positive: 8177, number of negative: 8176\n",
      "[LightGBM] [Info] Auto-choosing col-wise multi-threading, the overhead of testing was 0.004230 seconds.\n",
      "You can set `force_col_wise=true` to remove the overhead.\n",
      "[LightGBM] [Info] Total Bins 4629\n",
      "[LightGBM] [Info] Number of data points in the train set: 16353, number of used features: 92\n",
      "[LightGBM] [Info] [binary:BoostFromScore]: pavg=0.500031 -> initscore=0.000122\n",
      "[LightGBM] [Info] Start training from score 0.000122\n",
      "[LightGBM] [Info] Number of positive: 8176, number of negative: 8177\n",
      "[LightGBM] [Info] Auto-choosing row-wise multi-threading, the overhead of testing was 0.000669 seconds.\n",
      "You can set `force_row_wise=true` to remove the overhead.\n",
      "And if memory is not enough, you can set `force_col_wise=true`.\n",
      "[LightGBM] [Info] Total Bins 4633\n",
      "[LightGBM] [Info] Number of data points in the train set: 16353, number of used features: 93\n",
      "[LightGBM] [Info] [binary:BoostFromScore]: pavg=0.499969 -> initscore=-0.000122\n",
      "[LightGBM] [Info] Start training from score -0.000122\n",
      "[LightGBM] [Info] Number of positive: 8176, number of negative: 8177\n",
      "[LightGBM] [Info] Auto-choosing row-wise multi-threading, the overhead of testing was 0.000664 seconds.\n",
      "You can set `force_row_wise=true` to remove the overhead.\n",
      "And if memory is not enough, you can set `force_col_wise=true`.\n",
      "[LightGBM] [Info] Total Bins 4635\n",
      "[LightGBM] [Info] Number of data points in the train set: 16353, number of used features: 93\n",
      "[LightGBM] [Info] [binary:BoostFromScore]: pavg=0.499969 -> initscore=-0.000122\n",
      "[LightGBM] [Info] Start training from score -0.000122\n",
      "[LightGBM] [Info] Number of positive: 8176, number of negative: 8177\n",
      "[LightGBM] [Info] Auto-choosing row-wise multi-threading, the overhead of testing was 0.000667 seconds.\n",
      "You can set `force_row_wise=true` to remove the overhead.\n",
      "And if memory is not enough, you can set `force_col_wise=true`.\n",
      "[LightGBM] [Info] Total Bins 4635\n",
      "[LightGBM] [Info] Number of data points in the train set: 16353, number of used features: 92\n",
      "[LightGBM] [Info] [binary:BoostFromScore]: pavg=0.499969 -> initscore=-0.000122\n",
      "[LightGBM] [Info] Start training from score -0.000122\n",
      "[LightGBM] [Info] Number of positive: 8176, number of negative: 8177\n",
      "[LightGBM] [Info] Auto-choosing row-wise multi-threading, the overhead of testing was 0.000682 seconds.\n",
      "You can set `force_row_wise=true` to remove the overhead.\n",
      "And if memory is not enough, you can set `force_col_wise=true`.\n",
      "[LightGBM] [Info] Total Bins 4629\n",
      "[LightGBM] [Info] Number of data points in the train set: 16353, number of used features: 93\n",
      "[LightGBM] [Info] [binary:BoostFromScore]: pavg=0.499969 -> initscore=-0.000122\n",
      "[LightGBM] [Info] Start training from score -0.000122\n",
      "[LightGBM] [Info] Number of positive: 8176, number of negative: 8177\n",
      "[LightGBM] [Info] Auto-choosing row-wise multi-threading, the overhead of testing was 0.000756 seconds.\n",
      "You can set `force_row_wise=true` to remove the overhead.\n",
      "And if memory is not enough, you can set `force_col_wise=true`.\n",
      "[LightGBM] [Info] Total Bins 4640\n",
      "[LightGBM] [Info] Number of data points in the train set: 16353, number of used features: 93\n",
      "[LightGBM] [Info] [binary:BoostFromScore]: pavg=0.499969 -> initscore=-0.000122\n",
      "[LightGBM] [Info] Start training from score -0.000122\n"
     ]
    },
    {
     "name": "stderr",
     "output_type": "stream",
     "text": [
      "[I 2024-11-26 16:56:29,050] A new study created in memory with name: Modelagem\n"
     ]
    },
    {
     "name": "stdout",
     "output_type": "stream",
     "text": [
      "Otimização para o modelo: Comitê de Redes Neurais Artificiais\n"
     ]
    },
    {
     "name": "stderr",
     "output_type": "stream",
     "text": [
      "[I 2024-11-26 16:57:52,411] Trial 0 finished with value: 0.941221794166208 and parameters: {'hidden_layer_sizes': (100,), 'activation': 'tanh', 'solver': 'adam'}. Best is trial 0 with value: 0.941221794166208.\n",
      "[I 2024-11-26 16:58:47,856] Trial 1 finished with value: 0.9396807925151348 and parameters: {'hidden_layer_sizes': (50, 50), 'activation': 'tanh', 'solver': 'adam'}. Best is trial 0 with value: 0.941221794166208.\n",
      "[I 2024-11-26 16:58:56,160] Trial 2 finished with value: 0.6490919097413318 and parameters: {'hidden_layer_sizes': (50,), 'activation': 'tanh', 'solver': 'sgd'}. Best is trial 0 with value: 0.941221794166208.\n",
      "[I 2024-11-26 16:59:44,624] Trial 3 finished with value: 0.9430379746835442 and parameters: {'hidden_layer_sizes': (100,), 'activation': 'relu', 'solver': 'adam'}. Best is trial 3 with value: 0.9430379746835442.\n",
      "[I 2024-11-26 17:00:05,149] Trial 4 finished with value: 0.8620253164556961 and parameters: {'hidden_layer_sizes': (100,), 'activation': 'relu', 'solver': 'sgd'}. Best is trial 3 with value: 0.9430379746835442.\n",
      "[I 2024-11-26 17:07:01,707] A new study created in memory with name: Modelagem\n"
     ]
    },
    {
     "name": "stdout",
     "output_type": "stream",
     "text": [
      "Otimização para o modelo: Comitê Heterogêneo (Stacking)\n"
     ]
    },
    {
     "name": "stderr",
     "output_type": "stream",
     "text": [
      "[I 2024-11-26 17:10:55,250] Trial 0 finished with value: 0.9285635663181069 and parameters: {'C': 0.1629783106849361, 'penalty': 'l2', 'solver': 'lbfgs'}. Best is trial 0 with value: 0.9285635663181069.\n",
      "[I 2024-11-26 17:14:42,004] Trial 1 finished with value: 0.9287286736378645 and parameters: {'C': 3.097012582252013, 'penalty': 'l2', 'solver': 'lbfgs'}. Best is trial 1 with value: 0.9287286736378645.\n",
      "[I 2024-11-26 17:18:35,148] Trial 2 finished with value: 0.92883874518437 and parameters: {'C': 1.3951698204289562, 'penalty': 'l2', 'solver': 'lbfgs'}. Best is trial 2 with value: 0.92883874518437.\n",
      "[I 2024-11-26 17:22:01,261] Trial 3 finished with value: 0.9287286736378645 and parameters: {'C': 0.8250539873746219, 'penalty': 'l2', 'solver': 'lbfgs'}. Best is trial 2 with value: 0.92883874518437.\n",
      "[I 2024-11-26 17:25:48,353] Trial 4 finished with value: 0.9286736378646119 and parameters: {'C': 0.588046685032436, 'penalty': 'l2', 'solver': 'lbfgs'}. Best is trial 2 with value: 0.92883874518437.\n"
     ]
    }
   ],
   "source": [
    "for model_name in models.keys():\n",
    "    print(f\"Otimização para o modelo: {model_name}\")\n",
    "    study = optuna.create_study(direction='maximize', study_name='Modelagem', sampler=optuna.samplers.TPESampler(seed=124))\n",
    "    study.optimize(objective_factory(model_name), n_trials=n_trials, callbacks=[mlflc])\n",
    "    \n",
    "    # Armazenando os melhores hiperparâmetros\n",
    "    best_params[model_name] = study.best_params\n",
    "    \n",
    "    # Criando o classificador com os melhores hiperparâmetros\n",
    "    classifier = build_classifier(model_name, best_params[model_name])\n",
    "    \n",
    "    # Armazenando o classificador\n",
    "    best_models[model_name] = classifier\n",
    "    \n",
    "    # Armazenando os scores dos folds\n",
    "    acc_scores = cross_val_score(classifier, X_train, y_train, cv=10, scoring='accuracy')\n",
    "    cv_results[model_name] = acc_scores\n"
   ]
  },
  {
   "cell_type": "code",
   "execution_count": 51,
   "metadata": {},
   "outputs": [
    {
     "name": "stderr",
     "output_type": "stream",
     "text": [
      "2024/11/26 17:39:17 WARNING mlflow.models.model: Model logged without a signature and input example. Please set `input_example` parameter when logging the model to auto infer the model signature.\n"
     ]
    },
    {
     "name": "stdout",
     "output_type": "stream",
     "text": [
      "K-NN com Optuna HPO - Acurácia: 0.6461916461916462, F1-Score: 0.7084033933428597, Recall: 0.6461916461916462, ROC AUC: 0.5343632210343596\n"
     ]
    },
    {
     "name": "stderr",
     "output_type": "stream",
     "text": [
      "2024/11/26 17:39:19 WARNING mlflow.models.model: Model logged without a signature and input example. Please set `input_example` parameter when logging the model to auto infer the model signature.\n"
     ]
    },
    {
     "name": "stdout",
     "output_type": "stream",
     "text": [
      "LVQ com Optuna HPO - Acurácia: 0.3943980343980344, F1-Score: 0.4779239158875521, Recall: 0.39439803439803434, ROC AUC: None\n"
     ]
    },
    {
     "name": "stderr",
     "output_type": "stream",
     "text": [
      "2024/11/26 17:39:21 WARNING mlflow.models.model: Model logged without a signature and input example. Please set `input_example` parameter when logging the model to auto infer the model signature.\n"
     ]
    },
    {
     "name": "stdout",
     "output_type": "stream",
     "text": [
      "Árvore de Decisão com Optuna HPO - Acurácia: 0.1717936117936118, F1-Score: 0.15140739828738542, Recall: 0.1717936117936118, ROC AUC: 0.4761930499915078\n"
     ]
    },
    {
     "name": "stderr",
     "output_type": "stream",
     "text": [
      "2024/11/26 17:39:32 WARNING mlflow.models.model: Model logged without a signature and input example. Please set `input_example` parameter when logging the model to auto infer the model signature.\n"
     ]
    },
    {
     "name": "stdout",
     "output_type": "stream",
     "text": [
      "SVM com Optuna HPO - Acurácia: 0.14113022113022114, F1-Score: 0.08588737050252751, Recall: 0.14113022113022114, ROC AUC: None\n"
     ]
    },
    {
     "name": "stderr",
     "output_type": "stream",
     "text": [
      "2024/11/26 17:39:36 WARNING mlflow.models.model: Model logged without a signature and input example. Please set `input_example` parameter when logging the model to auto infer the model signature.\n"
     ]
    },
    {
     "name": "stdout",
     "output_type": "stream",
     "text": [
      "Random Forest com Optuna HPO - Acurácia: 0.13572481572481573, F1-Score: 0.07651363054496516, Recall: 0.13572481572481573, ROC AUC: 0.48387055934456163\n"
     ]
    },
    {
     "name": "stderr",
     "output_type": "stream",
     "text": [
      "2024/11/26 17:39:47 WARNING mlflow.models.model: Model logged without a signature and input example. Please set `input_example` parameter when logging the model to auto infer the model signature.\n"
     ]
    },
    {
     "name": "stdout",
     "output_type": "stream",
     "text": [
      "Rede Neural MLP com Optuna HPO - Acurácia: 0.16235872235872237, F1-Score: 0.13231661728138916, Recall: 0.16235872235872237, ROC AUC: 0.48382829335789046\n"
     ]
    },
    {
     "name": "stderr",
     "output_type": "stream",
     "text": [
      "2024/11/26 17:39:50 WARNING mlflow.models.model: Model logged without a signature and input example. Please set `input_example` parameter when logging the model to auto infer the model signature.\n"
     ]
    },
    {
     "name": "stdout",
     "output_type": "stream",
     "text": [
      "XGBoost com Optuna HPO - Acurácia: 0.14073710073710075, F1-Score: 0.08642196876511445, Recall: 0.14073710073710075, ROC AUC: 0.48202020508937016\n",
      "[LightGBM] [Info] Number of positive: 9085, number of negative: 9085\n",
      "[LightGBM] [Info] Auto-choosing row-wise multi-threading, the overhead of testing was 0.000724 seconds.\n",
      "You can set `force_row_wise=true` to remove the overhead.\n",
      "And if memory is not enough, you can set `force_col_wise=true`.\n",
      "[LightGBM] [Info] Total Bins 4628\n",
      "[LightGBM] [Info] Number of data points in the train set: 18170, number of used features: 93\n",
      "[LightGBM] [Info] [binary:BoostFromScore]: pavg=0.500000 -> initscore=0.000000\n"
     ]
    },
    {
     "name": "stderr",
     "output_type": "stream",
     "text": [
      "2024/11/26 17:39:52 WARNING mlflow.models.model: Model logged without a signature and input example. Please set `input_example` parameter when logging the model to auto infer the model signature.\n"
     ]
    },
    {
     "name": "stdout",
     "output_type": "stream",
     "text": [
      "LightGBM com Optuna HPO - Acurácia: 0.14073710073710075, F1-Score: 0.08594582831603263, Recall: 0.14073710073710075, ROC AUC: 0.4885072549468734\n"
     ]
    },
    {
     "name": "stderr",
     "output_type": "stream",
     "text": [
      "2024/11/26 17:40:31 WARNING mlflow.models.model: Model logged without a signature and input example. Please set `input_example` parameter when logging the model to auto infer the model signature.\n"
     ]
    },
    {
     "name": "stdout",
     "output_type": "stream",
     "text": [
      "Comitê de Redes Neurais Artificiais com Optuna HPO - Acurácia: 0.15714987714987716, F1-Score: 0.11852393037434922, Recall: 0.15714987714987716, ROC AUC: 0.4807933228311121\n"
     ]
    },
    {
     "name": "stderr",
     "output_type": "stream",
     "text": [
      "2024/11/26 17:43:06 WARNING mlflow.models.model: Model logged without a signature and input example. Please set `input_example` parameter when logging the model to auto infer the model signature.\n"
     ]
    },
    {
     "name": "stdout",
     "output_type": "stream",
     "text": [
      "Comitê Heterogêneo (Stacking) com Optuna HPO - Acurácia: 0.15567567567567567, F1-Score: 0.11735299004936099, Recall: 0.15567567567567567, ROC AUC: 0.4829630092759233\n"
     ]
    }
   ],
   "source": [
    "# Avaliação dos Melhores Modelos e Registro no MLflow\n",
    "results = []\n",
    "\n",
    "for model_name, model in best_models.items():\n",
    "    with mlflow.start_run(run_name=f\"{model_name} - Optuna HPO\"):\n",
    "        acc, f1, recall, roc_auc = evaluate_model(model, X_train, y_train, X_val, y_val, model_name)\n",
    "        mlflow.log_params(best_params[model_name])\n",
    "        mlflow.log_metric(\"accuracy\", acc)\n",
    "        mlflow.log_metric(\"f1_score\", f1)\n",
    "        mlflow.log_metric(\"recall\", recall)\n",
    "        if roc_auc is not None:\n",
    "            mlflow.log_metric(\"roc_auc\", roc_auc)\n",
    "        # Salvar o modelo\n",
    "        mlflow.sklearn.log_model(model, model_name)\n",
    "        print(f\"{model_name} com Optuna HPO - Acurácia: {acc}, F1-Score: {f1}, Recall: {recall}, ROC AUC: {roc_auc}\")\n",
    "        results.append({\n",
    "            'Modelo': model_name,\n",
    "            'Acurácia': acc,\n",
    "            'F1-Score': f1,\n",
    "            'Recall': recall,\n",
    "            'ROC AUC': roc_auc\n",
    "        })\n",
    "\n",
    "# Converte os resultados em DataFrame\n",
    "results_df = pd.DataFrame(results)"
   ]
  },
  {
   "cell_type": "code",
   "execution_count": 52,
   "metadata": {},
   "outputs": [
    {
     "name": "stdout",
     "output_type": "stream",
     "text": [
      "O melhor modelo é: K-NN\n"
     ]
    }
   ],
   "source": [
    "# Selecionando o Melhor Modelo automaticamente com base na Acurácia\n",
    "best_model_name = results_df.loc[results_df['Acurácia'].idxmax(), 'Modelo']\n",
    "best_model = best_models[best_model_name]\n",
    "print(f\"O melhor modelo é: {best_model_name}\")"
   ]
  },
  {
   "cell_type": "code",
   "execution_count": 53,
   "metadata": {},
   "outputs": [
    {
     "data": {
      "text/html": [
       "<style>#sk-container-id-2 {\n",
       "  /* Definition of color scheme common for light and dark mode */\n",
       "  --sklearn-color-text: black;\n",
       "  --sklearn-color-line: gray;\n",
       "  /* Definition of color scheme for unfitted estimators */\n",
       "  --sklearn-color-unfitted-level-0: #fff5e6;\n",
       "  --sklearn-color-unfitted-level-1: #f6e4d2;\n",
       "  --sklearn-color-unfitted-level-2: #ffe0b3;\n",
       "  --sklearn-color-unfitted-level-3: chocolate;\n",
       "  /* Definition of color scheme for fitted estimators */\n",
       "  --sklearn-color-fitted-level-0: #f0f8ff;\n",
       "  --sklearn-color-fitted-level-1: #d4ebff;\n",
       "  --sklearn-color-fitted-level-2: #b3dbfd;\n",
       "  --sklearn-color-fitted-level-3: cornflowerblue;\n",
       "\n",
       "  /* Specific color for light theme */\n",
       "  --sklearn-color-text-on-default-background: var(--sg-text-color, var(--theme-code-foreground, var(--jp-content-font-color1, black)));\n",
       "  --sklearn-color-background: var(--sg-background-color, var(--theme-background, var(--jp-layout-color0, white)));\n",
       "  --sklearn-color-border-box: var(--sg-text-color, var(--theme-code-foreground, var(--jp-content-font-color1, black)));\n",
       "  --sklearn-color-icon: #696969;\n",
       "\n",
       "  @media (prefers-color-scheme: dark) {\n",
       "    /* Redefinition of color scheme for dark theme */\n",
       "    --sklearn-color-text-on-default-background: var(--sg-text-color, var(--theme-code-foreground, var(--jp-content-font-color1, white)));\n",
       "    --sklearn-color-background: var(--sg-background-color, var(--theme-background, var(--jp-layout-color0, #111)));\n",
       "    --sklearn-color-border-box: var(--sg-text-color, var(--theme-code-foreground, var(--jp-content-font-color1, white)));\n",
       "    --sklearn-color-icon: #878787;\n",
       "  }\n",
       "}\n",
       "\n",
       "#sk-container-id-2 {\n",
       "  color: var(--sklearn-color-text);\n",
       "}\n",
       "\n",
       "#sk-container-id-2 pre {\n",
       "  padding: 0;\n",
       "}\n",
       "\n",
       "#sk-container-id-2 input.sk-hidden--visually {\n",
       "  border: 0;\n",
       "  clip: rect(1px 1px 1px 1px);\n",
       "  clip: rect(1px, 1px, 1px, 1px);\n",
       "  height: 1px;\n",
       "  margin: -1px;\n",
       "  overflow: hidden;\n",
       "  padding: 0;\n",
       "  position: absolute;\n",
       "  width: 1px;\n",
       "}\n",
       "\n",
       "#sk-container-id-2 div.sk-dashed-wrapped {\n",
       "  border: 1px dashed var(--sklearn-color-line);\n",
       "  margin: 0 0.4em 0.5em 0.4em;\n",
       "  box-sizing: border-box;\n",
       "  padding-bottom: 0.4em;\n",
       "  background-color: var(--sklearn-color-background);\n",
       "}\n",
       "\n",
       "#sk-container-id-2 div.sk-container {\n",
       "  /* jupyter's `normalize.less` sets `[hidden] { display: none; }`\n",
       "     but bootstrap.min.css set `[hidden] { display: none !important; }`\n",
       "     so we also need the `!important` here to be able to override the\n",
       "     default hidden behavior on the sphinx rendered scikit-learn.org.\n",
       "     See: https://github.com/scikit-learn/scikit-learn/issues/21755 */\n",
       "  display: inline-block !important;\n",
       "  position: relative;\n",
       "}\n",
       "\n",
       "#sk-container-id-2 div.sk-text-repr-fallback {\n",
       "  display: none;\n",
       "}\n",
       "\n",
       "div.sk-parallel-item,\n",
       "div.sk-serial,\n",
       "div.sk-item {\n",
       "  /* draw centered vertical line to link estimators */\n",
       "  background-image: linear-gradient(var(--sklearn-color-text-on-default-background), var(--sklearn-color-text-on-default-background));\n",
       "  background-size: 2px 100%;\n",
       "  background-repeat: no-repeat;\n",
       "  background-position: center center;\n",
       "}\n",
       "\n",
       "/* Parallel-specific style estimator block */\n",
       "\n",
       "#sk-container-id-2 div.sk-parallel-item::after {\n",
       "  content: \"\";\n",
       "  width: 100%;\n",
       "  border-bottom: 2px solid var(--sklearn-color-text-on-default-background);\n",
       "  flex-grow: 1;\n",
       "}\n",
       "\n",
       "#sk-container-id-2 div.sk-parallel {\n",
       "  display: flex;\n",
       "  align-items: stretch;\n",
       "  justify-content: center;\n",
       "  background-color: var(--sklearn-color-background);\n",
       "  position: relative;\n",
       "}\n",
       "\n",
       "#sk-container-id-2 div.sk-parallel-item {\n",
       "  display: flex;\n",
       "  flex-direction: column;\n",
       "}\n",
       "\n",
       "#sk-container-id-2 div.sk-parallel-item:first-child::after {\n",
       "  align-self: flex-end;\n",
       "  width: 50%;\n",
       "}\n",
       "\n",
       "#sk-container-id-2 div.sk-parallel-item:last-child::after {\n",
       "  align-self: flex-start;\n",
       "  width: 50%;\n",
       "}\n",
       "\n",
       "#sk-container-id-2 div.sk-parallel-item:only-child::after {\n",
       "  width: 0;\n",
       "}\n",
       "\n",
       "/* Serial-specific style estimator block */\n",
       "\n",
       "#sk-container-id-2 div.sk-serial {\n",
       "  display: flex;\n",
       "  flex-direction: column;\n",
       "  align-items: center;\n",
       "  background-color: var(--sklearn-color-background);\n",
       "  padding-right: 1em;\n",
       "  padding-left: 1em;\n",
       "}\n",
       "\n",
       "\n",
       "/* Toggleable style: style used for estimator/Pipeline/ColumnTransformer box that is\n",
       "clickable and can be expanded/collapsed.\n",
       "- Pipeline and ColumnTransformer use this feature and define the default style\n",
       "- Estimators will overwrite some part of the style using the `sk-estimator` class\n",
       "*/\n",
       "\n",
       "/* Pipeline and ColumnTransformer style (default) */\n",
       "\n",
       "#sk-container-id-2 div.sk-toggleable {\n",
       "  /* Default theme specific background. It is overwritten whether we have a\n",
       "  specific estimator or a Pipeline/ColumnTransformer */\n",
       "  background-color: var(--sklearn-color-background);\n",
       "}\n",
       "\n",
       "/* Toggleable label */\n",
       "#sk-container-id-2 label.sk-toggleable__label {\n",
       "  cursor: pointer;\n",
       "  display: block;\n",
       "  width: 100%;\n",
       "  margin-bottom: 0;\n",
       "  padding: 0.5em;\n",
       "  box-sizing: border-box;\n",
       "  text-align: center;\n",
       "}\n",
       "\n",
       "#sk-container-id-2 label.sk-toggleable__label-arrow:before {\n",
       "  /* Arrow on the left of the label */\n",
       "  content: \"▸\";\n",
       "  float: left;\n",
       "  margin-right: 0.25em;\n",
       "  color: var(--sklearn-color-icon);\n",
       "}\n",
       "\n",
       "#sk-container-id-2 label.sk-toggleable__label-arrow:hover:before {\n",
       "  color: var(--sklearn-color-text);\n",
       "}\n",
       "\n",
       "/* Toggleable content - dropdown */\n",
       "\n",
       "#sk-container-id-2 div.sk-toggleable__content {\n",
       "  max-height: 0;\n",
       "  max-width: 0;\n",
       "  overflow: hidden;\n",
       "  text-align: left;\n",
       "  /* unfitted */\n",
       "  background-color: var(--sklearn-color-unfitted-level-0);\n",
       "}\n",
       "\n",
       "#sk-container-id-2 div.sk-toggleable__content.fitted {\n",
       "  /* fitted */\n",
       "  background-color: var(--sklearn-color-fitted-level-0);\n",
       "}\n",
       "\n",
       "#sk-container-id-2 div.sk-toggleable__content pre {\n",
       "  margin: 0.2em;\n",
       "  border-radius: 0.25em;\n",
       "  color: var(--sklearn-color-text);\n",
       "  /* unfitted */\n",
       "  background-color: var(--sklearn-color-unfitted-level-0);\n",
       "}\n",
       "\n",
       "#sk-container-id-2 div.sk-toggleable__content.fitted pre {\n",
       "  /* unfitted */\n",
       "  background-color: var(--sklearn-color-fitted-level-0);\n",
       "}\n",
       "\n",
       "#sk-container-id-2 input.sk-toggleable__control:checked~div.sk-toggleable__content {\n",
       "  /* Expand drop-down */\n",
       "  max-height: 200px;\n",
       "  max-width: 100%;\n",
       "  overflow: auto;\n",
       "}\n",
       "\n",
       "#sk-container-id-2 input.sk-toggleable__control:checked~label.sk-toggleable__label-arrow:before {\n",
       "  content: \"▾\";\n",
       "}\n",
       "\n",
       "/* Pipeline/ColumnTransformer-specific style */\n",
       "\n",
       "#sk-container-id-2 div.sk-label input.sk-toggleable__control:checked~label.sk-toggleable__label {\n",
       "  color: var(--sklearn-color-text);\n",
       "  background-color: var(--sklearn-color-unfitted-level-2);\n",
       "}\n",
       "\n",
       "#sk-container-id-2 div.sk-label.fitted input.sk-toggleable__control:checked~label.sk-toggleable__label {\n",
       "  background-color: var(--sklearn-color-fitted-level-2);\n",
       "}\n",
       "\n",
       "/* Estimator-specific style */\n",
       "\n",
       "/* Colorize estimator box */\n",
       "#sk-container-id-2 div.sk-estimator input.sk-toggleable__control:checked~label.sk-toggleable__label {\n",
       "  /* unfitted */\n",
       "  background-color: var(--sklearn-color-unfitted-level-2);\n",
       "}\n",
       "\n",
       "#sk-container-id-2 div.sk-estimator.fitted input.sk-toggleable__control:checked~label.sk-toggleable__label {\n",
       "  /* fitted */\n",
       "  background-color: var(--sklearn-color-fitted-level-2);\n",
       "}\n",
       "\n",
       "#sk-container-id-2 div.sk-label label.sk-toggleable__label,\n",
       "#sk-container-id-2 div.sk-label label {\n",
       "  /* The background is the default theme color */\n",
       "  color: var(--sklearn-color-text-on-default-background);\n",
       "}\n",
       "\n",
       "/* On hover, darken the color of the background */\n",
       "#sk-container-id-2 div.sk-label:hover label.sk-toggleable__label {\n",
       "  color: var(--sklearn-color-text);\n",
       "  background-color: var(--sklearn-color-unfitted-level-2);\n",
       "}\n",
       "\n",
       "/* Label box, darken color on hover, fitted */\n",
       "#sk-container-id-2 div.sk-label.fitted:hover label.sk-toggleable__label.fitted {\n",
       "  color: var(--sklearn-color-text);\n",
       "  background-color: var(--sklearn-color-fitted-level-2);\n",
       "}\n",
       "\n",
       "/* Estimator label */\n",
       "\n",
       "#sk-container-id-2 div.sk-label label {\n",
       "  font-family: monospace;\n",
       "  font-weight: bold;\n",
       "  display: inline-block;\n",
       "  line-height: 1.2em;\n",
       "}\n",
       "\n",
       "#sk-container-id-2 div.sk-label-container {\n",
       "  text-align: center;\n",
       "}\n",
       "\n",
       "/* Estimator-specific */\n",
       "#sk-container-id-2 div.sk-estimator {\n",
       "  font-family: monospace;\n",
       "  border: 1px dotted var(--sklearn-color-border-box);\n",
       "  border-radius: 0.25em;\n",
       "  box-sizing: border-box;\n",
       "  margin-bottom: 0.5em;\n",
       "  /* unfitted */\n",
       "  background-color: var(--sklearn-color-unfitted-level-0);\n",
       "}\n",
       "\n",
       "#sk-container-id-2 div.sk-estimator.fitted {\n",
       "  /* fitted */\n",
       "  background-color: var(--sklearn-color-fitted-level-0);\n",
       "}\n",
       "\n",
       "/* on hover */\n",
       "#sk-container-id-2 div.sk-estimator:hover {\n",
       "  /* unfitted */\n",
       "  background-color: var(--sklearn-color-unfitted-level-2);\n",
       "}\n",
       "\n",
       "#sk-container-id-2 div.sk-estimator.fitted:hover {\n",
       "  /* fitted */\n",
       "  background-color: var(--sklearn-color-fitted-level-2);\n",
       "}\n",
       "\n",
       "/* Specification for estimator info (e.g. \"i\" and \"?\") */\n",
       "\n",
       "/* Common style for \"i\" and \"?\" */\n",
       "\n",
       ".sk-estimator-doc-link,\n",
       "a:link.sk-estimator-doc-link,\n",
       "a:visited.sk-estimator-doc-link {\n",
       "  float: right;\n",
       "  font-size: smaller;\n",
       "  line-height: 1em;\n",
       "  font-family: monospace;\n",
       "  background-color: var(--sklearn-color-background);\n",
       "  border-radius: 1em;\n",
       "  height: 1em;\n",
       "  width: 1em;\n",
       "  text-decoration: none !important;\n",
       "  margin-left: 1ex;\n",
       "  /* unfitted */\n",
       "  border: var(--sklearn-color-unfitted-level-1) 1pt solid;\n",
       "  color: var(--sklearn-color-unfitted-level-1);\n",
       "}\n",
       "\n",
       ".sk-estimator-doc-link.fitted,\n",
       "a:link.sk-estimator-doc-link.fitted,\n",
       "a:visited.sk-estimator-doc-link.fitted {\n",
       "  /* fitted */\n",
       "  border: var(--sklearn-color-fitted-level-1) 1pt solid;\n",
       "  color: var(--sklearn-color-fitted-level-1);\n",
       "}\n",
       "\n",
       "/* On hover */\n",
       "div.sk-estimator:hover .sk-estimator-doc-link:hover,\n",
       ".sk-estimator-doc-link:hover,\n",
       "div.sk-label-container:hover .sk-estimator-doc-link:hover,\n",
       ".sk-estimator-doc-link:hover {\n",
       "  /* unfitted */\n",
       "  background-color: var(--sklearn-color-unfitted-level-3);\n",
       "  color: var(--sklearn-color-background);\n",
       "  text-decoration: none;\n",
       "}\n",
       "\n",
       "div.sk-estimator.fitted:hover .sk-estimator-doc-link.fitted:hover,\n",
       ".sk-estimator-doc-link.fitted:hover,\n",
       "div.sk-label-container:hover .sk-estimator-doc-link.fitted:hover,\n",
       ".sk-estimator-doc-link.fitted:hover {\n",
       "  /* fitted */\n",
       "  background-color: var(--sklearn-color-fitted-level-3);\n",
       "  color: var(--sklearn-color-background);\n",
       "  text-decoration: none;\n",
       "}\n",
       "\n",
       "/* Span, style for the box shown on hovering the info icon */\n",
       ".sk-estimator-doc-link span {\n",
       "  display: none;\n",
       "  z-index: 9999;\n",
       "  position: relative;\n",
       "  font-weight: normal;\n",
       "  right: .2ex;\n",
       "  padding: .5ex;\n",
       "  margin: .5ex;\n",
       "  width: min-content;\n",
       "  min-width: 20ex;\n",
       "  max-width: 50ex;\n",
       "  color: var(--sklearn-color-text);\n",
       "  box-shadow: 2pt 2pt 4pt #999;\n",
       "  /* unfitted */\n",
       "  background: var(--sklearn-color-unfitted-level-0);\n",
       "  border: .5pt solid var(--sklearn-color-unfitted-level-3);\n",
       "}\n",
       "\n",
       ".sk-estimator-doc-link.fitted span {\n",
       "  /* fitted */\n",
       "  background: var(--sklearn-color-fitted-level-0);\n",
       "  border: var(--sklearn-color-fitted-level-3);\n",
       "}\n",
       "\n",
       ".sk-estimator-doc-link:hover span {\n",
       "  display: block;\n",
       "}\n",
       "\n",
       "/* \"?\"-specific style due to the `<a>` HTML tag */\n",
       "\n",
       "#sk-container-id-2 a.estimator_doc_link {\n",
       "  float: right;\n",
       "  font-size: 1rem;\n",
       "  line-height: 1em;\n",
       "  font-family: monospace;\n",
       "  background-color: var(--sklearn-color-background);\n",
       "  border-radius: 1rem;\n",
       "  height: 1rem;\n",
       "  width: 1rem;\n",
       "  text-decoration: none;\n",
       "  /* unfitted */\n",
       "  color: var(--sklearn-color-unfitted-level-1);\n",
       "  border: var(--sklearn-color-unfitted-level-1) 1pt solid;\n",
       "}\n",
       "\n",
       "#sk-container-id-2 a.estimator_doc_link.fitted {\n",
       "  /* fitted */\n",
       "  border: var(--sklearn-color-fitted-level-1) 1pt solid;\n",
       "  color: var(--sklearn-color-fitted-level-1);\n",
       "}\n",
       "\n",
       "/* On hover */\n",
       "#sk-container-id-2 a.estimator_doc_link:hover {\n",
       "  /* unfitted */\n",
       "  background-color: var(--sklearn-color-unfitted-level-3);\n",
       "  color: var(--sklearn-color-background);\n",
       "  text-decoration: none;\n",
       "}\n",
       "\n",
       "#sk-container-id-2 a.estimator_doc_link.fitted:hover {\n",
       "  /* fitted */\n",
       "  background-color: var(--sklearn-color-fitted-level-3);\n",
       "}\n",
       "</style><div id=\"sk-container-id-2\" class=\"sk-top-container\"><div class=\"sk-text-repr-fallback\"><pre>KNeighborsClassifier(algorithm=&#x27;brute&#x27;, n_neighbors=12, weights=&#x27;distance&#x27;)</pre><b>In a Jupyter environment, please rerun this cell to show the HTML representation or trust the notebook. <br />On GitHub, the HTML representation is unable to render, please try loading this page with nbviewer.org.</b></div><div class=\"sk-container\" hidden><div class=\"sk-item\"><div class=\"sk-estimator fitted sk-toggleable\"><input class=\"sk-toggleable__control sk-hidden--visually\" id=\"sk-estimator-id-2\" type=\"checkbox\" checked><label for=\"sk-estimator-id-2\" class=\"sk-toggleable__label fitted sk-toggleable__label-arrow fitted\">&nbsp;&nbsp;KNeighborsClassifier<a class=\"sk-estimator-doc-link fitted\" rel=\"noreferrer\" target=\"_blank\" href=\"https://scikit-learn.org/1.5/modules/generated/sklearn.neighbors.KNeighborsClassifier.html\">?<span>Documentation for KNeighborsClassifier</span></a><span class=\"sk-estimator-doc-link fitted\">i<span>Fitted</span></span></label><div class=\"sk-toggleable__content fitted\"><pre>KNeighborsClassifier(algorithm=&#x27;brute&#x27;, n_neighbors=12, weights=&#x27;distance&#x27;)</pre></div> </div></div></div></div>"
      ],
      "text/plain": [
       "KNeighborsClassifier(algorithm='brute', n_neighbors=12, weights='distance')"
      ]
     },
     "execution_count": 53,
     "metadata": {},
     "output_type": "execute_result"
    }
   ],
   "source": [
    "best_model"
   ]
  },
  {
   "cell_type": "code",
   "execution_count": 56,
   "metadata": {},
   "outputs": [],
   "source": [
    "# X_test, y_test = pipeline_test_set(test_data)\n",
    "feature_set = [col for col in test_data.columns if col != 'class']\n",
    "X_test = test_data[feature_set]\n",
    "y_test = test_data['class']"
   ]
  },
  {
   "cell_type": "code",
   "execution_count": 58,
   "metadata": {},
   "outputs": [
    {
     "name": "stdout",
     "output_type": "stream",
     "text": [
      "Desempenho no conjunto de teste - Acurácia: 0.7993317610062893, F1-Score: 0.8053641658932262, Recall: 0.7993317610062893, ROC AUC: 0.5511067789480244\n"
     ]
    }
   ],
   "source": [
    "# Treinando o Melhor Modelo no Conjunto Combinado e Avaliando no Conjunto de Teste\n",
    "# Combinando os conjuntos de treinamento e validação\n",
    "X_combined = pd.concat([X_train, X_val])\n",
    "y_combined = np.concatenate([y_train, y_val])\n",
    "\n",
    "# Treinando o melhor modelo\n",
    "best_model.fit(X_combined, y_combined)\n",
    "\n",
    "# Avaliando no conjunto de teste sem modificar os dados originais\n",
    "y_pred_test = best_model.predict(X_test)\n",
    "acc_test = accuracy_score(y_test, y_pred_test)\n",
    "f1_test = f1_score(y_test, y_pred_test, average='weighted')\n",
    "recall_test = recall_score(y_test, y_pred_test, average='weighted')\n",
    "if hasattr(best_model, \"predict_proba\"):\n",
    "    y_prob_test = best_model.predict_proba(X_test)\n",
    "    if y_prob_test.ndim == 1 or y_prob_test.shape[1] == 2:\n",
    "        y_prob_test = y_prob_test[:, -1]  # Para classes binárias\n",
    "        roc_auc_test = roc_auc_score(y_test, y_prob_test)\n",
    "    else:\n",
    "        roc_auc_test = roc_auc_score(y_test, y_prob_test, multi_class='ovo', average='weighted')\n",
    "else:\n",
    "    roc_auc_test = None\n",
    "\n",
    "print(f\"Desempenho no conjunto de teste - Acurácia: {acc_test}, F1-Score: {f1_test}, Recall: {recall_test}, ROC AUC: {roc_auc_test}\")\n"
   ]
  },
  {
   "cell_type": "code",
   "execution_count": 59,
   "metadata": {},
   "outputs": [
    {
     "name": "stderr",
     "output_type": "stream",
     "text": [
      "2024/11/26 17:43:09 WARNING mlflow.models.model: Model logged without a signature and input example. Please set `input_example` parameter when logging the model to auto infer the model signature.\n"
     ]
    }
   ],
   "source": [
    "# Registrando no MLflow\n",
    "with mlflow.start_run(run_name=\"Melhor Modelo - Teste\"):\n",
    "    mlflow.log_param(\"model_type\", best_model_name)\n",
    "    mlflow.log_metric(\"accuracy_test\", acc_test)\n",
    "    mlflow.log_metric(\"f1_score_test\", f1_test)\n",
    "    mlflow.log_metric(\"recall_test\", recall_test)\n",
    "    if roc_auc_test is not None:\n",
    "        mlflow.log_metric(\"roc_auc_test\", roc_auc_test)\n",
    "    mlflow.sklearn.log_model(best_model, \"Melhor_Modelo\")\n"
   ]
  },
  {
   "cell_type": "code",
   "execution_count": 60,
   "metadata": {},
   "outputs": [
    {
     "data": {
      "image/png": "[encoded data removed]",
      "text/plain": [
       "<Figure size 800x600 with 2 Axes>"
      ]
     },
     "metadata": {},
     "output_type": "display_data"
    }
   ],
   "source": [
    "# Visualizações Adicionais\n",
    "from sklearn.metrics import confusion_matrix\n",
    "import seaborn as sns\n",
    "\n",
    "# Matriz de Confusão\n",
    "conf_matrix = confusion_matrix(y_test, y_pred_test)\n",
    "plt.figure(figsize=(8,6))\n",
    "plt.title(\"Matriz de Confusão - Conjunto de Teste\")\n",
    "sns.heatmap(conf_matrix, annot=True, fmt='d', cmap='Blues')\n",
    "plt.xlabel('Predito')\n",
    "plt.ylabel('Real')\n",
    "plt.show()"
   ]
  },
  {
   "cell_type": "code",
   "execution_count": 61,
   "metadata": {},
   "outputs": [
    {
     "data": {
      "image/png": "[encoded data removed]",
      "text/plain": [
       "<Figure size 800x600 with 1 Axes>"
      ]
     },
     "metadata": {},
     "output_type": "display_data"
    }
   ],
   "source": [
    "# Curva ROC\n",
    "if roc_auc_test is not None and len(np.unique(y_test)) == 2:\n",
    "    fpr, tpr, thresholds = roc_curve(y_test, y_prob_test)\n",
    "    plt.figure(figsize=(8,6))\n",
    "    plt.plot(fpr, tpr, label=f'ROC curve (area = {roc_auc_test:.2f})')\n",
    "    plt.plot([0, 1], [0, 1], 'k--')  # Linha diagonal\n",
    "    plt.xlabel('False Positive Rate')\n",
    "    plt.ylabel('True Positive Rate')\n",
    "    plt.title('Curva ROC - Conjunto de Teste')\n",
    "    plt.legend(loc='lower right')\n",
    "    plt.show()\n",
    "elif roc_auc_test is not None:\n",
    "    print(\"Curva ROC para problemas multiclasse não está implementada neste código.\")\n"
   ]
  },
  {
   "cell_type": "code",
   "execution_count": 62,
   "metadata": {},
   "outputs": [
    {
     "name": "stdout",
     "output_type": "stream",
     "text": [
      "                                Modelo  Acurácia  F1-Score    Recall   ROC AUC\n",
      "0                                 K-NN  0.646192  0.708403  0.646192  0.534363\n",
      "1                                  LVQ  0.394398  0.477924  0.394398       NaN\n",
      "2                    Árvore de Decisão  0.171794  0.151407  0.171794  0.476193\n",
      "3                                  SVM  0.141130  0.085887  0.141130       NaN\n",
      "4                        Random Forest  0.135725  0.076514  0.135725  0.483871\n",
      "5                      Rede Neural MLP  0.162359  0.132317  0.162359  0.483828\n",
      "6                              XGBoost  0.140737  0.086422  0.140737  0.482020\n",
      "7                             LightGBM  0.140737  0.085946  0.140737  0.488507\n",
      "8  Comitê de Redes Neurais Artificiais  0.157150  0.118524  0.157150  0.480793\n",
      "9        Comitê Heterogêneo (Stacking)  0.155676  0.117353  0.155676  0.482963\n"
     ]
    }
   ],
   "source": [
    "# Comparação dos Modelos\n",
    "# Já temos o DataFrame results_df com as métricas dos modelos\n",
    "print(results_df)"
   ]
  },
  {
   "cell_type": "code",
   "execution_count": 63,
   "metadata": {},
   "outputs": [
    {
     "data": {
      "image/png": "[encoded data removed]",
      "text/plain": [
       "<Figure size 1200x800 with 1 Axes>"
      ]
     },
     "metadata": {},
     "output_type": "display_data"
    }
   ],
   "source": [
    "# Plotando as métricas\n",
    "results_df_melted = results_df.melt(id_vars='Modelo', value_vars=['Acurácia', 'F1-Score', 'Recall', 'ROC AUC'], var_name='Métrica', value_name='Valor')\n",
    "\n",
    "plt.figure(figsize=(12,8))\n",
    "sns.barplot(x='Modelo', y='Valor', hue='Métrica', data=results_df_melted)\n",
    "plt.xticks(rotation=45)\n",
    "plt.title('Comparação das Métricas dos Modelos')\n",
    "plt.legend(loc='lower right')\n",
    "plt.show()"
   ]
  },
  {
   "cell_type": "code",
   "execution_count": 64,
   "metadata": {},
   "outputs": [
    {
     "name": "stdout",
     "output_type": "stream",
     "text": [
      "Estatística: 81.51334951456313, p-valor: 8.083737359187218e-14\n",
      "Diferença significativa entre os modelos. Realizando teste de Nemenyi.\n",
      "                                             K-NN           LVQ  \\\n",
      "K-NN                                 1.000000e+00  9.992608e-01   \n",
      "LVQ                                  9.992608e-01  1.000000e+00   \n",
      "Árvore de Decisão                    9.014659e-01  9.992608e-01   \n",
      "SVM                                  2.838903e-04  6.394110e-03   \n",
      "Random Forest                        1.468623e-01  5.768656e-01   \n",
      "Rede Neural MLP                      1.455492e-03  2.382537e-02   \n",
      "XGBoost                              3.817934e-06  1.688971e-04   \n",
      "LightGBM                             2.215821e-09  2.416780e-07   \n",
      "Comitê de Redes Neurais Artificiais  5.749325e-05  1.699687e-03   \n",
      "Comitê Heterogêneo (Stacking)        1.221074e-01  5.239372e-01   \n",
      "\n",
      "                                     Árvore de Decisão       SVM  \\\n",
      "K-NN                                          0.901466  0.000284   \n",
      "LVQ                                           0.999261  0.006394   \n",
      "Árvore de Decisão                             1.000000  0.074298   \n",
      "SVM                                           0.074298  1.000000   \n",
      "Random Forest                                 0.955606  0.775185   \n",
      "Rede Neural MLP                               0.190715  0.999998   \n",
      "XGBoost                                       0.004171  0.997766   \n",
      "LightGBM                                      0.000015  0.550392   \n",
      "Comitê de Redes Neurais Artificiais           0.026917  0.999999   \n",
      "Comitê Heterogêneo (Stacking)                 0.937435  0.817035   \n",
      "\n",
      "                                     Random Forest  Rede Neural MLP   XGBoost  \\\n",
      "K-NN                                      0.146862         0.001455  0.000004   \n",
      "LVQ                                       0.576866         0.023825  0.000169   \n",
      "Árvore de Decisão                         0.955606         0.190715  0.004171   \n",
      "SVM                                       0.775185         0.999998  0.997766   \n",
      "Random Forest                             1.000000         0.937435  0.224606   \n",
      "Rede Neural MLP                           0.937435         1.000000  0.969619   \n",
      "XGBoost                                   0.224606         0.969619  1.000000   \n",
      "LightGBM                                  0.005554         0.303497  0.969619   \n",
      "Comitê de Redes Neurais Artificiais       0.550392         0.999512  0.999962   \n",
      "Comitê Heterogêneo (Stacking)             1.000000         0.955606  0.262239   \n",
      "\n",
      "                                         LightGBM  \\\n",
      "K-NN                                 2.215821e-09   \n",
      "LVQ                                  2.416780e-07   \n",
      "Árvore de Decisão                    1.533054e-05   \n",
      "SVM                                  5.503924e-01   \n",
      "Random Forest                        5.554408e-03   \n",
      "Rede Neural MLP                      3.034966e-01   \n",
      "XGBoost                              9.696192e-01   \n",
      "LightGBM                             1.000000e+00   \n",
      "Comitê de Redes Neurais Artificiais  7.751850e-01   \n",
      "Comitê Heterogêneo (Stacking)        7.348664e-03   \n",
      "\n",
      "                                     Comitê de Redes Neurais Artificiais  \\\n",
      "K-NN                                                            0.000057   \n",
      "LVQ                                                             0.001700   \n",
      "Árvore de Decisão                                               0.026917   \n",
      "SVM                                                             0.999999   \n",
      "Random Forest                                                   0.550392   \n",
      "Rede Neural MLP                                                 0.999512   \n",
      "XGBoost                                                         0.999962   \n",
      "LightGBM                                                        0.775185   \n",
      "Comitê de Redes Neurais Artificiais                             1.000000   \n",
      "Comitê Heterogêneo (Stacking)                                   0.603239   \n",
      "\n",
      "                                     Comitê Heterogêneo (Stacking)  \n",
      "K-NN                                                      0.122107  \n",
      "LVQ                                                       0.523937  \n",
      "Árvore de Decisão                                         0.937435  \n",
      "SVM                                                       0.817035  \n",
      "Random Forest                                             1.000000  \n",
      "Rede Neural MLP                                           0.955606  \n",
      "XGBoost                                                   0.262239  \n",
      "LightGBM                                                  0.007349  \n",
      "Comitê de Redes Neurais Artificiais                       0.603239  \n",
      "Comitê Heterogêneo (Stacking)                             1.000000  \n"
     ]
    }
   ],
   "source": [
    "# Implementação da Metodologia de Janez Demsar\n",
    "from scipy.stats import friedmanchisquare\n",
    "import scikit_posthocs as sp\n",
    "\n",
    "# Usando os scores de cross-validation armazenados em cv_results\n",
    "scores_df = pd.DataFrame(cv_results)\n",
    "\n",
    "# Teste de Friedman\n",
    "stat, p = friedmanchisquare(*[scores_df[model] for model in scores_df.columns])\n",
    "print(f'Estatística: {stat}, p-valor: {p}')\n",
    "\n",
    "# Se p-valor < 0.05, há diferença significativa\n",
    "if p < 0.05:\n",
    "    print('Diferença significativa entre os modelos. Realizando teste de Nemenyi.')\n",
    "    nemenyi = sp.posthoc_nemenyi_friedman(scores_df)\n",
    "    print(nemenyi)\n",
    "else:\n",
    "    print('Não há diferença significativa entre os modelos.')"
   ]
  },
  {
   "cell_type": "code",
   "execution_count": null,
   "metadata": {},
   "outputs": [],
   "source": []
  },
  {
   "cell_type": "code",
   "execution_count": null,
   "metadata": {},
   "outputs": [],
   "source": []
  },
  {
   "cell_type": "code",
   "execution_count": null,
   "metadata": {},
   "outputs": [],
   "source": []
  },
  {
   "cell_type": "code",
   "execution_count": null,
   "metadata": {},
   "outputs": [],
   "source": []
  },
  {
   "cell_type": "code",
   "execution_count": null,
   "metadata": {},
   "outputs": [],
   "source": []
  }
 ],
 "metadata": {
  "kernelspec": {
   "display_name": "venvmodel",
   "language": "python",
   "name": "python3"
  },
  "language_info": {
   "codemirror_mode": {
    "name": "ipython",
    "version": 3
   },
   "file_extension": ".py",
   "mimetype": "text/x-python",
   "name": "python",
   "nbconvert_exporter": "python",
   "pygments_lexer": "ipython3",
   "version": "3.10.15"
  }
 },
 "nbformat": 4,
 "nbformat_minor": 2
}
